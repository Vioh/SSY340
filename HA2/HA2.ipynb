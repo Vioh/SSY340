{
 "cells": [
  {
   "cell_type": "markdown",
   "metadata": {},
   "source": [
    "### Checklist for submission\n",
    "\n",
    "It is extremely important to make sure that:\n",
    "\n",
    "1. Everything runs as expected (no bugs when running cells);\n",
    "2. The output from each cell corresponds to its code (don't change any cell's contents without rerunning it afterwards);\n",
    "3. All outputs are present (don't delete any of the outputs);\n",
    "4. Fill in all the places that say `YOUR CODE HERE`, or \"**Your answer:** (fill in here)\".\n",
    "5. You **ONLY** change the parts of the code we asked you to, nowhere else (change only the coding parts saying `# YOUR CODE HERE`, nothing else);\n",
    "6. Don't add any new cells to this notebook;\n",
    "7. Fill in your group number and the full names of the members in the cell below;\n",
    "8. Make sure that you are not running an old version of IPython (we provide you with a cell that checks this, make sure you can run it without errors).\n",
    "\n",
    "Failing to meet any of these requirements might lead to either a subtraction of POEs (at best) or a request for resubmission (at worst).\n",
    "\n",
    "We advise you the following steps before submission for ensuring that requirements 1, 2, and 3 are always met: **Restart the kernel** (in the menubar, select Kernel$\\rightarrow$Restart) and then **run all cells** (in the menubar, select Cell$\\rightarrow$Run All). This might require a bit of time, so plan ahead for this (and possibly use Google Cloud's GPU in HA1 and HA2 for this step). Finally press the \"Save and Checkout\" button before handing in, to make sure that all your changes are saved to this .ipynb file."
   ]
  },
  {
   "cell_type": "markdown",
   "metadata": {},
   "source": [
    "---\n",
    "\n",
    "Group number and member names:"
   ]
  },
  {
   "cell_type": "code",
   "execution_count": 16,
   "metadata": {},
   "outputs": [],
   "source": [
    "GROUP = \"43\"\n",
    "NAME1 = \"Edvin Agnas\"\n",
    "NAME2 = \"Hai Dinh\""
   ]
  },
  {
   "cell_type": "markdown",
   "metadata": {},
   "source": [
    "Make sure you can run the following cell without errors."
   ]
  },
  {
   "cell_type": "code",
   "execution_count": 17,
   "metadata": {},
   "outputs": [],
   "source": [
    "import IPython\n",
    "assert IPython.version_info[0] >= 3, \"Your version of IPython is too old, please update it.\""
   ]
  },
  {
   "cell_type": "markdown",
   "metadata": {},
   "source": [
    "---"
   ]
  },
  {
   "cell_type": "markdown",
   "metadata": {
    "deletable": false,
    "editable": false,
    "nbgrader": {
     "checksum": "f19467ab4786e36e3793ec0a949a3872",
     "grade": false,
     "grade_id": "cell-5f64122350a250b4",
     "locked": true,
     "schema_version": 1,
     "solution": false
    }
   },
   "source": [
    "# HA2 - Recurrent Neural Networks\n",
    "\n",
    "Welcome to the second group home assignment!  \n",
    "The purpose of this assigment is to give you practical knowledge in how to implement recurrence in a neural network.  \n",
    "\n",
    "Every day you are exposed to sequences of data. For example text, video streams, audio, financial time series and medical sensors. Recurrence is therefore an important topic in the field of Machine Learning because it has the potential to solve real-world problems including the types of data above.  \n",
    "\n",
    "In this assignment, you will learn to:\n",
    " - Preprocess text data sets\n",
    " - Implement a vanilla RNN cell using only numpy\n",
    " - Text generation\n",
    " - Build a recurrent neural network with LSTM using Keras  \n",
    " - Neural machine translation\n",
    "\n",
    "**NOTE:** Task 1 (Shallow vanilla RNN) and Task 2 (Neural machine translation), are independent from each other. Task 2 asks you to train a NMT, which takes a while (specially without a GPU), so it might be efficient to start with task 2 and leave it running in the background while you solve task 1.\n",
    "\n",
    "Table of Contents:  \n",
    " [1 Shallow vanilla RNN](#1)  \n",
    "   [1.1 Preprocessing](#1.1)  \n",
    "     [1.1.1 Loading dataset](#1.1.1)  \n",
    "     [1.1.2 One-hot representations](#1.1.2)  \n",
    "   [1.2 RNN cell class](#1.2)  \n",
    "   [1.3 Training the RNN](#1.3)  \n",
    " [2 Neural machine translation](#2)  \n",
    "   [2.1 Pre-processing](#2.1)  \n",
    "     [2.1.1 Loading and inspecting dataset](#2.1.1)  \n",
    "     [2.1.2 Cleaning the dataset](#2.1.2)  \n",
    "     [2.1.3 Restricting sentence length and shuffling the data set](#2.1.3)  \n",
    "     [2.1.4 Word-to-index and index-to-word conversions](#2.1.4)  \n",
    "     [2.1.5 Padding](#2.1.5)  \n",
    "     [2.1.6 One-hot labels](#2.1.6)  \n",
    "   [2.2 Implementing a sequence-to-sequence model](#2.2)  \n",
    "     [2.2.1 Defining the architecture](#2.2.1)  \n",
    "     [2.2.2 Training the model](#2.2.2)  \n",
    "     [2.2.3 Evalutation](#2.2.3)  \n",
    "     [2.2.4 Testing](#2.2.4)  \n",
    "     \n",
    "**NOTE**: The tests available are not exhaustive, meaning that if you pass a test you have avoided the most common mistakes, but it is still not guaranteed that you solution is 100% correct."
   ]
  },
  {
   "cell_type": "markdown",
   "metadata": {
    "deletable": false,
    "editable": false,
    "nbgrader": {
     "checksum": "ba23d62a14b6319db7d7e4056c2a3631",
     "grade": false,
     "grade_id": "cell-e3df9ba622ac9b73",
     "locked": true,
     "schema_version": 1,
     "solution": false
    }
   },
   "source": [
    "## 1 Shallow vanilla RNN <a class=\"anchor\" id=\"1\"></a>\n",
    "In the first part of this assignment, you will implement a recurrent neural network from scratch without using any framework. You will train this network to predict the next character of a text, which will result in a network that can generate new sentences.  \n",
    "\n",
    "Start by importing dependencies below  "
   ]
  },
  {
   "cell_type": "code",
   "execution_count": 18,
   "metadata": {
    "deletable": false,
    "editable": false,
    "nbgrader": {
     "checksum": "afba6c87700a3a984c4e3dccfa61bfa1",
     "grade": false,
     "grade_id": "cell-625d522e7af1be75",
     "locked": true,
     "schema_version": 1,
     "solution": false
    }
   },
   "outputs": [],
   "source": [
    "import numpy as np\n",
    "import copy\n",
    "import matplotlib.pyplot as plt\n",
    "from utils.tests.ha2Tests import *"
   ]
  },
  {
   "cell_type": "markdown",
   "metadata": {
    "deletable": false,
    "editable": false,
    "nbgrader": {
     "checksum": "d1e46aaed7aaad0c16768220a8439c71",
     "grade": false,
     "grade_id": "cell-161d4d51d8efd9a0",
     "locked": true,
     "schema_version": 1,
     "solution": false
    }
   },
   "source": [
    "### 1.1 Preprocessing <a class=\"anchor\" id=\"1.1\"></a>\n",
    "#### 1.1.1 Loading data set <a class=\"anchor\" id=\"1.1.1\"></a>\n",
    "The text corpus to train your RNN on is going to be the book The metamorphosis by Franz Kafka. Run the cell below to load the text."
   ]
  },
  {
   "cell_type": "code",
   "execution_count": 19,
   "metadata": {
    "deletable": false,
    "editable": false,
    "nbgrader": {
     "checksum": "88ebbbf552d6a670317d098cce99d154",
     "grade": false,
     "grade_id": "cell-eddd3178e98f6819",
     "locked": true,
     "schema_version": 1,
     "solution": false
    }
   },
   "outputs": [
    {
     "name": "stdout",
     "output_type": "stream",
     "text": [
      "data has 118560 chars, 62 unique\n"
     ]
    }
   ],
   "source": [
    "data = open('./utils/kafka.txt', 'r', encoding=\"utf-8\").read()\n",
    "\n",
    "chars = list(set(data)) \n",
    "data_size, vocab_size = len(data), len(chars)\n",
    "print('data has %d chars, %d unique' % (data_size, vocab_size))"
   ]
  },
  {
   "cell_type": "markdown",
   "metadata": {
    "deletable": false,
    "editable": false,
    "nbgrader": {
     "checksum": "9f80e54d3658a982d5bd894a20d4d82f",
     "grade": false,
     "grade_id": "cell-7e993f61d8a98a13",
     "locked": true,
     "schema_version": 1,
     "solution": false
    }
   },
   "source": [
    "#### 1.1.2 One-hot representations <a class=\"anchor\" id=\"1.1.2\"></a>\n",
    "`data` is now a string, containing the contents of the book, with 80 unique characters. As usual, converting the labels (that is also the data in our case) into one-hot vectors is a good way for creating unbiased labels.  \n",
    "\n",
    "Below is a variable `one_hot_vectors` defined that maps every character in `chars` to a unique one-hot vector  "
   ]
  },
  {
   "cell_type": "code",
   "execution_count": 21,
   "metadata": {
    "deletable": false,
    "editable": false,
    "nbgrader": {
     "checksum": "609241821c3eb4ce1b929a9c727f355c",
     "grade": false,
     "grade_id": "cell-547e8c9d5874c36e",
     "locked": true,
     "schema_version": 1,
     "solution": false
    }
   },
   "outputs": [],
   "source": [
    "one_hot_vectors = np.eye(len(chars))\n",
    "char_to_onehot = { val: one_hot_vectors[key,:].reshape(1,-1) for key, val in enumerate(chars) }"
   ]
  },
  {
   "cell_type": "markdown",
   "metadata": {
    "deletable": false,
    "editable": false,
    "nbgrader": {
     "checksum": "aa4da6c7dea9d40f5272f05f2c1d6f9f",
     "grade": false,
     "grade_id": "cell-05d8c9b256c98f8e",
     "locked": true,
     "schema_version": 1,
     "solution": false
    }
   },
   "source": [
    "### 1.2 RNN cell class <a class=\"anchor\" id=\"1.2\"></a>\n",
    "\n",
    "Now you will implement the RNN class. For your convenience, this task is split into 4 subtasks, one for each method of the class. These methods will be later linked to a class definition (if you're curious, scroll down to 1.2.5).\n",
    "\n",
    "Instead of implementing a neural network of arbitrary length like in **IHA1**, you are only going to implement a single RNN cell. At each time-step, the RNN cell will have one input, $\\mathbf{x}_t$ , one hidden layer with a hidden state $\\mathbf{h}_t$, and one output $\\mathbf{y}_t$:"
   ]
  },
  {
   "cell_type": "markdown",
   "metadata": {
    "deletable": false,
    "editable": false,
    "nbgrader": {
     "checksum": "7ed0bfaac4000d97728b03afb10071a8",
     "grade": false,
     "grade_id": "cell-3a5034fe7f3b2df3",
     "locked": true,
     "schema_version": 1,
     "solution": false
    }
   },
   "source": [
    "![Simple RNN cell](utils/images/RNN-cell.png)"
   ]
  },
  {
   "cell_type": "markdown",
   "metadata": {
    "deletable": false,
    "editable": false,
    "nbgrader": {
     "checksum": "42e1be4c7ad74323a713e6cbc61a3533",
     "grade": false,
     "grade_id": "cell-719152523ee5b5b6",
     "locked": true,
     "schema_version": 1,
     "solution": false
    }
   },
   "source": [
    "The output at time-step $t$, referred to as $\\mathbf{y}_t$, is computed according to the following equations. Equation 1 and 2 together define the next hidden state $\\mathbf{h}_t$, and Equation 3 defines the unnormalized probability output $\\mathbf{z}_t$."
   ]
  },
  {
   "cell_type": "markdown",
   "metadata": {
    "deletable": false,
    "editable": false,
    "nbgrader": {
     "checksum": "ca5169401c992cb557a7e99f45e9405a",
     "grade": false,
     "grade_id": "cell-433ba61c3d3149cb",
     "locked": true,
     "schema_version": 1,
     "solution": false
    }
   },
   "source": [
    "$$\n",
    "\\mathbf{z}_t =  \\mathbf{x}_t \\mathbf{W}_{xh} + \\mathbf{h}_{t-1} \\mathbf{W}_{hh} + \\mathbf{b}_h, \\tag{1}\n",
    "$$\n",
    "$$\n",
    "\\mathbf{h}_t = \\tanh (\\mathbf{z}_t), \\tag{2}\n",
    "$$\n",
    "$$\n",
    "\\mathbf{y}_t =  \\mathbf{h}_t \\mathbf{W}_{hy} + \\mathbf{b}_y, \\tag{3}\n",
    "$$\n",
    "\n",
    "where $\\mathbf{W}_{xh}$, $\\mathbf{W}_{hh}$, $\\mathbf{W}_{hy}$, $\\mathbf{b}_{h}$, and $\\mathbf{b}_{y}$ are the parameters of the RNN cell."
   ]
  },
  {
   "cell_type": "markdown",
   "metadata": {
    "deletable": false,
    "editable": false,
    "nbgrader": {
     "checksum": "6db71b1252e96bb33a732c034090ba57",
     "grade": false,
     "grade_id": "cell-651ce67679087d00",
     "locked": true,
     "schema_version": 1,
     "solution": false
    }
   },
   "source": [
    "Calculating $\\mathbf{h}_{30}$ means that you need to need to have calculated every earlier hidden state $\\{\\mathbf{h}_t | t \\in \\{0, 1, ..., 29\\}\\}$. This can easier be understood by always imagining an unrolled RNN cell:\n",
    "![Simple RNN cell unrolled](utils/images/RNN-cell-unrolled.png)\n",
    "  \n",
    "\n",
    "Since it is a multiclass classification problem, the softmax activation function is going to be used to normalize the output of the RNN cell $\\mathbf{y}_t$, defined as\n",
    "\n",
    "$$\n",
    "\\mathbf{p}_t = softmax(\\mathbf{y}_t) = \\frac{e^{\\mathbf{y}_t - max(\\mathbf{y_t})}}{ \\sum^j e^{y_{j_t} - max(\\mathbf{y_t})}}. \\tag{4}\n",
    "$$"
   ]
  },
  {
   "cell_type": "markdown",
   "metadata": {
    "deletable": false,
    "editable": false,
    "nbgrader": {
     "checksum": "ba386cb1102d60da82adaa9b0deec8af",
     "grade": false,
     "grade_id": "cell-d98b57a52debcfcf",
     "locked": true,
     "schema_version": 1,
     "solution": false
    }
   },
   "source": [
    "#### 1.2.1 The initalization method\n",
    "\n",
    "The first step in creating the RNN class is to create its `__init__` method, where we create all the necessary attributes and initialize them. Complete the `init_routine` function below. Later this will be linked to the `__init__` method in the `SimpleRNN` class, so you're now developing the constructor of that class."
   ]
  },
  {
   "cell_type": "code",
   "execution_count": 20,
   "metadata": {
    "deletable": false,
    "nbgrader": {
     "checksum": "0ab240474adc0f910903ac2a9321bb6b",
     "grade": true,
     "grade_id": "cell-c54cfa041a653943",
     "locked": false,
     "points": 0,
     "schema_version": 1,
     "solution": true
    }
   },
   "outputs": [],
   "source": [
    "def init_routine(self, input_dim, hidden_dim, output_dim):\n",
    "    \"\"\"\n",
    "    Initialize the weights of the RNN and define a cache with the starting value of the hidden state\n",
    "\n",
    "    Arguments:\n",
    "    self - an object of the class SimpleRNN\n",
    "    input_dim - an integer representing the number of inputs\n",
    "    hidden_dim - an integer representing the length of the hidden state vector\n",
    "    output_dim - an integer representing the number of outputs\n",
    "\n",
    "    Attributes:\n",
    "    input_dim - attribute initialized with the value of the argument `input_dim`\n",
    "    cache - a dictionary holding the values of `h_start`, `xs` and `hs` from the previous forward propagation call.\n",
    "            h_start - the value to initialize the hidden state with when `forward_prop is called. The value of\n",
    "                      `h_start` should be initialized to a `numpy.ndarray` vector of zeros \n",
    "            xs - the list of `xs` used in the last `forward_prop` call. Later used in `backward_prop`. Can be\n",
    "                 initialized to `None`\n",
    "            hs - the list of `hs` calculated in the last `forward_prop` call. Later used in `backward_prop`. Can\n",
    "                 be initialized to `None`\n",
    "    W_hh - weight matrix of shape (hidden_dim, hidden_dim) and type `numpy.ndarray`. \n",
    "           Initialized randomly from a normal distribution of mean zero and stddev 0.01\n",
    "    W_xh - weight matrix of shape (input_dim, hidden_dim) and type `numpy.ndarray`. \n",
    "           Initialized randomly from a normal distribution of mean zero and stddev 0.01\n",
    "    W_hy - weight matrix of shape (hidden_dim, output_dim) and type `numpy.ndarray`. \n",
    "           Initialized randomly from a normal distribution of mean zero and stddev 0.01\n",
    "    b_h -  bias of shape (1, hidden_dim) and type `numpy.ndarray`. Initialized to all zeros\n",
    "    b_y -  bias of shape (1, output_dim) and type `numpy.ndarray`. Initialized to all zeros\n",
    "    \"\"\"\n",
    "\n",
    "    mu, stdev = 0, 0.01\n",
    "    self.input_dim = input_dim\n",
    "    self.cache = {\n",
    "        'h_start': np.zeros((1, hidden_dim)),\n",
    "        'xs': None,\n",
    "        'hs': None\n",
    "    }\n",
    "    self.W_hh = np.random.normal(mu, stdev, (hidden_dim, hidden_dim))\n",
    "    self.W_xh = np.random.normal(mu, stdev, (input_dim, hidden_dim))\n",
    "    self.W_hy = np.random.normal(mu, stdev, (hidden_dim, output_dim))\n",
    "    self.b_h = np.zeros((1, hidden_dim))\n",
    "    self.b_y = np.zeros((1, output_dim))\n",
    "    "
   ]
  },
  {
   "cell_type": "markdown",
   "metadata": {
    "deletable": false,
    "editable": false,
    "nbgrader": {
     "checksum": "5f3fd0e811e9068cf8230649b148da21",
     "grade": false,
     "grade_id": "cell-e90af5372d951d74",
     "locked": true,
     "schema_version": 1,
     "solution": false
    }
   },
   "source": [
    "The following cell tests if your implementation is correct."
   ]
  },
  {
   "cell_type": "code",
   "execution_count": 22,
   "metadata": {
    "deletable": false,
    "editable": false,
    "nbgrader": {
     "checksum": "00c3497a25df57a35a4d08cdb3406074",
     "grade": false,
     "grade_id": "cell-9595194787574666",
     "locked": true,
     "schema_version": 1,
     "solution": false
    }
   },
   "outputs": [
    {
     "name": "stdout",
     "output_type": "stream",
     "text": [
      "test init passed\n"
     ]
    }
   ],
   "source": [
    "test_init_routine(init_routine)"
   ]
  },
  {
   "cell_type": "markdown",
   "metadata": {
    "deletable": false,
    "editable": false,
    "nbgrader": {
     "checksum": "e8b75e936deebb02f55f7ee19fdeb7f1",
     "grade": false,
     "grade_id": "cell-81027fe5c9d77a7b",
     "locked": true,
     "schema_version": 1,
     "solution": false
    }
   },
   "source": [
    "#### 1.2.2 Forward propagation\n",
    "\n",
    "Now that we have an initialization method for declaring objects of our class, we need a method for performing the forward propagation step. Complete the `forward_prop_routine` function. This will later be linked to the `forward_prop` routine of the `SimpleRNN` class. "
   ]
  },
  {
   "cell_type": "code",
   "execution_count": 23,
   "metadata": {
    "deletable": false,
    "nbgrader": {
     "checksum": "0c3a5e91dfe32670754498a08282ad6f",
     "grade": true,
     "grade_id": "cell-76c90350a75c8c65",
     "locked": false,
     "points": 0,
     "schema_version": 1,
     "solution": true
    }
   },
   "outputs": [],
   "source": [
    "def forward_prop_routine(self, xs, reset_h=False):\n",
    "    \"\"\"\n",
    "    Performs forward propagation of the input `xs` in sequential order, and then returns all predictions `ys_pred`\n",
    "    The steps are: [Input x] -> [Hidden h] -> [Output unnormalized z] -> [Prediction probabilities y]\n",
    "\n",
    "    Arguments:\n",
    "    xs - a python list of one-hot characters to predict the next character from,\n",
    "         Has a shape of list([1,OUTPUT_DIM]) and length `len(xs)`\n",
    "    reset_h - boolean value, whether or not the hidden state should be reset\n",
    "\n",
    "    Returns:\n",
    "    ys_pred - a python list of prediction probabilities for each character in `xs`. There are `len(xs)`\n",
    "              elements in ys_pred, each element `i` of shape (1, output_dim) and type `numpy.ndarray`\n",
    "              that contains the probabilities of what the next character xs[i+1] can be\n",
    "\n",
    "    Example:\n",
    "    xs - [np.array([0,0,1]), np.array([0,1,0]), np.array([1,0,0])]\n",
    "    ys_pred (ground truth answer) - [np.array([0,1,0]), np.array([1,0,0]), np.array([...])]\n",
    "    \"\"\"\n",
    "    # initialize the list of predictions\n",
    "    ys_pred = [0] * len(xs)\n",
    "\n",
    "    # load the last hidden state of the previous batch\n",
    "    if reset_h:\n",
    "        self.cache['h_start'] = np.zeros((1, self.W_hh.shape[0]))\n",
    "    hs = {-1: self.cache['h_start']}\n",
    "\n",
    "    # forward propagate\n",
    "    for index, item in enumerate(ys_pred):\n",
    "        z = xs[index] @ self.W_xh + hs[index-1] @ self.W_hh + self.b_h\n",
    "        h = np.tanh(z)\n",
    "        y = h @ self.W_hy + self.b_y\n",
    "        p = np.exp(y - np.max(y)) # softmax numerator\n",
    "        p = p / np.sum(p)         # softmax\n",
    "        ys_pred[index] = p\n",
    "        hs[index] = h\n",
    "    \n",
    "    # save list of hidden state in cache to use later in backprop\n",
    "    self.cache = {\n",
    "        'hs': hs,\n",
    "        'xs': xs,\n",
    "        'h_start': hs[len(xs) - 1]\n",
    "    }\n",
    "    return ys_pred"
   ]
  },
  {
   "cell_type": "markdown",
   "metadata": {
    "deletable": false,
    "editable": false,
    "nbgrader": {
     "checksum": "ffe0bd561a59bc4014d8dbf3508a899c",
     "grade": false,
     "grade_id": "cell-0cffc6927767f0fd",
     "locked": true,
     "schema_version": 1,
     "solution": false
    }
   },
   "source": [
    "The following cell tests if your implementation is correct (it assumes you correctly solved task 1.2.1):"
   ]
  },
  {
   "cell_type": "code",
   "execution_count": 24,
   "metadata": {
    "deletable": false,
    "editable": false,
    "nbgrader": {
     "checksum": "ef2fa074e9ad94c1c6d09dbb68d9530c",
     "grade": false,
     "grade_id": "cell-285af3fd03af809c",
     "locked": true,
     "schema_version": 1,
     "solution": false
    }
   },
   "outputs": [
    {
     "name": "stdout",
     "output_type": "stream",
     "text": [
      "test passed, dimensions are correct\n"
     ]
    }
   ],
   "source": [
    "test_forward_prop_routine(init_routine, forward_prop_routine)"
   ]
  },
  {
   "cell_type": "markdown",
   "metadata": {
    "deletable": false,
    "editable": false,
    "nbgrader": {
     "checksum": "b50d16ec08ef9da4541236762dd2283f",
     "grade": false,
     "grade_id": "cell-74f27955261e8417",
     "locked": true,
     "schema_version": 1,
     "solution": false
    }
   },
   "source": [
    "#### 1.2.3 Backward propagation\n",
    "\n",
    "Now that you developed methods for initialization and forward propagation, it's time to implement the backward propagation algorithm as a method for our class.\n",
    "\n",
    "The cross-entropy loss will be used for this task, and just like in **IHA1**, backward pass of the softmax activation function and the cross-entropy loss can be combined into a simple formula: $\\mathbf{\\hat{p_t}} - \\mathbf{p_t}$, where $\\mathbf{\\hat{p_t}}$ is the predicted output vector for time step $t$ and $\\mathbf{p_t}$ is the ground truth one-hot vector for time step $t$.\n",
    "The full collection of backward pass formulas that are required for implementing `backward_prop_routine` are shown in Equations 5-12:  \n",
    "\n",
    "$$\n",
    "\\frac{d\\mathcal{L}_t}{d \\mathbf{y}_t}=\\hat{\\mathbf{p}}_t-\\mathbf{p}_t \\tag{5} ~,~ \\text{ for } t=1,\\dots,N, \n",
    "$$\n",
    "\n",
    "$$\n",
    "\\frac{d\\mathcal{L}}{d\\mathbf{W}_{hy}}=\\sum_{t=1}^N\\mathbf{h}_t^T\\frac{d\\mathcal{L}_t}{d \\mathbf{y}_t}, \\tag{6}\n",
    "$$\n",
    "\n",
    "$$\n",
    "\\frac{d\\mathcal{L}}{d\\mathbf{b}_{y}}=\\sum_{t=1}^N\\frac{d\\mathcal{L}_t}{d \\mathbf{y}_t},   \\tag{7}\n",
    "$$\n",
    "\n",
    "$$\n",
    "\\frac{d\\mathcal{L}}{d\\mathbf{h}_t}=\\frac{d \\mathcal{L}_t}{d \\mathbf{y}_t}\\mathbf{W}_{hy}^T+(1-\\mathbf{h}_{t+1}^2)\\odot\\frac{d\\mathcal{L}}{d\\mathbf{h}_{t+1}}\\mathbf{W}_{hh}^T   \\tag{8.1} ~,~ \\text{ for }t=1,\\dots,N-1,\n",
    "$$\n",
    "\n",
    "$$\n",
    "\\frac{d\\mathcal{L}}{d\\mathbf{h}_N}=\\frac{d \\mathcal{L}_t}{d \\mathbf{y}_N}\\mathbf{W}_{hy}^T,   \\tag{8.2}\n",
    "$$\n",
    "\n",
    "$$\n",
    "\\frac{d\\mathcal{L}}{d\\mathbf{z}_t}=(1-\\mathbf{h}_t^2)\\odot\\frac{d\\mathcal{L}}{d\\mathbf{h}_t}   ~,~ \\text{ for } t=1,\\dots,N,\\tag{9}\n",
    "$$\n",
    "\n",
    "$$\n",
    "\\frac{d\\mathcal{L}}{d\\mathbf{W}_{xh}}=\\sum_{t=1}^N\\mathbf{x}_t^T\\frac{d\\mathcal{L}}{d\\mathbf{z}_t},   \\tag{10}\n",
    "$$\n",
    "\n",
    "$$\n",
    "\\frac{d\\mathcal{L}}{d\\mathbf{W}_{hh}}=\\sum_{t=1}^N\\mathbf{h}_{t-1}^T\\frac{d\\mathcal{L}}{d\\mathbf{z}_t},   \\tag{11}\n",
    "$$\n",
    "\n",
    "$$\n",
    "\\frac{d\\mathcal{L}}{d\\mathbf{b}_h}=\\sum_{t=1}^N\\frac{d\\mathcal{L}}{d\\mathbf{z}_t},   \\tag{12}\n",
    "$$\n",
    "where $\\odot$ is the <a href=\"https://en.wikipedia.org/wiki/Hadamard_product_(matrices)\">hadamard product / elementwise multiplication</a>.  \n",
    "\n",
    "Complete the `backward_prop_routine` function below. This will later be linked to the `backward_prop` method of the `SimpleRNN` class."
   ]
  },
  {
   "cell_type": "code",
   "execution_count": 26,
   "metadata": {
    "deletable": false,
    "nbgrader": {
     "checksum": "9c01e4f1d6658f6c2bf47727319ccef0",
     "grade": true,
     "grade_id": "cell-b0ed3463482a9b7a",
     "locked": false,
     "points": 0,
     "schema_version": 1,
     "solution": true
    }
   },
   "outputs": [],
   "source": [
    "def backward_prop_routine(self, ys, ys_pred):\n",
    "    \"\"\"\n",
    "    Performs backward propagation, calculating the gradients of every trainable weight. The gradients should\n",
    "    be clipped into the interval [-5,5]\n",
    "\n",
    "    Arguments:\n",
    "    ys - a python list of true labels (one-hot vectors of type `numpy.ndarray` for every character to predict)\n",
    "         has a shape list( (1,OUTPUT_DIM) )\n",
    "    ys_pred - a python list of predicted labels (one-hot vectors of type `numpy.ndarray` for every character predicted)\n",
    "         has a shape list( (1,OUTPUT_DIM) )\n",
    "\n",
    "    Returns:\n",
    "    gradients - a dictionary of the gradients of every trainable weight. The keys are the weight variable names\n",
    "                and the values are the actual gradient value\n",
    "    \"\"\"\n",
    "    # extract from cache\n",
    "    hs = self.cache['hs']\n",
    "    xs = self.cache['xs']\n",
    "    \n",
    "    # intialize all variables\n",
    "    N = len(ys)\n",
    "    db_h = db_y = dW_hy = dW_xh = dW_hh = 0.0\n",
    "    y_gradients = [ys_pred[t] - ys[t] for t in range(N)]\n",
    "    \n",
    "    # loop over all time steps to compute gradients w.r.t each hiddent state\n",
    "    h_gradients = [y_gradients[t] @ self.W_hy.T for t in range(N)]\n",
    "    for t in range(N-1, 0, -1):\n",
    "        h_gradients[t-1] += (1 - hs[t] * hs[t]) * h_gradients[t] @ self.W_hh.T\n",
    "\n",
    "    # loop over each time step to accumulate the gradients\n",
    "    for t in range(N):\n",
    "        dz_t = (1 - hs[t] * hs[t]) * h_gradients[t]\n",
    "        db_h += dz_t\n",
    "        db_y += y_gradients[t]\n",
    "        dW_hy += hs[t].T @ y_gradients[t]\n",
    "        dW_xh += xs[t].T @ dz_t\n",
    "        dW_hh += hs[t-1].T @ dz_t\n",
    "        \n",
    "    # clip gradients to prevent explosion\n",
    "    for dparam in [dW_xh, dW_hh, dW_hy, db_h, db_y]:\n",
    "        np.clip(dparam, -5, 5, out=dparam)\n",
    "\n",
    "    # save gradients into dict and return\n",
    "    gradients = {\n",
    "        'W_xh': dW_xh, \n",
    "        'W_hh': dW_hh, \n",
    "        'W_hy': dW_hy, \n",
    "        'b_h': db_h, \n",
    "        'b_y': db_y\n",
    "    }\n",
    "    return gradients"
   ]
  },
  {
   "cell_type": "markdown",
   "metadata": {
    "deletable": false,
    "editable": false,
    "nbgrader": {
     "checksum": "78bd713cb2cf1e6db5d95f5d9e7d3f63",
     "grade": false,
     "grade_id": "cell-277e664111175140",
     "locked": true,
     "schema_version": 1,
     "solution": false
    }
   },
   "source": [
    "The following cell tests if your implementation is correct (it assumes you correctly solved tasks 1.2.1 and 1.2.2):"
   ]
  },
  {
   "cell_type": "code",
   "execution_count": 27,
   "metadata": {
    "deletable": false,
    "editable": false,
    "nbgrader": {
     "checksum": "4f82f89395a7f4650b44dadf40098f61",
     "grade": false,
     "grade_id": "cell-6c90c566fcf8388f",
     "locked": true,
     "schema_version": 1,
     "solution": false
    }
   },
   "outputs": [
    {
     "name": "stdout",
     "output_type": "stream",
     "text": [
      "Your BPTT implementation is correct.\n"
     ]
    }
   ],
   "source": [
    "test_backward_prop_routine(init_routine, forward_prop_routine, backward_prop_routine)"
   ]
  },
  {
   "cell_type": "markdown",
   "metadata": {
    "deletable": false,
    "editable": false,
    "nbgrader": {
     "checksum": "7e173be209fcee69b1bb2b90b57efc1f",
     "grade": false,
     "grade_id": "cell-27bb37bddc1c8291",
     "locked": true,
     "schema_version": 1,
     "solution": false
    }
   },
   "source": [
    "#### 1.2.4 Applying the gradients\n",
    "\n",
    "Finally, we need a method that updates the paramters of the RNN cell, given the computed gradients of the loss with respect to each one of them. Complete the `apply_gradients_routine` function below. This will later be linked to the `apply_gradients` method of the `SimpleRNN` class."
   ]
  },
  {
   "cell_type": "code",
   "execution_count": 28,
   "metadata": {
    "deletable": false,
    "nbgrader": {
     "checksum": "02925c28cb85c2167afded8f143c7dee",
     "grade": true,
     "grade_id": "cell-86233bb4464c563d",
     "locked": false,
     "points": 0,
     "schema_version": 1,
     "solution": true
    }
   },
   "outputs": [],
   "source": [
    "def apply_gradients_routine(self, gradients, learning_rate):\n",
    "    \"\"\" Performs the weight update procedure. Updates every weight with its corresponding gradient \n",
    "    found in the `gradients` input dictionary\n",
    "\n",
    "    Arguments:\n",
    "    gradients - dictionary containing (key, value) pairs, where the key is a weight variable name of\n",
    "                the `SimpleRNN` class and the value is the gradient to apply to the matching weight\n",
    "                Example: {'W_xh':0.04, 'b_h':0.11}\n",
    "    learning_rate - the learning rate to use for this iteration of weight updates\n",
    "    \"\"\"\n",
    "    self.W_xh -= learning_rate * gradients['W_xh']\n",
    "    self.W_hh -= learning_rate * gradients['W_hh']\n",
    "    self.W_hy -= learning_rate * gradients['W_hy']\n",
    "    self.b_h -= learning_rate * gradients['b_h']\n",
    "    self.b_y -= learning_rate * gradients['b_y']"
   ]
  },
  {
   "cell_type": "markdown",
   "metadata": {
    "deletable": false,
    "editable": false,
    "nbgrader": {
     "checksum": "d89888760cc8351156dd4b38e2e37357",
     "grade": false,
     "grade_id": "cell-0660819488941eb7",
     "locked": true,
     "schema_version": 1,
     "solution": false
    }
   },
   "source": [
    "The following cell tests if your implementation is correct (it assumes you correctly solved task 1.2.1):"
   ]
  },
  {
   "cell_type": "code",
   "execution_count": 29,
   "metadata": {
    "deletable": false,
    "editable": false,
    "nbgrader": {
     "checksum": "5636499fd3046ff01566a81b29f477e2",
     "grade": false,
     "grade_id": "cell-bb2cdea3e67c6a3b",
     "locked": true,
     "schema_version": 1,
     "solution": false
    }
   },
   "outputs": [
    {
     "name": "stdout",
     "output_type": "stream",
     "text": [
      "test apply gradients passed\n"
     ]
    }
   ],
   "source": [
    "test_apply_gradients_routine(init_routine, apply_gradients_routine)"
   ]
  },
  {
   "cell_type": "markdown",
   "metadata": {
    "deletable": false,
    "editable": false,
    "nbgrader": {
     "checksum": "1fef1cc499275c4ad36e86c6b06f11c6",
     "grade": false,
     "grade_id": "cell-30440dc54623f06c",
     "locked": true,
     "schema_version": 1,
     "solution": false
    }
   },
   "source": [
    "#### 1.2.5 Putting everything together\n",
    "Now that all the parts of the RNN are implemented, we can define the class. The following cell defines the `SimpleRNN` class, linking all the functions you developed in the earlier tasks to corresponding methods. Additionally, it also implements another method, the `sample`, used to generate output from a trained RNN. Note that you don't have to change anything in this cell, just run it after solving the previous tasks."
   ]
  },
  {
   "cell_type": "code",
   "execution_count": 30,
   "metadata": {
    "deletable": false,
    "editable": false,
    "nbgrader": {
     "checksum": "5036021730af040e49d53fd5f45cb5d5",
     "grade": false,
     "grade_id": "cell-126a1305361a1287",
     "locked": true,
     "schema_version": 1,
     "solution": false
    }
   },
   "outputs": [],
   "source": [
    "class SimpleRNN:\n",
    "    \"\"\"\n",
    "    The simple RNN class definition\n",
    "    Implements the initializations of the weights, the forward propagation from `x` to `y_pred`,\n",
    "    the backward propagation with respect to each trainable weight and the update weights rule.\n",
    "    \"\"\"\n",
    "    \n",
    "    # __init__ method is now the initialization_routine function\n",
    "    __init__ = init_routine\n",
    "        \n",
    "    # forward_prop method is the forward_prop_routine function\n",
    "    forward_prop = forward_prop_routine\n",
    "    \n",
    "    # backward_prop method is the backward_prop_routine function\n",
    "    backward_prop = backward_prop_routine\n",
    "    \n",
    "    # apply_gradients method is the apply_gradients_routine function\n",
    "    apply_gradients = apply_gradients_routine\n",
    "\n",
    "\n",
    "    def sample(self, seed, n, char_to_onehot, chars):\n",
    "        \"\"\" Given a seed character `seed`, generates a sequence of `n` characters by continuously feeding the output\n",
    "        character of the RNN at time t as the input for the next time step at time t+1. If the RNN is trained well, \n",
    "        this method should be able to generate sentences that resembles some kind of structure. \n",
    "        The character should be generated with a probability of the outputs of the network!\n",
    "        \n",
    "        Arguments:\n",
    "        seed - a first character of type str to feed into the SimpleRNN\n",
    "        n - the length of the character sequence to generate\n",
    "        char_to_onehot - a dict that maps keys of characters to its one-hot representation. \n",
    "                         You created this dict earlier in the lab\n",
    "        char - a list of chars (vocabulary). You also created this list earlier in the lab\n",
    "        \"\"\"\n",
    "        \n",
    "        saved_cache = copy.deepcopy(self.cache)\n",
    "        \n",
    "        char_list = []\n",
    "        h = self.cache['h_start']\n",
    "\n",
    "        # seed one-hot char\n",
    "        x = char_to_onehot[seed]\n",
    "\n",
    "        for t in range(n):\n",
    "            \"\"\" not relevant anymore\n",
    "            # perform forward prop. `forward_prop` is not called because then the hidden state for the\n",
    "            # training procedure will be overwritten by the hidden state generates by this sampling procedure\n",
    "            h = np.tanh(np.dot(x, self.W_xh) + np.dot(h, self.W_hh) + self.b_h)\n",
    "            y = np.dot(h, self.W_hy) + self.b_y\n",
    "            p = np.exp(y) / np.sum(np.exp(y))\n",
    "            \"\"\"\n",
    "            p = self.forward_prop(x)[0]\n",
    "            \n",
    "            # randomly pick a character with respect to the probabilities of the output of the network\n",
    "            ix = np.random.choice(range(self.input_dim), p=p.ravel())\n",
    "\n",
    "            x = np.zeros((1, self.input_dim))   \n",
    "            x[0,ix] = 1\n",
    "\n",
    "            # save the generated character\n",
    "            char_list.append(chars[ix])\n",
    "            \n",
    "        self.cache = saved_cache\n",
    "\n",
    "        return ''.join(char_list)"
   ]
  },
  {
   "cell_type": "markdown",
   "metadata": {
    "deletable": false,
    "editable": false,
    "nbgrader": {
     "checksum": "2e2745ec97c2751a6491248946136dba",
     "grade": false,
     "grade_id": "cell-aaa08e666d9fed34",
     "locked": true,
     "schema_version": 1,
     "solution": false
    }
   },
   "source": [
    "### 1.3 Training the RNN <a class=\"anchor\" id=\"1.3\"></a>\n",
    "In this section, code has been provided to you to train a `SimpleRNN` cell by predicting the next charcter in sequence.  \n",
    "\n",
    "The code below has the following properties: \n",
    " * Loop over `data`, using `seq_length` words at a time as a batch to train with\n",
    " * When `data` has been fully iterated through, start over again\n",
    " * Start over again with `data` in an infinite loop and then interrupt the running cell\n",
    " when results from `sample` are good enough.  \n",
    " * Perform `forward_prop`, `backward_prop` and  `apply_gradients` with each batch of characters\n",
    " * every 1000th iteration:\n",
    "     * compute the cross-entropy loss of the current batch\n",
    "     * sample a character sequence of length 200\n",
    "     * print the loss and the sampled sequence"
   ]
  },
  {
   "cell_type": "code",
   "execution_count": null,
   "metadata": {},
   "outputs": [],
   "source": [
    "rnn = SimpleRNN(len(chars), 500, len(chars))\n",
    "\n",
    "# the number of characters to perform one update of the network with,\n",
    "# can be thought of as a batch\n",
    "seq_length = 25\n",
    "\n",
    "# the learning rate to use\n",
    "learning_rate = 0.001\n",
    "\n",
    "while True: # the infinite loop\n",
    "    \n",
    "    # iterate over the data set\n",
    "    for i in range(len(data)//seq_length):\n",
    "        \n",
    "        # convert to one-hot\n",
    "        xs = [char_to_onehot[c] for c in data[i*seq_length:(i+1)*seq_length]]#inputs to the RNN\n",
    "        ys = [char_to_onehot[c] for c in data[i*seq_length+1:(i+1)*seq_length+1]]#the targets it should be outputting\n",
    "\n",
    "        # fp, bp and update\n",
    "        ys_pred = rnn.forward_prop(xs)\n",
    "        gradients = rnn.backward_prop(ys, ys_pred)\n",
    "        rnn.apply_gradients(gradients, learning_rate)\n",
    "\n",
    "        # print loss and sample a sentence every 1000th iteration\n",
    "        if i%1000==0:\n",
    "            loss = np.sum([ -1.0 *np.sum(y * np.log(y_pred + 1e-8)) for y, y_pred in zip(ys, ys_pred) ]) # x-entropy\n",
    "            print('iteration %d, loss: %f' % (i, loss))\n",
    "            text = rnn.sample('a', 200, char_to_onehot, chars)\n",
    "            print(text, end='\\n\\n')"
   ]
  },
  {
   "cell_type": "markdown",
   "metadata": {
    "deletable": false,
    "editable": false,
    "nbgrader": {
     "checksum": "8656704cd15109f98b427a7defe0fa1b",
     "grade": false,
     "grade_id": "cell-31b8664715bebff9",
     "locked": true,
     "schema_version": 1,
     "solution": false
    }
   },
   "source": [
    "Run the following cell to produce sentences using the trained RNN:"
   ]
  },
  {
   "cell_type": "code",
   "execution_count": 32,
   "metadata": {
    "deletable": false,
    "editable": false,
    "nbgrader": {
     "checksum": "5a947804c59cbf08c78563e7d7c9c51f",
     "grade": false,
     "grade_id": "cell-ed2dd488942f6809",
     "locked": true,
     "schema_version": 1,
     "solution": false
    }
   },
   "outputs": [
    {
     "name": "stdout",
     "output_type": "stream",
     "text": [
      "------ Sentence 0: ------\n",
      "s car hn oshs wsis sbeed borl isipHtm not edsed r lo gihuc hr eo we une  wnt uoe Hloo whq aalre honyhp tntess tolrs onmsrzB wh hih gieerd ufims frgnor gae olnHwnrnbd ale har tor atu ibd xatduce wrm co\n",
      "------ Sentence 1: ------\n",
      " ;aen hily hhvuam re lnos iyeb pa, bae sr wo wyr wo in gi rrusn agsilo jhr me ,oly ee gk lea swod get ig hresitlk ool ld inm hnuFt nr te moa anunte wre ehn tonne no htmlhslawe, do) chs ptnp wunG twir \n",
      "------ Sentence 2: ------\n",
      "l wo bjiws ohy rhbr aodm tvrp wht ossrnc nbt el  ta' fonoa fhlnswlexrewmni w,oBa. cae oblid Yor,e hest) eys ond pet ,e ttsh xd worugegctl lonoi bi pas wms, hie yh e nmitn fosrr mewa cto xa wnu se hav \n",
      "------ Sentence 3: ------\n",
      "ir tolu Iil tonom tr  nr ddtl te, ahe oo Or,d pht  aomn, bole nh t rs heeasi sysrtho Mosr tod gier thaty zkwags storw. cle ho d, win lde ,leo,nd uwd fhla aeC hnr ,o nosl, oimaee tas iity eh\" wae chf a\n",
      "------ Sentence 4: ------\n",
      "iy s Ue meu hob ir yo, drrt ,i porooems tith fat pmd sf wauasss tois hote he, naw  ootue hah ra oa rnu ty whubi hk an loirt aaH, thethe gero onon fo anr aogml !aera\n",
      "t eor ha worumirc wous Dos tsnoce f\n",
      "------ Sentence 5: ------\n",
      "esrd upn uag wee the wi wmen gan tslia mpnd th uhe vis sisiaib istpnh goqd si\n",
      " col )a , we svyt latb tn tyedk ma anrr sanee  hiy he hotv nly ; nhg ito ses ut me wreapece hs, sc tptd muhm anri se oiry \n",
      "------ Sentence 6: ------\n",
      " ,Id 'llrp yh wse hit tsv oat he witsadec, tsy kod la,d oopae nt ohnd wte b,d tud nie tapwtrl t;n kan  hls tnunerta wi;trlr,od Wags uiver tdW wcuee dhe rigr ryrhe tnv hen sn'es tio ocd ss isee uo wgsr\n",
      "------ Sentence 7: ------\n",
      "t he ebc yee dbtts efar'clp gn whrs tc tiaEe fasr c hit ,oatotwl; tt st a were bol tovo ridn,utbfi cuad aen hhele hatr oe eosk, :age iiigs ;edctso nhm nelt seb wm nm,n the pue way ros aik oe sodL rerb\n",
      "------ Sentence 8: ------\n",
      "mlimwem sai Gosrel rorl arnuh Qod wklws thm fs wite F, oky lhcis  in resay- wnG ped ih eo wos m;ed te orie faarroauogn Gomherteed ynw iFni, roin tn k ae .bs sos uat ho tuteim wh,d to oun uel ao he lTd\n",
      "------ Sentence 9: ------\n",
      " ah sn dd besi nsO an eghet arcnb nsi he dsticteonwtwer we soy Gie tneB tpeledae ao wnt hair tnatogyn rert.ae f tom slp tuy tut su se teas . dt hivpGeoad gie phe seen tomlolliled stt ofcrs Lwh ravl if\n"
     ]
    }
   ],
   "source": [
    "# kafka, including upper chars\n",
    "for i in range(10):\n",
    "    print('------ Sentence %i: ------' %i)\n",
    "    print(rnn.sample('a', 200, char_to_onehot, chars))"
   ]
  },
  {
   "cell_type": "markdown",
   "metadata": {
    "deletable": false,
    "editable": false,
    "nbgrader": {
     "checksum": "3dfdd352e2576a1aadc7df1de4c0ef03",
     "grade": false,
     "grade_id": "cell-3a78b102d91ed859",
     "locked": true,
     "schema_version": 1,
     "solution": false
    }
   },
   "source": [
    "Here are some generated sentences for reference how good the results should be. Not quite passing any spell checking program, but there are some real english words in there and the sentences seem to have a reasonable structure.\n",
    "\n",
    "    ------ Sentence 0: ------\n",
    "    ted eat aread noup, seed, but. ythed whithit tued that and in ask chemr tirme ble serpareing. he wionly memind. Dedteren drager, chat ther se stealeay. The kpay shir in wha dangereag he torearr ieve w\n",
    "    ------ Sentence 1: ------\n",
    "    swayly wase Mlamer io beell hom nofrreang, hr meed tould, Grere, werned coull gitr theQr coule verustengs at jeas whear', fasmer's, ad ho mofello goin \"hey in normablite chas a) he. Heenew \"thel seefr\n",
    "    ------ Sentence 2: ------\n",
    "    r's avethen harly dsundiigex; thinew, oug lertinestad to the wourd jhen sorywe, thever shene It, thour\" hawss He:thon's batiar's sfin, luike he. Ar uver. Af. qanilew ucheed attricgwaynong roked t- an \n",
    "    ------ Sentence 3: ------\n",
    "    tor\n",
    "     unde, thab haw dtidtly kad sendeder, ithed far theme, veedlly nowlyin; and )rece thete disse, out louthe, row the rapeasterse at. Heed rnweem. \"ut he bleitny Grerorot ie reryibe. So in., Hers ane\n",
    "    ------ Sentence 4: ------\n",
    "    ding, fitse. . Whisly andit, she haing \"ya bistatily dlatkedor whing saded theust, but the stere stotady is eleaprcentake, got to mame luch ally, mus llablly, ach caling, at what, he want aar athen d'\n",
    "    ------ Sentence 5: ------\n",
    "    cll\"end sat what herpingoth thouthar ald beinvaver.\n",
    "\n",
    "    Tere sreaned on in she was athar thatssu fres is at lees morther all sroaven to somichary mothtrey norytiot a tior sow bercead lassedore towist at \n",
    "    ------ Sentence 6: ------\n",
    "    gly.\n",
    "\n",
    "    Shen in shend comrie t oreth ubserwer he dist in commicherr. Wrmeathithemy nougracl.y'e sate horkllomisted betrnowhrous wfverthr bleatekeM tusinitedy Herach mop wislrocly theirse\n",
    "     on illy ans in\n",
    "    ------ Sentence 7: ------\n",
    "    dd, puting ot been ay theed . Hemula, he farer\". The h hanor, and dandid to the sedertereveng untint.\n",
    "\n",
    "    Wken\", surme ceared thet lomp io wotcouUir onsur\"ont ar with, thancMmperny him., is sas bees coul\n",
    "    ------ Sentence 8: ------\n",
    "    d natmen\", he theretotist wist, Gregely, arly re caule he praser, and woll buccem, then atse. Hemu haded ditince and dleyrist comply. \"Vm inen beglings wet ou't dot, plest willay theren lipsest inpren\n",
    "    ------ Sentence 9: ------\n",
    "    byed Gregst oonsbecemed thet ad herladble, din ther, and at. Numferringtice st ead thelr way mors. Ium loomul themo head roon inf thet the. \"lencorn was ned in tuc'e foot butimed, -feritn be thand Yun"
   ]
  },
  {
   "cell_type": "markdown",
   "metadata": {
    "deletable": false,
    "editable": false,
    "nbgrader": {
     "checksum": "f5e457fb0c08a07d9504ba0290f2b79e",
     "grade": false,
     "grade_id": "cell-e01fb706e3e77e40",
     "locked": true,
     "schema_version": 1,
     "solution": false
    }
   },
   "source": [
    "You may try different learning rates, different number of neurons for the hidden state and try to prune the text from special characters and upper characters, but the fact is that this is only one single RNN cell and it is as good as it gets.  "
   ]
  },
  {
   "cell_type": "markdown",
   "metadata": {
    "deletable": false,
    "editable": false,
    "nbgrader": {
     "checksum": "f7be4351414f3dc4e27233b3870e8704",
     "grade": false,
     "grade_id": "cell-69f0dab9e82b0115",
     "locked": true,
     "schema_version": 1,
     "solution": false
    }
   },
   "source": [
    "## 2 Neural Machine Translation <a class=\"anchor\" id=\"2\"></a>\n",
    "\n",
    "In this task you will implement a small neural machine translator using the Keras API. The final model will be able to translate english sentences into spanish sentences. Unlike the previous task, the input and output at each time step will now represent an entire word instead of a character.  \n",
    "\n",
    "The task is divided into two main sections:\n",
    " * Pre processing of data\n",
    " * Building a sequence-to-sequence RNN\n",
    " \n",
    "The principle of sequence-to-sequence modelling is shown in the figure below\n",
    "![seq2seq unrolled](utils/images/seq2seq.png)\n",
    "In your case, an english sentence is input to the encoder network, one word at each time step. After the sentence has been fed, there will now be a representation of the entire sentence encoded into the hidden state of the RNN. The hidden state of the decoder network is thereafter initialized with this representation and tries to generate the sequence of spanish words from the initial hidden state.  \n",
    "\n",
    "Run the cell below to import the necessary packages to get started with the task"
   ]
  },
  {
   "cell_type": "code",
   "execution_count": 1,
   "metadata": {
    "deletable": false,
    "editable": false,
    "nbgrader": {
     "checksum": "effc1f6c16ac094eaf6f8ab899102549",
     "grade": false,
     "grade_id": "cell-245a4886ba97957a",
     "locked": true,
     "schema_version": 1,
     "solution": false
    }
   },
   "outputs": [
    {
     "name": "stderr",
     "output_type": "stream",
     "text": [
      "Using TensorFlow backend.\n"
     ]
    }
   ],
   "source": [
    "import re\n",
    "import numpy as np\n",
    "import unidecode\n",
    "from keras.preprocessing.sequence import pad_sequences\n",
    "from utils.tests.ha2Tests import *"
   ]
  },
  {
   "cell_type": "markdown",
   "metadata": {
    "deletable": false,
    "editable": false,
    "nbgrader": {
     "checksum": "4aac6ec95a53779286e1b12d2b17c369",
     "grade": false,
     "grade_id": "cell-b4d9ff24542835da",
     "locked": true,
     "schema_version": 1,
     "solution": false
    }
   },
   "source": [
    "### 2.1 Pre-processing <a class=\"anchor\" id=\"2.1\"></a>\n",
    "The dataset to use consists of bilingual sentence pairs. Each sentence in the list of english sentences has a corresponding spanish translation at the same index in the list of spanish sentences.  \n",
    "\n",
    "Basic preprocessing has already been performed such as:  \n",
    " * to lower case\n",
    " * remove any padded spaces at the start and end of the row (trim)\n",
    " * convert from unicode character set to the ASCII character set. Example: á --> a and ñ --> n.\n",
    " * If the character is a question mark, punctuation or exclamation mark: ? ! ., put a space to the left of the character to make the char into a separate word.\n",
    " * remove any non-letter character\n",
    " * split each line into a tuple, where the left element is the source language sentence and the right element is the target language sentence\n",
    " * remove any sentence pair with number of words more than 5\n",
    "\n",
    "#### 2.1.1 Loading and inspecting the data set <a class=\"anchor\" id=\"2.1.1\"></a>\n",
    "Lets first load the english-spanish sentence pairs into memory and inspect some samples."
   ]
  },
  {
   "cell_type": "code",
   "execution_count": 2,
   "metadata": {
    "deletable": false,
    "editable": false,
    "nbgrader": {
     "checksum": "ecb81ee7fcde8806c59c1a7ac4079a08",
     "grade": false,
     "grade_id": "cell-3082498e5d14fae7",
     "locked": true,
     "schema_version": 1,
     "solution": false
    }
   },
   "outputs": [
    {
     "name": "stdout",
     "output_type": "stream",
     "text": [
      "There are 114282 sentence pairs\n",
      "The shortest english sentence is 2 words\n",
      "The shortest spanish sentence is 2 words\n",
      "The longest english sentence is 5 words\n",
      "The longest spanish sentence is 5 words\n",
      "\n",
      "10 Random short sentence pairs:\n",
      "ill explain everything . \t lo explicare todo .\n",
      "this is my room . \t este es mi cuarto .\n",
      "the criminal is nervous . \t el criminal esta nervioso .\n",
      "i dont see it . \t no lo veo .\n",
      "who speaks french ? \t quien habla frances ?\n",
      "this is mine . \t este es el mio .\n",
      "well go together . \t vamos a ir juntos .\n",
      "i couldnt walk . \t no podia caminar .\n",
      "tom needs a doctor . \t tom necesita un medico .\n",
      "they stayed friends . \t ellos siguieron siendo amigos .\n"
     ]
    }
   ],
   "source": [
    "# load data set\n",
    "lines = open('utils/spa.txt', 'r', encoding='UTF-8').read().strip().split('\\n')\n",
    "data = pickle.load( open( \"utils/spa-preprocessed.pkl\", \"rb\" ) )\n",
    "spa, eng = data['spa'], data['eng']\n",
    "SEQ_MAX_LEN = 5\n",
    "\n",
    "print('There are %i sentence pairs' % len(lines))\n",
    "print('The shortest english sentence is %i words' \n",
    "      % np.min(list(map(lambda line: len(line.split(' ')), eng))))\n",
    "print('The shortest spanish sentence is %i words' \n",
    "      % np.min(list(map(lambda line: len(line.split(' ')), spa))))\n",
    "print('The longest english sentence is %i words' \n",
    "      % np.max(list(map(lambda line: len(line.split(' ')), eng))))\n",
    "print('The longest spanish sentence is %i words' \n",
    "      % np.max(list(map(lambda line: len(line.split(' ')), spa))))\n",
    "print('\\n10 Random short sentence pairs:')\n",
    "for i in range(10):\n",
    "    ix = np.random.choice(int(len(eng)))\n",
    "    print(eng[ix],'\\t',spa[ix])"
   ]
  },
  {
   "cell_type": "markdown",
   "metadata": {
    "collapsed": true,
    "deletable": false,
    "editable": false,
    "nbgrader": {
     "checksum": "6e9b6db781a32688bf0e80b7c3fed9c3",
     "grade": false,
     "grade_id": "cell-1d324eeeaec95b0d",
     "locked": true,
     "schema_version": 1,
     "solution": false
    }
   },
   "source": [
    "#### 2.1.4 Word-to-index and index-to-word conversions <a class=\"anchor\" id=\"2.1.4\"></a>\n",
    "Just like in Task 1 earlier, you need dictionaries to transform between (in this case) the words and unique number representations. The following dictionaries/lists are implemented:  \n",
    "\n",
    " * `eng_ix_to_word` - a python list where each index is a unique number that represents the english word stored as value.\n",
    "                      `eng_ix_to_word[0]` should equal to `ZERO`\n",
    "                      `enx_ix_to_word[-1]` (the last element) should equal to `UNK` (unknown)\n",
    " * `eng_word_to_ix` - like `eng_ix_to_word` but reversed, a dictionary mapping every word into the unique number. The key is a word that also exists in `eng_ix_to_word` and the value is an integer, that matches the index of the word in `eng_ix_to_word`\n",
    " * `spa_ix_to_word` - same principle as `eng_ix_to_word`, but from the vocabulary of `spa`\n",
    "                      `spa_ix_to_word[0]` should equal to `ZERO`\n",
    "                      `spa_ix_to_word[-1]` (the last element) should equal to `UNK` (unknown)\n",
    " * `spa_word_to_ix` - same principle as `eng_word_to_ix`, but from the vocabulary of `spa`"
   ]
  },
  {
   "cell_type": "code",
   "execution_count": 3,
   "metadata": {
    "deletable": false,
    "editable": false,
    "nbgrader": {
     "checksum": "c0a5cc008e4b29824644f5553837a564",
     "grade": false,
     "grade_id": "cell-a459812ea1439340",
     "locked": true,
     "schema_version": 1,
     "solution": false
    }
   },
   "outputs": [],
   "source": [
    "eng_vocab = set([word for sentence in eng for word in sentence.split(' ')])\n",
    "eng_ix_to_word = ['ZERO'] + list(eng_vocab) + ['UNK']\n",
    "eng_word_to_ix =  { word: index for index, word in enumerate(eng_ix_to_word)}\n",
    "spa_vocab = set([word for sentence in spa for word in sentence.split(' ')])\n",
    "spa_ix_to_word = ['ZERO'] + list(spa_vocab) + ['UNK']\n",
    "spa_word_to_ix =  { word: index for index, word in enumerate(spa_ix_to_word)}"
   ]
  },
  {
   "cell_type": "markdown",
   "metadata": {
    "deletable": false,
    "editable": false,
    "nbgrader": {
     "checksum": "57904094aa594914b948bcb405a6e14b",
     "grade": false,
     "grade_id": "cell-5cfb758da1a8770a",
     "locked": true,
     "schema_version": 1,
     "solution": false
    }
   },
   "source": [
    "Now we convert the words of `eng` and `spa` into their corresponding index numbers  \n",
    "\n",
    "Run the cell below to initialize these variables:  \n",
    " * X - A list of sentences. Each sentence is represented by a list where the i'th element is the index number representing the i'th word in the sentence string.\n",
    " * Y - same principle as `X`, but contains the converted spanish sentences  \n",
    " \n",
    " Example:\n",
    " if `eng_word_to_ix` is defined as `{'good':0, 'morning':1}`  \n",
    " and `eng` is defined as `[\"good morning\", \"morning\"]`  \n",
    " then `X` should result in `[[0,1],[1]]`  "
   ]
  },
  {
   "cell_type": "code",
   "execution_count": 4,
   "metadata": {
    "deletable": false,
    "editable": false,
    "nbgrader": {
     "checksum": "a63e9c0f34e4859e94fc06460e1ae328",
     "grade": false,
     "grade_id": "cell-41597a7b019841d9",
     "locked": true,
     "schema_version": 1,
     "solution": false
    }
   },
   "outputs": [],
   "source": [
    "X = [ [eng_word_to_ix[word] for word in sentence.split(' ')] for sentence in eng]\n",
    "Y = [ [spa_word_to_ix[word] for word in sentence.split(' ')] for sentence in spa]"
   ]
  },
  {
   "cell_type": "markdown",
   "metadata": {
    "deletable": false,
    "editable": false,
    "nbgrader": {
     "checksum": "0f8a26208e3cccbe6d665d6fc45284ca",
     "grade": false,
     "grade_id": "cell-e87e7a013d284386",
     "locked": true,
     "schema_version": 1,
     "solution": false
    }
   },
   "source": [
    "#### 2.1.5 Padding <a class=\"anchor\" id=\"2.1.5\"></a>\n",
    "Since the sentences are of variable lengths, padding is needed to make every sentence equal length. Every sentence list in `X` and `Y` are padded with zeros to make every list equal to the length of the maximum sentence length. The zeros are **prepended** before the first word.  \n",
    "\n",
    "Example:  \n",
    "if `X` is defined as `[[1,2,3], [1,2], [1]]`   \n",
    "then after applying padding, X is equal to `[[1,2,3], [0,1,2], [0,0,1]]`  "
   ]
  },
  {
   "cell_type": "code",
   "execution_count": 5,
   "metadata": {
    "deletable": false,
    "editable": false,
    "nbgrader": {
     "checksum": "59c6a6079e6a56f0097e1a25a392841a",
     "grade": false,
     "grade_id": "cell-ff60390bb7636a51",
     "locked": true,
     "schema_version": 1,
     "solution": false
    }
   },
   "outputs": [],
   "source": [
    "X = pad_sequences(X, maxlen=SEQ_MAX_LEN, dtype='int32')\n",
    "Y = pad_sequences(Y, maxlen=SEQ_MAX_LEN, dtype='int32')"
   ]
  },
  {
   "cell_type": "markdown",
   "metadata": {
    "deletable": false,
    "editable": false,
    "nbgrader": {
     "checksum": "e0635f1fe84873fa1e26026b667fde9f",
     "grade": false,
     "grade_id": "cell-502981a32a6c5b6f",
     "locked": true,
     "schema_version": 1,
     "solution": false
    }
   },
   "source": [
    "#### 2.1.6 One-hot labels <a class=\"anchor\" id=\"2.1.6\"></a>\n",
    "The last pre processing converting the data into one-hot vectors.  \n",
    "\n",
    "For this task, **only** the labels (spanish words) are going to be transformed into one-hot vectors. The data points of english words are only going to be transformed into their corresponding numeric values by `eng_word_to_ix` because `Embedding` from the keras API already implements converting the inputs to one-hot vectors.  \n",
    "\n",
    "Transform `Y` to have the following properties:\n",
    " * define `Y` as a numpy matrix of shape (number of sentences, number of words of longest sentence, one-hot vector length). \n",
    " * dimension 0 represents each sentence (batch).\n",
    " * dimension 1 represents each word in a sentece (padded with zeros for equal length)\n",
    " * dimension 2 represents the one-hot vector for that particular word in that particular sentence. To pass the test, a onehot representation of word `1023` should be a zero vector with its 1023th index set to 1"
   ]
  },
  {
   "cell_type": "code",
   "execution_count": 6,
   "metadata": {
    "deletable": false,
    "nbgrader": {
     "checksum": "578991fcbd3cff75d1b64387f0349fec",
     "grade": true,
     "grade_id": "cell-1afbd922885825dd",
     "locked": false,
     "points": 0,
     "schema_version": 1,
     "solution": true
    }
   },
   "outputs": [
    {
     "name": "stdout",
     "output_type": "stream",
     "text": [
      "Tip: the shape of Y should be: (22947, 5, 8805)\n"
     ]
    }
   ],
   "source": [
    "# TODO: convert each index number in Y into its corresponding one-hot vector\n",
    "num_output = len(spa_word_to_ix)\n",
    "print(\"Tip: the shape of Y should be: (%i, %i, %i)\" % (len(Y), len(Y[0]), num_output))\n",
    "\n",
    "def Y_to_onehot(Y, num_output):\n",
    "    # Complete function according to description above\n",
    "    # YOUR CODE HERE\n",
    "    from keras.utils import to_categorical\n",
    "    Y_ = []\n",
    "    for y in Y:\n",
    "        encoded = to_categorical(y, num_output)\n",
    "        Y_.append(encoded)\n",
    "    return np.array(Y_)"
   ]
  },
  {
   "cell_type": "markdown",
   "metadata": {
    "deletable": false,
    "editable": false,
    "nbgrader": {
     "checksum": "4d7554a570e89bddeb80b6b5d3bcee68",
     "grade": false,
     "grade_id": "cell-4b7e350b4705b7fd",
     "locked": true,
     "schema_version": 1,
     "solution": false
    }
   },
   "source": [
    "Run the following cell to test your implementation."
   ]
  },
  {
   "cell_type": "code",
   "execution_count": 7,
   "metadata": {
    "deletable": false,
    "editable": false,
    "nbgrader": {
     "checksum": "403577ab8a2dd3aad46eca2ec0499148",
     "grade": false,
     "grade_id": "cell-4ca82916bbb49405",
     "locked": true,
     "schema_version": 1,
     "solution": false
    }
   },
   "outputs": [
    {
     "name": "stdout",
     "output_type": "stream",
     "text": [
      "test passed\n"
     ]
    }
   ],
   "source": [
    "# test case \n",
    "test_Y_to_onehot(Y_to_onehot)"
   ]
  },
  {
   "cell_type": "markdown",
   "metadata": {
    "deletable": false,
    "editable": false,
    "nbgrader": {
     "checksum": "da368670f710fd04e2151601f977e521",
     "grade": false,
     "grade_id": "cell-ce0b6f9695d8e625",
     "locked": true,
     "schema_version": 1,
     "solution": false
    }
   },
   "source": [
    "When you passed the test, run the cell below to convert the sentences of Y into lists of onehot vectors"
   ]
  },
  {
   "cell_type": "code",
   "execution_count": 8,
   "metadata": {
    "deletable": false,
    "editable": false,
    "nbgrader": {
     "checksum": "a66db52162f451acbc5f7c62afbc18aa",
     "grade": false,
     "grade_id": "cell-fd9b28bb297d5dde",
     "locked": true,
     "schema_version": 1,
     "solution": false
    }
   },
   "outputs": [],
   "source": [
    "Y_onehot = Y_to_onehot(Y, num_output)"
   ]
  },
  {
   "cell_type": "markdown",
   "metadata": {
    "deletable": false,
    "editable": false,
    "nbgrader": {
     "checksum": "58a8b6ccd149f8ae93f59795efd4176d",
     "grade": false,
     "grade_id": "cell-c5a0ba0c96903a79",
     "locked": true,
     "schema_version": 1,
     "solution": false
    }
   },
   "source": [
    "### 2.2 Implementing a sequence-to-sequence model <a class=\"anchor\" id=\"2.2\"></a>\n",
    "In this section you will define, train and evaluate a sequence-to-sequence RNN architecture with the help of the Keras API.  \n",
    "\n",
    "#### 2.2.1 Defining the architecture <a class=\"anchor\" id=\"2.2.1\"></a>\n",
    "\n",
    "Now you are going to define the architecture for the translator. There are several possible architectures for performing translation, which is a sequence-to-sequence task (an input sequence, the English sentence, mapped to an output sequence, the Spanish sentence). If you take inspiration from searching the internet, you might come across neural machine translators such as [Google's Neural Machine Translation System](http://tsong.me/blog/google-nmt/). This kind of deep architecture was trained for a week using 100 GPUs, which is completely out of reach for the purposes of this assignment. Instead we will ask you to implement a simpler architecture that, even though it doesn't possess all the important parts of a translation network, still performs acceptably.\n",
    "\n",
    "The architecture you are required to implement will closely resemble the image shown at the start of this task. First the input sequence is fed to an encoder network, which is in charge of summarizing the entire sequence in its internal memory. This internal memory is then fed to a decoder network, which uses this summarized content to produce the output sequence. Both the encoder and the decoder networks will be comprised of a single LSTM unit, with a memory cell of arbitrary dimension. Since we won't stack LSTM layers, this can be seen as a \"toy\" version of a complete LSTM architecure.\n",
    "\n",
    "#### Practical remarks\n",
    "\n",
    "Note that the input sequence for each training sentence is a vector with 5 elements, where each element corresponds to the number of that particular word in the vocabulary. \n",
    "\n",
    "Because similar word indexes don't correspond to similar words (e.g. index 133 corresponds to 'joke', whereas index 134 corresponds to 'silence'), it's easier to train our network if we map this data to a space where the semantic meaning of the word is related to its geometric position. For instance, we would like the word 'car' to be closer to the word 'bus' than it is to 'tree'. This can be accomplished with the `Embedding` layer module from Keras, which tries to find a suitable representation for positive integers in a higher-dimensional space by using dimensionality reduction techniques in the matrix of co-ocurrence statistics of our input data. This layer can use an already trained mapping (like Word2Vec), but in this exercise we'll train it ourselves.\n",
    "\n",
    "Besides deciding how to encode the input, there is another important practical remark to be done. Since the decoder network will also be implemented as an LSTM, it will require inputs. According to what was described earlier, the only important data for this network is the memory cell at each time-step. Unfortunately, there is no simple way to create an LSTM cell without inputs (you can, of course, customize the LSTM layer to not receive any inputs), so we'll simply feed zeros as input at each time-step and it's likely that the optimization procedure will tune the decoder weights to disregard this input eventually (because it's completely uncorrelated to the input and the label, so it doesn't help with the prediction at all).\n",
    "\n",
    "#### Keras tips\n",
    "\n",
    "- It's necessary to use the [Model class API](https://keras.io/models/model/) for implementing this model (because it has two inputs, the input sequence and the zeros to the decoder). Be sure to familiarize yourself with this way of defining models in Keras.\n",
    "- You can define an LSTM cell using the [LSTM layer](https://keras.io/layers/recurrent/#lstm).\n",
    "- The LSTM layer by default outputs only the output for the last time-step, which is great for the encoder part, since we don't care about its outputs anyway. However, for the decoder network we want the outputs at all time steps. To accomplish this, you can set the argument `return_sequences` to `True` when creating the LSTM layer.\n",
    "- You will need to feed the memory cell content of the encoder network at the last time-step to the decoder network. You can ask the LSTM layer to also output its memory cell contents by setting the `return_state` argument to `True` when creating the layer (this makes the LSTM layer output three things: the actual LSTM output and two variables with different parts of the LSTM internal memory cell).\n",
    "- You can specify the initial state of LSTM layers symbolically by calling them with the keyword argument  `initial_state`. The value of `initial_state` should be a tensor or list of tensors representing the initial state of the LSTM layer.\n",
    "\n",
    "\n",
    "Now, implement your sequence-to-sequence architecture in the function `create_model` by following the descriptions of the function.  "
   ]
  },
  {
   "cell_type": "code",
   "execution_count": 11,
   "metadata": {
    "deletable": false,
    "nbgrader": {
     "checksum": "0d52b0195834f0be18715584290ff3e7",
     "grade": true,
     "grade_id": "cell-38f1aa584c956f28",
     "locked": false,
     "points": 0,
     "schema_version": 1,
     "solution": true
    }
   },
   "outputs": [],
   "source": [
    "# Add your import statements here\n",
    "from keras import Input, Model\n",
    "from keras.layers import Activation, TimeDistributed, Dense, RepeatVector, Embedding\n",
    "from keras.layers.recurrent import LSTM\n",
    "\n",
    "def create_model(input_n, X_seq_len, output_n, Y_seq_len, hidden_dim, embedding_dim):\n",
    "    \"\"\" Define a keras sequence-to-sequence model. \n",
    "    \n",
    "    Arguments:\n",
    "    input_n - integer, the number of inputs for the network (the length of a one-hot vector from `X`)\n",
    "    X_seq_len - integer, the length of a sequence from `X`. Should be constant and you made sure by using padding\n",
    "    output_n - integer, the number of outputs for the network (the length of a one-hot vector from `Y`)\n",
    "    Y_seq_len - integer, the length of a sequence from `Y`. Should be constant and you made sure by using padding\n",
    "    hidden_dim - integer, number of units in the LSTM's memory cell.\n",
    "    embedding_dim - output dimension of the embedding layer.\n",
    "    \n",
    "    Returns:\n",
    "    The compiled keras model\n",
    "    \n",
    "    \"\"\"\n",
    "    # Input and embedding layers\n",
    "    encoder_input_layer = Input(shape=[X_seq_len])\n",
    "    encoder_embedding_layer = Embedding(input_n, embedding_dim, input_length=X_seq_len, mask_zero=True)(encoder_input_layer)\n",
    "    \n",
    "    # Create the encoder LSTM.\n",
    "    # YOUR CODE HERE\n",
    "    from keras import regularizers\n",
    "    encoder_outputs, state_h, state_c  = LSTM(hidden_dim, return_state=True)(encoder_embedding_layer)\n",
    "    encoder_states = [state_h, state_c]\n",
    "    \n",
    "    # Null input (should be fed with zeros) and repeating it the same number of times as there are words in the \n",
    "    # target sentence\n",
    "    null_input = Input(shape=[1])\n",
    "    repeated_null = RepeatVector(Y_seq_len)(null_input)\n",
    "    \n",
    "    # Create the decoder LSTM (feed it with the memory of the encoder network). Call it `decoder_layer`\n",
    "    # YOUR CODE HERE\n",
    "    decoder_layer, _, _ = LSTM(hidden_dim, return_sequences=True, return_state=True)(repeated_null,initial_state=encoder_states)\n",
    "    \n",
    "    # Add a fully connected layer and a softmax to the outputs of the decoder\n",
    "    decoder_fully_connected = TimeDistributed(Dense(output_n))(decoder_layer)\n",
    "    decoder_softmax = Activation('softmax')(decoder_fully_connected)\n",
    "    \n",
    "    # Create final model and compile it\n",
    "    model = Model([encoder_input_layer, null_input], decoder_softmax)\n",
    "    \n",
    "    # Compile the model. Use a loss function, optimizer, and metrics of your choice\n",
    "    # YOUR CODE HERE\n",
    "    model.compile(optimizer='adam', loss='categorical_crossentropy', metrics=['accuracy'])\n",
    "    \n",
    "    # Add these arguments to the model for convenience\n",
    "    model.hidden_dim = hidden_dim\n",
    "    model.embedding_dim = embedding_dim\n",
    "    \n",
    "    return model"
   ]
  },
  {
   "cell_type": "markdown",
   "metadata": {
    "deletable": false,
    "editable": false,
    "nbgrader": {
     "checksum": "7069ad2bd986c2fa40a6df328637a021",
     "grade": false,
     "grade_id": "cell-330f1845a4caf93a",
     "locked": true,
     "schema_version": 1,
     "solution": false
    }
   },
   "source": [
    "#### 2.2.2 Training the model <a class=\"anchor\" id=\"2.2.2\"></a>\n",
    "Now create the model and train it. Try out different hyper-parameters if you're not satisfied with the result. For obtaining a good speedup using the GPU, opt for large number of memory cells and large batch sizes (although not too large, that also has drawbacks)."
   ]
  },
  {
   "cell_type": "code",
   "execution_count": 17,
   "metadata": {
    "deletable": false,
    "nbgrader": {
     "checksum": "0d27df11c0d2a35548069e5b2adb14f5",
     "grade": true,
     "grade_id": "cell-8784b37d2b07cbfc",
     "locked": false,
     "points": 0,
     "schema_version": 1,
     "solution": true
    }
   },
   "outputs": [
    {
     "name": "stdout",
     "output_type": "stream",
     "text": [
      "Train on 18357 samples, validate on 4590 samples\n",
      "Epoch 1/200\n",
      "18357/18357 [==============================] - ETA: 3:35 - loss: 9.0829 - acc: 0.0000e+0 - ETA: 1:50 - loss: 9.0816 - acc: 0.0996    - ETA: 1:15 - loss: 9.0801 - acc: 0.170 - ETA: 58s - loss: 9.0782 - acc: 0.212 - ETA: 47s - loss: 9.0761 - acc: 0.23 - ETA: 40s - loss: 9.0734 - acc: 0.24 - ETA: 35s - loss: 9.0699 - acc: 0.25 - ETA: 31s - loss: 9.0655 - acc: 0.26 - ETA: 28s - loss: 9.0590 - acc: 0.26 - ETA: 26s - loss: 9.0503 - acc: 0.27 - ETA: 24s - loss: 9.0379 - acc: 0.28 - ETA: 22s - loss: 9.0203 - acc: 0.28 - ETA: 21s - loss: 8.9962 - acc: 0.28 - ETA: 19s - loss: 8.9625 - acc: 0.29 - ETA: 18s - loss: 8.9162 - acc: 0.29 - ETA: 17s - loss: 8.8546 - acc: 0.29 - ETA: 16s - loss: 8.7761 - acc: 0.29 - ETA: 16s - loss: 8.6847 - acc: 0.29 - ETA: 15s - loss: 8.5823 - acc: 0.29 - ETA: 14s - loss: 8.4753 - acc: 0.29 - ETA: 13s - loss: 8.3631 - acc: 0.29 - ETA: 13s - loss: 8.2508 - acc: 0.30 - ETA: 12s - loss: 8.1404 - acc: 0.30 - ETA: 12s - loss: 8.0289 - acc: 0.30 - ETA: 11s - loss: 7.9318 - acc: 0.30 - ETA: 11s - loss: 7.8371 - acc: 0.30 - ETA: 10s - loss: 7.7500 - acc: 0.30 - ETA: 10s - loss: 7.6686 - acc: 0.30 - ETA: 9s - loss: 7.5918 - acc: 0.3058 - ETA: 9s - loss: 7.5248 - acc: 0.305 - ETA: 9s - loss: 7.4591 - acc: 0.305 - ETA: 8s - loss: 7.3944 - acc: 0.306 - ETA: 8s - loss: 7.3371 - acc: 0.306 - ETA: 8s - loss: 7.2827 - acc: 0.306 - ETA: 7s - loss: 7.2299 - acc: 0.306 - ETA: 7s - loss: 7.1780 - acc: 0.307 - ETA: 7s - loss: 7.1320 - acc: 0.306 - ETA: 6s - loss: 7.0866 - acc: 0.306 - ETA: 6s - loss: 7.0446 - acc: 0.306 - ETA: 6s - loss: 7.0062 - acc: 0.306 - ETA: 6s - loss: 6.9672 - acc: 0.306 - ETA: 5s - loss: 6.9295 - acc: 0.306 - ETA: 5s - loss: 6.8910 - acc: 0.306 - ETA: 5s - loss: 6.8574 - acc: 0.306 - ETA: 5s - loss: 6.8249 - acc: 0.306 - ETA: 4s - loss: 6.7924 - acc: 0.306 - ETA: 4s - loss: 6.7615 - acc: 0.306 - ETA: 4s - loss: 6.7314 - acc: 0.306 - ETA: 4s - loss: 6.7031 - acc: 0.307 - ETA: 4s - loss: 6.6775 - acc: 0.307 - ETA: 3s - loss: 6.6521 - acc: 0.307 - ETA: 3s - loss: 6.6264 - acc: 0.307 - ETA: 3s - loss: 6.6032 - acc: 0.307 - ETA: 3s - loss: 6.5783 - acc: 0.307 - ETA: 3s - loss: 6.5543 - acc: 0.307 - ETA: 2s - loss: 6.5325 - acc: 0.307 - ETA: 2s - loss: 6.5116 - acc: 0.307 - ETA: 2s - loss: 6.4925 - acc: 0.306 - ETA: 2s - loss: 6.4724 - acc: 0.307 - ETA: 2s - loss: 6.4511 - acc: 0.307 - ETA: 1s - loss: 6.4306 - acc: 0.307 - ETA: 1s - loss: 6.4117 - acc: 0.307 - ETA: 1s - loss: 6.3935 - acc: 0.307 - ETA: 1s - loss: 6.3752 - acc: 0.307 - ETA: 1s - loss: 6.3569 - acc: 0.308 - ETA: 0s - loss: 6.3405 - acc: 0.308 - ETA: 0s - loss: 6.3242 - acc: 0.308 - ETA: 0s - loss: 6.3074 - acc: 0.308 - ETA: 0s - loss: 6.2911 - acc: 0.308 - ETA: 0s - loss: 6.2766 - acc: 0.308 - ETA: 0s - loss: 6.2609 - acc: 0.308 - 14s 749us/step - loss: 6.2501 - acc: 0.3088 - val_loss: 5.1656 - val_acc: 0.3248\n"
     ]
    },
    {
     "name": "stderr",
     "output_type": "stream",
     "text": [
      "c:\\temp\\vm\\dmlgpu\\lib\\site-packages\\keras\\engine\\network.py:872: UserWarning: Layer lstm_12 was passed non-serializable keyword arguments: {'initial_state': [<tf.Tensor 'lstm_11/while/Exit_3:0' shape=(?, 256) dtype=float32>, <tf.Tensor 'lstm_11/while/Exit_4:0' shape=(?, 256) dtype=float32>]}. They will not be included in the serialized model (and thus will be missing at deserialization time).\n",
      "  '. They will not be included '\n"
     ]
    },
    {
     "name": "stdout",
     "output_type": "stream",
     "text": [
      "Epoch 2/200\n",
      "18357/18357 [==============================] - ETA: 8s - loss: 5.0672 - acc: 0.324 - ETA: 8s - loss: 5.1004 - acc: 0.318 - ETA: 8s - loss: 5.0883 - acc: 0.316 - ETA: 8s - loss: 5.0726 - acc: 0.314 - ETA: 8s - loss: 5.0673 - acc: 0.313 - ETA: 8s - loss: 5.0582 - acc: 0.315 - ETA: 8s - loss: 5.0536 - acc: 0.315 - ETA: 7s - loss: 5.0614 - acc: 0.314 - ETA: 7s - loss: 5.0538 - acc: 0.316 - ETA: 7s - loss: 5.0461 - acc: 0.317 - ETA: 7s - loss: 5.0500 - acc: 0.317 - ETA: 7s - loss: 5.0429 - acc: 0.318 - ETA: 7s - loss: 5.0424 - acc: 0.319 - ETA: 7s - loss: 5.0484 - acc: 0.318 - ETA: 7s - loss: 5.0474 - acc: 0.318 - ETA: 6s - loss: 5.0434 - acc: 0.318 - ETA: 6s - loss: 5.0443 - acc: 0.319 - ETA: 6s - loss: 5.0415 - acc: 0.319 - ETA: 6s - loss: 5.0351 - acc: 0.319 - ETA: 6s - loss: 5.0338 - acc: 0.318 - ETA: 6s - loss: 5.0332 - acc: 0.319 - ETA: 6s - loss: 5.0319 - acc: 0.319 - ETA: 6s - loss: 5.0273 - acc: 0.320 - ETA: 5s - loss: 5.0250 - acc: 0.321 - ETA: 5s - loss: 5.0205 - acc: 0.321 - ETA: 5s - loss: 5.0193 - acc: 0.322 - ETA: 5s - loss: 5.0219 - acc: 0.321 - ETA: 5s - loss: 5.0246 - acc: 0.320 - ETA: 5s - loss: 5.0238 - acc: 0.320 - ETA: 5s - loss: 5.0264 - acc: 0.320 - ETA: 5s - loss: 5.0249 - acc: 0.320 - ETA: 4s - loss: 5.0222 - acc: 0.320 - ETA: 4s - loss: 5.0228 - acc: 0.320 - ETA: 4s - loss: 5.0215 - acc: 0.320 - ETA: 4s - loss: 5.0205 - acc: 0.320 - ETA: 4s - loss: 5.0233 - acc: 0.320 - ETA: 4s - loss: 5.0264 - acc: 0.320 - ETA: 4s - loss: 5.0253 - acc: 0.320 - ETA: 4s - loss: 5.0240 - acc: 0.320 - ETA: 3s - loss: 5.0256 - acc: 0.320 - ETA: 3s - loss: 5.0270 - acc: 0.320 - ETA: 3s - loss: 5.0296 - acc: 0.319 - ETA: 3s - loss: 5.0283 - acc: 0.319 - ETA: 3s - loss: 5.0286 - acc: 0.319 - ETA: 3s - loss: 5.0282 - acc: 0.319 - ETA: 3s - loss: 5.0266 - acc: 0.319 - ETA: 3s - loss: 5.0255 - acc: 0.319 - ETA: 2s - loss: 5.0258 - acc: 0.320 - ETA: 2s - loss: 5.0268 - acc: 0.320 - ETA: 2s - loss: 5.0280 - acc: 0.320 - ETA: 2s - loss: 5.0277 - acc: 0.319 - ETA: 2s - loss: 5.0268 - acc: 0.320 - ETA: 2s - loss: 5.0257 - acc: 0.320 - ETA: 2s - loss: 5.0235 - acc: 0.320 - ETA: 2s - loss: 5.0236 - acc: 0.320 - ETA: 1s - loss: 5.0243 - acc: 0.320 - ETA: 1s - loss: 5.0245 - acc: 0.319 - ETA: 1s - loss: 5.0241 - acc: 0.319 - ETA: 1s - loss: 5.0247 - acc: 0.319 - ETA: 1s - loss: 5.0237 - acc: 0.319 - ETA: 1s - loss: 5.0229 - acc: 0.319 - ETA: 1s - loss: 5.0215 - acc: 0.319 - ETA: 1s - loss: 5.0213 - acc: 0.319 - ETA: 0s - loss: 5.0190 - acc: 0.320 - ETA: 0s - loss: 5.0202 - acc: 0.319 - ETA: 0s - loss: 5.0195 - acc: 0.320 - ETA: 0s - loss: 5.0181 - acc: 0.320 - ETA: 0s - loss: 5.0168 - acc: 0.320 - ETA: 0s - loss: 5.0170 - acc: 0.320 - ETA: 0s - loss: 5.0146 - acc: 0.320 - ETA: 0s - loss: 5.0131 - acc: 0.320 - 10s 555us/step - loss: 5.0138 - acc: 0.3203 - val_loss: 5.0477 - val_acc: 0.3279\n",
      "Epoch 3/200\n",
      "18357/18357 [==============================] - ETA: 8s - loss: 4.9137 - acc: 0.323 - ETA: 8s - loss: 4.8821 - acc: 0.325 - ETA: 8s - loss: 4.8642 - acc: 0.322 - ETA: 8s - loss: 4.8474 - acc: 0.324 - ETA: 8s - loss: 4.8697 - acc: 0.323 - ETA: 8s - loss: 4.8750 - acc: 0.319 - ETA: 7s - loss: 4.8750 - acc: 0.319 - ETA: 7s - loss: 4.8720 - acc: 0.320 - ETA: 7s - loss: 4.8635 - acc: 0.320 - ETA: 7s - loss: 4.8642 - acc: 0.320 - ETA: 7s - loss: 4.8751 - acc: 0.319 - ETA: 7s - loss: 4.8776 - acc: 0.318 - ETA: 7s - loss: 4.8833 - acc: 0.318 - ETA: 7s - loss: 4.8818 - acc: 0.318 - ETA: 7s - loss: 4.8782 - acc: 0.319 - ETA: 6s - loss: 4.8820 - acc: 0.318 - ETA: 6s - loss: 4.8898 - acc: 0.317 - ETA: 6s - loss: 4.8878 - acc: 0.318 - ETA: 6s - loss: 4.8891 - acc: 0.318 - ETA: 6s - loss: 4.8862 - acc: 0.317 - ETA: 6s - loss: 4.8849 - acc: 0.318 - ETA: 6s - loss: 4.8821 - acc: 0.318 - ETA: 6s - loss: 4.8809 - acc: 0.318 - ETA: 5s - loss: 4.8836 - acc: 0.317 - ETA: 5s - loss: 4.8789 - acc: 0.319 - ETA: 5s - loss: 4.8771 - acc: 0.319 - ETA: 5s - loss: 4.8765 - acc: 0.319 - ETA: 5s - loss: 4.8788 - acc: 0.318 - ETA: 5s - loss: 4.8761 - acc: 0.318 - ETA: 5s - loss: 4.8730 - acc: 0.319 - ETA: 5s - loss: 4.8712 - acc: 0.319 - ETA: 4s - loss: 4.8715 - acc: 0.319 - ETA: 4s - loss: 4.8725 - acc: 0.319 - ETA: 4s - loss: 4.8691 - acc: 0.319 - ETA: 4s - loss: 4.8711 - acc: 0.319 - ETA: 4s - loss: 4.8704 - acc: 0.319 - ETA: 4s - loss: 4.8711 - acc: 0.320 - ETA: 4s - loss: 4.8683 - acc: 0.320 - ETA: 4s - loss: 4.8671 - acc: 0.320 - ETA: 3s - loss: 4.8683 - acc: 0.320 - ETA: 3s - loss: 4.8676 - acc: 0.321 - ETA: 3s - loss: 4.8663 - acc: 0.321 - ETA: 3s - loss: 4.8670 - acc: 0.321 - ETA: 3s - loss: 4.8695 - acc: 0.320 - ETA: 3s - loss: 4.8686 - acc: 0.321 - ETA: 3s - loss: 4.8664 - acc: 0.321 - ETA: 3s - loss: 4.8673 - acc: 0.321 - ETA: 2s - loss: 4.8653 - acc: 0.321 - ETA: 2s - loss: 4.8635 - acc: 0.321 - ETA: 2s - loss: 4.8617 - acc: 0.321 - ETA: 2s - loss: 4.8610 - acc: 0.321 - ETA: 2s - loss: 4.8613 - acc: 0.321 - ETA: 2s - loss: 4.8617 - acc: 0.321 - ETA: 2s - loss: 4.8602 - acc: 0.321 - ETA: 2s - loss: 4.8596 - acc: 0.321 - ETA: 1s - loss: 4.8577 - acc: 0.321 - ETA: 1s - loss: 4.8559 - acc: 0.321 - ETA: 1s - loss: 4.8558 - acc: 0.321 - ETA: 1s - loss: 4.8559 - acc: 0.321 - ETA: 1s - loss: 4.8559 - acc: 0.320 - ETA: 1s - loss: 4.8553 - acc: 0.320 - ETA: 1s - loss: 4.8537 - acc: 0.321 - ETA: 1s - loss: 4.8528 - acc: 0.321 - ETA: 0s - loss: 4.8528 - acc: 0.321 - ETA: 0s - loss: 4.8509 - acc: 0.321 - ETA: 0s - loss: 4.8506 - acc: 0.321 - ETA: 0s - loss: 4.8487 - acc: 0.321 - ETA: 0s - loss: 4.8465 - acc: 0.322 - ETA: 0s - loss: 4.8455 - acc: 0.322 - ETA: 0s - loss: 4.8451 - acc: 0.322 - ETA: 0s - loss: 4.8434 - acc: 0.322 - 10s 564us/step - loss: 4.8426 - acc: 0.3224 - val_loss: 4.8765 - val_acc: 0.3317\n",
      "Epoch 4/200\n"
     ]
    },
    {
     "name": "stdout",
     "output_type": "stream",
     "text": [
      "18357/18357 [==============================] - ETA: 8s - loss: 4.6859 - acc: 0.332 - ETA: 8s - loss: 4.6980 - acc: 0.323 - ETA: 8s - loss: 4.7047 - acc: 0.322 - ETA: 8s - loss: 4.6851 - acc: 0.324 - ETA: 8s - loss: 4.6702 - acc: 0.328 - ETA: 8s - loss: 4.6764 - acc: 0.327 - ETA: 8s - loss: 4.6858 - acc: 0.326 - ETA: 8s - loss: 4.6778 - acc: 0.327 - ETA: 8s - loss: 4.6784 - acc: 0.326 - ETA: 7s - loss: 4.6707 - acc: 0.327 - ETA: 7s - loss: 4.6724 - acc: 0.325 - ETA: 7s - loss: 4.6742 - acc: 0.323 - ETA: 7s - loss: 4.6767 - acc: 0.323 - ETA: 7s - loss: 4.6802 - acc: 0.321 - ETA: 7s - loss: 4.6745 - acc: 0.322 - ETA: 7s - loss: 4.6756 - acc: 0.323 - ETA: 6s - loss: 4.6684 - acc: 0.323 - ETA: 6s - loss: 4.6609 - acc: 0.325 - ETA: 6s - loss: 4.6665 - acc: 0.325 - ETA: 6s - loss: 4.6680 - acc: 0.324 - ETA: 6s - loss: 4.6707 - acc: 0.325 - ETA: 6s - loss: 4.6712 - acc: 0.324 - ETA: 6s - loss: 4.6657 - acc: 0.326 - ETA: 6s - loss: 4.6664 - acc: 0.327 - ETA: 5s - loss: 4.6655 - acc: 0.327 - ETA: 5s - loss: 4.6636 - acc: 0.327 - ETA: 5s - loss: 4.6610 - acc: 0.328 - ETA: 5s - loss: 4.6605 - acc: 0.328 - ETA: 5s - loss: 4.6597 - acc: 0.328 - ETA: 5s - loss: 4.6575 - acc: 0.329 - ETA: 5s - loss: 4.6597 - acc: 0.328 - ETA: 4s - loss: 4.6580 - acc: 0.328 - ETA: 4s - loss: 4.6588 - acc: 0.329 - ETA: 4s - loss: 4.6579 - acc: 0.329 - ETA: 4s - loss: 4.6584 - acc: 0.329 - ETA: 4s - loss: 4.6575 - acc: 0.329 - ETA: 4s - loss: 4.6587 - acc: 0.329 - ETA: 4s - loss: 4.6564 - acc: 0.329 - ETA: 4s - loss: 4.6573 - acc: 0.329 - ETA: 3s - loss: 4.6569 - acc: 0.329 - ETA: 3s - loss: 4.6559 - acc: 0.329 - ETA: 3s - loss: 4.6555 - acc: 0.330 - ETA: 3s - loss: 4.6540 - acc: 0.330 - ETA: 3s - loss: 4.6509 - acc: 0.330 - ETA: 3s - loss: 4.6512 - acc: 0.331 - ETA: 3s - loss: 4.6493 - acc: 0.331 - ETA: 3s - loss: 4.6490 - acc: 0.331 - ETA: 2s - loss: 4.6493 - acc: 0.331 - ETA: 2s - loss: 4.6490 - acc: 0.331 - ETA: 2s - loss: 4.6493 - acc: 0.332 - ETA: 2s - loss: 4.6472 - acc: 0.332 - ETA: 2s - loss: 4.6464 - acc: 0.332 - ETA: 2s - loss: 4.6452 - acc: 0.332 - ETA: 2s - loss: 4.6441 - acc: 0.332 - ETA: 2s - loss: 4.6446 - acc: 0.332 - ETA: 1s - loss: 4.6452 - acc: 0.332 - ETA: 1s - loss: 4.6441 - acc: 0.332 - ETA: 1s - loss: 4.6428 - acc: 0.333 - ETA: 1s - loss: 4.6421 - acc: 0.333 - ETA: 1s - loss: 4.6419 - acc: 0.333 - ETA: 1s - loss: 4.6408 - acc: 0.333 - ETA: 1s - loss: 4.6405 - acc: 0.333 - ETA: 1s - loss: 4.6404 - acc: 0.333 - ETA: 0s - loss: 4.6410 - acc: 0.333 - ETA: 0s - loss: 4.6394 - acc: 0.333 - ETA: 0s - loss: 4.6375 - acc: 0.333 - ETA: 0s - loss: 4.6375 - acc: 0.333 - ETA: 0s - loss: 4.6366 - acc: 0.333 - ETA: 0s - loss: 4.6361 - acc: 0.334 - ETA: 0s - loss: 4.6357 - acc: 0.334 - ETA: 0s - loss: 4.6364 - acc: 0.333 - 10s 564us/step - loss: 4.6359 - acc: 0.3340 - val_loss: 4.7250 - val_acc: 0.3485\n",
      "Epoch 5/200\n",
      "18357/18357 [==============================] - ETA: 8s - loss: 4.4627 - acc: 0.341 - ETA: 8s - loss: 4.4610 - acc: 0.340 - ETA: 8s - loss: 4.4657 - acc: 0.337 - ETA: 8s - loss: 4.5096 - acc: 0.335 - ETA: 8s - loss: 4.5113 - acc: 0.336 - ETA: 8s - loss: 4.4924 - acc: 0.340 - ETA: 8s - loss: 4.4764 - acc: 0.341 - ETA: 7s - loss: 4.4784 - acc: 0.342 - ETA: 7s - loss: 4.4832 - acc: 0.341 - ETA: 7s - loss: 4.4790 - acc: 0.339 - ETA: 7s - loss: 4.4788 - acc: 0.341 - ETA: 7s - loss: 4.4886 - acc: 0.339 - ETA: 7s - loss: 4.4848 - acc: 0.341 - ETA: 7s - loss: 4.4888 - acc: 0.340 - ETA: 7s - loss: 4.4942 - acc: 0.340 - ETA: 6s - loss: 4.4928 - acc: 0.340 - ETA: 6s - loss: 4.4942 - acc: 0.340 - ETA: 6s - loss: 4.4947 - acc: 0.340 - ETA: 6s - loss: 4.4935 - acc: 0.341 - ETA: 6s - loss: 4.4920 - acc: 0.340 - ETA: 6s - loss: 4.4909 - acc: 0.340 - ETA: 6s - loss: 4.4882 - acc: 0.341 - ETA: 6s - loss: 4.4862 - acc: 0.341 - ETA: 5s - loss: 4.4897 - acc: 0.341 - ETA: 5s - loss: 4.4896 - acc: 0.341 - ETA: 5s - loss: 4.4921 - acc: 0.341 - ETA: 5s - loss: 4.4967 - acc: 0.341 - ETA: 5s - loss: 4.4934 - acc: 0.342 - ETA: 5s - loss: 4.4960 - acc: 0.341 - ETA: 5s - loss: 4.4958 - acc: 0.341 - ETA: 5s - loss: 4.4948 - acc: 0.341 - ETA: 4s - loss: 4.4956 - acc: 0.341 - ETA: 4s - loss: 4.4937 - acc: 0.341 - ETA: 4s - loss: 4.4913 - acc: 0.342 - ETA: 4s - loss: 4.4901 - acc: 0.342 - ETA: 4s - loss: 4.4914 - acc: 0.342 - ETA: 4s - loss: 4.4897 - acc: 0.342 - ETA: 4s - loss: 4.4919 - acc: 0.342 - ETA: 4s - loss: 4.4930 - acc: 0.342 - ETA: 3s - loss: 4.4921 - acc: 0.342 - ETA: 3s - loss: 4.4923 - acc: 0.342 - ETA: 3s - loss: 4.4899 - acc: 0.342 - ETA: 3s - loss: 4.4915 - acc: 0.342 - ETA: 3s - loss: 4.4909 - acc: 0.342 - ETA: 3s - loss: 4.4927 - acc: 0.342 - ETA: 3s - loss: 4.4920 - acc: 0.342 - ETA: 3s - loss: 4.4902 - acc: 0.342 - ETA: 2s - loss: 4.4888 - acc: 0.342 - ETA: 2s - loss: 4.4914 - acc: 0.342 - ETA: 2s - loss: 4.4913 - acc: 0.342 - ETA: 2s - loss: 4.4909 - acc: 0.342 - ETA: 2s - loss: 4.4908 - acc: 0.342 - ETA: 2s - loss: 4.4902 - acc: 0.342 - ETA: 2s - loss: 4.4883 - acc: 0.343 - ETA: 2s - loss: 4.4895 - acc: 0.342 - ETA: 1s - loss: 4.4893 - acc: 0.343 - ETA: 1s - loss: 4.4869 - acc: 0.343 - ETA: 1s - loss: 4.4844 - acc: 0.343 - ETA: 1s - loss: 4.4845 - acc: 0.343 - ETA: 1s - loss: 4.4852 - acc: 0.343 - ETA: 1s - loss: 4.4860 - acc: 0.343 - ETA: 1s - loss: 4.4873 - acc: 0.343 - ETA: 1s - loss: 4.4865 - acc: 0.343 - ETA: 0s - loss: 4.4867 - acc: 0.343 - ETA: 0s - loss: 4.4865 - acc: 0.343 - ETA: 0s - loss: 4.4855 - acc: 0.343 - ETA: 0s - loss: 4.4833 - acc: 0.344 - ETA: 0s - loss: 4.4839 - acc: 0.344 - ETA: 0s - loss: 4.4838 - acc: 0.344 - ETA: 0s - loss: 4.4840 - acc: 0.344 - ETA: 0s - loss: 4.4841 - acc: 0.344 - 10s 558us/step - loss: 4.4831 - acc: 0.3442 - val_loss: 4.6121 - val_acc: 0.3531\n",
      "Epoch 6/200\n"
     ]
    },
    {
     "name": "stdout",
     "output_type": "stream",
     "text": [
      "18357/18357 [==============================] - ETA: 8s - loss: 4.3994 - acc: 0.357 - ETA: 8s - loss: 4.4276 - acc: 0.337 - ETA: 8s - loss: 4.4120 - acc: 0.340 - ETA: 8s - loss: 4.3983 - acc: 0.341 - ETA: 8s - loss: 4.4032 - acc: 0.343 - ETA: 8s - loss: 4.3991 - acc: 0.345 - ETA: 8s - loss: 4.3931 - acc: 0.347 - ETA: 8s - loss: 4.3801 - acc: 0.349 - ETA: 7s - loss: 4.3749 - acc: 0.348 - ETA: 7s - loss: 4.3673 - acc: 0.350 - ETA: 7s - loss: 4.3637 - acc: 0.350 - ETA: 7s - loss: 4.3624 - acc: 0.351 - ETA: 7s - loss: 4.3587 - acc: 0.350 - ETA: 7s - loss: 4.3639 - acc: 0.349 - ETA: 7s - loss: 4.3591 - acc: 0.350 - ETA: 7s - loss: 4.3632 - acc: 0.349 - ETA: 6s - loss: 4.3637 - acc: 0.348 - ETA: 6s - loss: 4.3637 - acc: 0.348 - ETA: 6s - loss: 4.3583 - acc: 0.349 - ETA: 6s - loss: 4.3524 - acc: 0.349 - ETA: 6s - loss: 4.3525 - acc: 0.349 - ETA: 6s - loss: 4.3527 - acc: 0.349 - ETA: 6s - loss: 4.3538 - acc: 0.348 - ETA: 5s - loss: 4.3538 - acc: 0.349 - ETA: 5s - loss: 4.3529 - acc: 0.349 - ETA: 5s - loss: 4.3516 - acc: 0.350 - ETA: 5s - loss: 4.3533 - acc: 0.349 - ETA: 5s - loss: 4.3573 - acc: 0.349 - ETA: 5s - loss: 4.3610 - acc: 0.348 - ETA: 5s - loss: 4.3608 - acc: 0.348 - ETA: 5s - loss: 4.3591 - acc: 0.349 - ETA: 4s - loss: 4.3603 - acc: 0.349 - ETA: 4s - loss: 4.3609 - acc: 0.349 - ETA: 4s - loss: 4.3620 - acc: 0.349 - ETA: 4s - loss: 4.3579 - acc: 0.350 - ETA: 4s - loss: 4.3547 - acc: 0.350 - ETA: 4s - loss: 4.3545 - acc: 0.350 - ETA: 4s - loss: 4.3533 - acc: 0.350 - ETA: 4s - loss: 4.3543 - acc: 0.349 - ETA: 3s - loss: 4.3535 - acc: 0.350 - ETA: 3s - loss: 4.3522 - acc: 0.350 - ETA: 3s - loss: 4.3529 - acc: 0.350 - ETA: 3s - loss: 4.3538 - acc: 0.350 - ETA: 3s - loss: 4.3536 - acc: 0.350 - ETA: 3s - loss: 4.3503 - acc: 0.351 - ETA: 3s - loss: 4.3497 - acc: 0.351 - ETA: 3s - loss: 4.3503 - acc: 0.351 - ETA: 2s - loss: 4.3520 - acc: 0.351 - ETA: 2s - loss: 4.3523 - acc: 0.351 - ETA: 2s - loss: 4.3533 - acc: 0.351 - ETA: 2s - loss: 4.3531 - acc: 0.352 - ETA: 2s - loss: 4.3547 - acc: 0.351 - ETA: 2s - loss: 4.3524 - acc: 0.352 - ETA: 2s - loss: 4.3527 - acc: 0.352 - ETA: 2s - loss: 4.3529 - acc: 0.351 - ETA: 1s - loss: 4.3537 - acc: 0.352 - ETA: 1s - loss: 4.3528 - acc: 0.352 - ETA: 1s - loss: 4.3494 - acc: 0.353 - ETA: 1s - loss: 4.3490 - acc: 0.353 - ETA: 1s - loss: 4.3487 - acc: 0.353 - ETA: 1s - loss: 4.3483 - acc: 0.353 - ETA: 1s - loss: 4.3475 - acc: 0.354 - ETA: 1s - loss: 4.3468 - acc: 0.354 - ETA: 0s - loss: 4.3462 - acc: 0.354 - ETA: 0s - loss: 4.3467 - acc: 0.354 - ETA: 0s - loss: 4.3479 - acc: 0.354 - ETA: 0s - loss: 4.3460 - acc: 0.355 - ETA: 0s - loss: 4.3456 - acc: 0.355 - ETA: 0s - loss: 4.3439 - acc: 0.355 - ETA: 0s - loss: 4.3434 - acc: 0.355 - ETA: 0s - loss: 4.3433 - acc: 0.356 - 10s 566us/step - loss: 4.3433 - acc: 0.3561 - val_loss: 4.4895 - val_acc: 0.3823\n",
      "Epoch 7/200\n",
      "18357/18357 [==============================] - ETA: 8s - loss: 4.2633 - acc: 0.357 - ETA: 8s - loss: 4.2284 - acc: 0.368 - ETA: 8s - loss: 4.2153 - acc: 0.373 - ETA: 8s - loss: 4.2131 - acc: 0.378 - ETA: 8s - loss: 4.1984 - acc: 0.380 - ETA: 8s - loss: 4.1877 - acc: 0.382 - ETA: 7s - loss: 4.1913 - acc: 0.381 - ETA: 7s - loss: 4.1931 - acc: 0.381 - ETA: 7s - loss: 4.1819 - acc: 0.383 - ETA: 7s - loss: 4.1879 - acc: 0.381 - ETA: 7s - loss: 4.1866 - acc: 0.383 - ETA: 7s - loss: 4.1961 - acc: 0.381 - ETA: 7s - loss: 4.1977 - acc: 0.381 - ETA: 7s - loss: 4.1975 - acc: 0.382 - ETA: 7s - loss: 4.1991 - acc: 0.381 - ETA: 6s - loss: 4.2001 - acc: 0.381 - ETA: 6s - loss: 4.2057 - acc: 0.381 - ETA: 6s - loss: 4.2027 - acc: 0.382 - ETA: 6s - loss: 4.2060 - acc: 0.381 - ETA: 6s - loss: 4.1984 - acc: 0.383 - ETA: 6s - loss: 4.1958 - acc: 0.384 - ETA: 6s - loss: 4.1958 - acc: 0.384 - ETA: 6s - loss: 4.1960 - acc: 0.385 - ETA: 6s - loss: 4.1946 - acc: 0.385 - ETA: 5s - loss: 4.1959 - acc: 0.385 - ETA: 5s - loss: 4.1917 - acc: 0.386 - ETA: 5s - loss: 4.1872 - acc: 0.386 - ETA: 5s - loss: 4.1856 - acc: 0.386 - ETA: 5s - loss: 4.1868 - acc: 0.386 - ETA: 5s - loss: 4.1853 - acc: 0.386 - ETA: 5s - loss: 4.1834 - acc: 0.387 - ETA: 4s - loss: 4.1863 - acc: 0.387 - ETA: 4s - loss: 4.1868 - acc: 0.387 - ETA: 4s - loss: 4.1857 - acc: 0.387 - ETA: 4s - loss: 4.1841 - acc: 0.387 - ETA: 4s - loss: 4.1839 - acc: 0.387 - ETA: 4s - loss: 4.1869 - acc: 0.387 - ETA: 4s - loss: 4.1864 - acc: 0.387 - ETA: 4s - loss: 4.1853 - acc: 0.388 - ETA: 3s - loss: 4.1855 - acc: 0.388 - ETA: 3s - loss: 4.1862 - acc: 0.388 - ETA: 3s - loss: 4.1880 - acc: 0.388 - ETA: 3s - loss: 4.1854 - acc: 0.389 - ETA: 3s - loss: 4.1832 - acc: 0.389 - ETA: 3s - loss: 4.1819 - acc: 0.389 - ETA: 3s - loss: 4.1850 - acc: 0.389 - ETA: 3s - loss: 4.1859 - acc: 0.389 - ETA: 2s - loss: 4.1854 - acc: 0.389 - ETA: 2s - loss: 4.1849 - acc: 0.389 - ETA: 2s - loss: 4.1837 - acc: 0.389 - ETA: 2s - loss: 4.1817 - acc: 0.390 - ETA: 2s - loss: 4.1798 - acc: 0.390 - ETA: 2s - loss: 4.1800 - acc: 0.390 - ETA: 2s - loss: 4.1811 - acc: 0.391 - ETA: 2s - loss: 4.1802 - acc: 0.391 - ETA: 1s - loss: 4.1812 - acc: 0.391 - ETA: 1s - loss: 4.1792 - acc: 0.391 - ETA: 1s - loss: 4.1782 - acc: 0.391 - ETA: 1s - loss: 4.1788 - acc: 0.391 - ETA: 1s - loss: 4.1779 - acc: 0.392 - ETA: 1s - loss: 4.1758 - acc: 0.392 - ETA: 1s - loss: 4.1754 - acc: 0.392 - ETA: 1s - loss: 4.1734 - acc: 0.392 - ETA: 0s - loss: 4.1714 - acc: 0.392 - ETA: 0s - loss: 4.1699 - acc: 0.393 - ETA: 0s - loss: 4.1707 - acc: 0.392 - ETA: 0s - loss: 4.1705 - acc: 0.393 - ETA: 0s - loss: 4.1692 - acc: 0.393 - ETA: 0s - loss: 4.1656 - acc: 0.393 - ETA: 0s - loss: 4.1656 - acc: 0.393 - ETA: 0s - loss: 4.1634 - acc: 0.394 - 10s 565us/step - loss: 4.1640 - acc: 0.3942 - val_loss: 4.3350 - val_acc: 0.4059\n",
      "Epoch 8/200\n"
     ]
    },
    {
     "name": "stdout",
     "output_type": "stream",
     "text": [
      "18357/18357 [==============================] - ETA: 8s - loss: 3.9946 - acc: 0.415 - ETA: 8s - loss: 3.9664 - acc: 0.415 - ETA: 8s - loss: 3.9877 - acc: 0.412 - ETA: 8s - loss: 4.0024 - acc: 0.407 - ETA: 8s - loss: 4.0139 - acc: 0.407 - ETA: 8s - loss: 4.0153 - acc: 0.406 - ETA: 8s - loss: 4.0194 - acc: 0.405 - ETA: 8s - loss: 4.0110 - acc: 0.405 - ETA: 7s - loss: 3.9960 - acc: 0.408 - ETA: 7s - loss: 4.0063 - acc: 0.407 - ETA: 7s - loss: 4.0026 - acc: 0.407 - ETA: 7s - loss: 3.9960 - acc: 0.408 - ETA: 7s - loss: 3.9911 - acc: 0.408 - ETA: 7s - loss: 3.9919 - acc: 0.408 - ETA: 7s - loss: 3.9895 - acc: 0.409 - ETA: 7s - loss: 3.9861 - acc: 0.410 - ETA: 6s - loss: 3.9918 - acc: 0.409 - ETA: 6s - loss: 3.9910 - acc: 0.409 - ETA: 6s - loss: 3.9901 - acc: 0.409 - ETA: 6s - loss: 3.9946 - acc: 0.409 - ETA: 6s - loss: 3.9955 - acc: 0.409 - ETA: 6s - loss: 3.9957 - acc: 0.408 - ETA: 6s - loss: 3.9935 - acc: 0.409 - ETA: 6s - loss: 3.9906 - acc: 0.409 - ETA: 5s - loss: 3.9878 - acc: 0.411 - ETA: 5s - loss: 3.9872 - acc: 0.411 - ETA: 5s - loss: 3.9869 - acc: 0.411 - ETA: 5s - loss: 3.9889 - acc: 0.411 - ETA: 5s - loss: 3.9874 - acc: 0.412 - ETA: 5s - loss: 3.9875 - acc: 0.412 - ETA: 5s - loss: 3.9867 - acc: 0.411 - ETA: 5s - loss: 3.9877 - acc: 0.412 - ETA: 4s - loss: 3.9862 - acc: 0.412 - ETA: 4s - loss: 3.9863 - acc: 0.412 - ETA: 4s - loss: 3.9871 - acc: 0.412 - ETA: 4s - loss: 3.9866 - acc: 0.412 - ETA: 4s - loss: 3.9843 - acc: 0.412 - ETA: 4s - loss: 3.9844 - acc: 0.412 - ETA: 4s - loss: 3.9838 - acc: 0.412 - ETA: 4s - loss: 3.9842 - acc: 0.412 - ETA: 3s - loss: 3.9831 - acc: 0.413 - ETA: 3s - loss: 3.9828 - acc: 0.413 - ETA: 3s - loss: 3.9796 - acc: 0.413 - ETA: 3s - loss: 3.9827 - acc: 0.413 - ETA: 3s - loss: 3.9816 - acc: 0.413 - ETA: 3s - loss: 3.9818 - acc: 0.413 - ETA: 3s - loss: 3.9820 - acc: 0.413 - ETA: 2s - loss: 3.9829 - acc: 0.413 - ETA: 2s - loss: 3.9825 - acc: 0.413 - ETA: 2s - loss: 3.9800 - acc: 0.413 - ETA: 2s - loss: 3.9809 - acc: 0.413 - ETA: 2s - loss: 3.9776 - acc: 0.413 - ETA: 2s - loss: 3.9786 - acc: 0.413 - ETA: 2s - loss: 3.9778 - acc: 0.413 - ETA: 2s - loss: 3.9788 - acc: 0.413 - ETA: 1s - loss: 3.9783 - acc: 0.413 - ETA: 1s - loss: 3.9782 - acc: 0.413 - ETA: 1s - loss: 3.9782 - acc: 0.413 - ETA: 1s - loss: 3.9781 - acc: 0.413 - ETA: 1s - loss: 3.9767 - acc: 0.413 - ETA: 1s - loss: 3.9775 - acc: 0.413 - ETA: 1s - loss: 3.9776 - acc: 0.413 - ETA: 1s - loss: 3.9768 - acc: 0.413 - ETA: 0s - loss: 3.9770 - acc: 0.413 - ETA: 0s - loss: 3.9765 - acc: 0.413 - ETA: 0s - loss: 3.9765 - acc: 0.413 - ETA: 0s - loss: 3.9761 - acc: 0.413 - ETA: 0s - loss: 3.9770 - acc: 0.414 - ETA: 0s - loss: 3.9769 - acc: 0.414 - ETA: 0s - loss: 3.9772 - acc: 0.414 - ETA: 0s - loss: 3.9757 - acc: 0.414 - 10s 567us/step - loss: 3.9741 - acc: 0.4143 - val_loss: 4.1923 - val_acc: 0.4183\n",
      "Epoch 9/200\n",
      "18357/18357 [==============================] - ETA: 8s - loss: 3.8012 - acc: 0.427 - ETA: 8s - loss: 3.7775 - acc: 0.434 - ETA: 8s - loss: 3.8255 - acc: 0.429 - ETA: 8s - loss: 3.8059 - acc: 0.430 - ETA: 8s - loss: 3.7974 - acc: 0.430 - ETA: 8s - loss: 3.7835 - acc: 0.430 - ETA: 8s - loss: 3.7759 - acc: 0.429 - ETA: 8s - loss: 3.7725 - acc: 0.429 - ETA: 8s - loss: 3.7812 - acc: 0.430 - ETA: 7s - loss: 3.7803 - acc: 0.430 - ETA: 7s - loss: 3.7846 - acc: 0.429 - ETA: 7s - loss: 3.7843 - acc: 0.429 - ETA: 7s - loss: 3.7868 - acc: 0.429 - ETA: 7s - loss: 3.7892 - acc: 0.428 - ETA: 7s - loss: 3.7907 - acc: 0.428 - ETA: 7s - loss: 3.7963 - acc: 0.427 - ETA: 6s - loss: 3.7893 - acc: 0.428 - ETA: 6s - loss: 3.7916 - acc: 0.428 - ETA: 6s - loss: 3.7938 - acc: 0.428 - ETA: 6s - loss: 3.7922 - acc: 0.429 - ETA: 6s - loss: 3.7942 - acc: 0.429 - ETA: 6s - loss: 3.7946 - acc: 0.429 - ETA: 6s - loss: 3.7984 - acc: 0.429 - ETA: 6s - loss: 3.7968 - acc: 0.429 - ETA: 5s - loss: 3.7987 - acc: 0.429 - ETA: 5s - loss: 3.7974 - acc: 0.430 - ETA: 5s - loss: 3.7964 - acc: 0.431 - ETA: 5s - loss: 3.7969 - acc: 0.431 - ETA: 5s - loss: 3.7938 - acc: 0.431 - ETA: 5s - loss: 3.7950 - acc: 0.431 - ETA: 5s - loss: 3.7972 - acc: 0.431 - ETA: 4s - loss: 3.7962 - acc: 0.431 - ETA: 4s - loss: 3.7959 - acc: 0.431 - ETA: 4s - loss: 3.7956 - acc: 0.431 - ETA: 4s - loss: 3.7971 - acc: 0.431 - ETA: 4s - loss: 3.7988 - acc: 0.431 - ETA: 4s - loss: 3.7997 - acc: 0.431 - ETA: 4s - loss: 3.8023 - acc: 0.431 - ETA: 4s - loss: 3.8070 - acc: 0.430 - ETA: 3s - loss: 3.8055 - acc: 0.430 - ETA: 3s - loss: 3.8055 - acc: 0.430 - ETA: 3s - loss: 3.8064 - acc: 0.430 - ETA: 3s - loss: 3.8071 - acc: 0.430 - ETA: 3s - loss: 3.8073 - acc: 0.430 - ETA: 3s - loss: 3.8073 - acc: 0.430 - ETA: 3s - loss: 3.8071 - acc: 0.430 - ETA: 3s - loss: 3.8060 - acc: 0.430 - ETA: 2s - loss: 3.8070 - acc: 0.430 - ETA: 2s - loss: 3.8052 - acc: 0.430 - ETA: 2s - loss: 3.8042 - acc: 0.430 - ETA: 2s - loss: 3.8038 - acc: 0.430 - ETA: 2s - loss: 3.8037 - acc: 0.431 - ETA: 2s - loss: 3.8053 - acc: 0.430 - ETA: 2s - loss: 3.8042 - acc: 0.431 - ETA: 2s - loss: 3.8019 - acc: 0.431 - ETA: 1s - loss: 3.8008 - acc: 0.431 - ETA: 1s - loss: 3.8001 - acc: 0.431 - ETA: 1s - loss: 3.8005 - acc: 0.431 - ETA: 1s - loss: 3.7996 - acc: 0.432 - ETA: 1s - loss: 3.7994 - acc: 0.431 - ETA: 1s - loss: 3.7989 - acc: 0.432 - ETA: 1s - loss: 3.8003 - acc: 0.431 - ETA: 1s - loss: 3.7999 - acc: 0.432 - ETA: 0s - loss: 3.8000 - acc: 0.432 - ETA: 0s - loss: 3.7989 - acc: 0.432 - ETA: 0s - loss: 3.7988 - acc: 0.432 - ETA: 0s - loss: 3.7981 - acc: 0.432 - ETA: 0s - loss: 3.7970 - acc: 0.432 - ETA: 0s - loss: 3.7953 - acc: 0.432 - ETA: 0s - loss: 3.7956 - acc: 0.432 - ETA: 0s - loss: 3.7943 - acc: 0.432 - 10s 567us/step - loss: 3.7934 - acc: 0.4329 - val_loss: 4.0646 - val_acc: 0.4323\n",
      "Epoch 10/200\n"
     ]
    },
    {
     "name": "stdout",
     "output_type": "stream",
     "text": [
      "18357/18357 [==============================] - ETA: 8s - loss: 3.6703 - acc: 0.437 - ETA: 8s - loss: 3.6664 - acc: 0.436 - ETA: 8s - loss: 3.6410 - acc: 0.443 - ETA: 8s - loss: 3.6392 - acc: 0.444 - ETA: 8s - loss: 3.6366 - acc: 0.447 - ETA: 8s - loss: 3.6192 - acc: 0.450 - ETA: 8s - loss: 3.6287 - acc: 0.448 - ETA: 8s - loss: 3.6266 - acc: 0.448 - ETA: 7s - loss: 3.6418 - acc: 0.447 - ETA: 7s - loss: 3.6293 - acc: 0.449 - ETA: 7s - loss: 3.6296 - acc: 0.448 - ETA: 7s - loss: 3.6324 - acc: 0.448 - ETA: 7s - loss: 3.6294 - acc: 0.449 - ETA: 7s - loss: 3.6341 - acc: 0.447 - ETA: 7s - loss: 3.6357 - acc: 0.447 - ETA: 7s - loss: 3.6375 - acc: 0.447 - ETA: 6s - loss: 3.6389 - acc: 0.447 - ETA: 6s - loss: 3.6459 - acc: 0.447 - ETA: 6s - loss: 3.6454 - acc: 0.447 - ETA: 6s - loss: 3.6502 - acc: 0.446 - ETA: 6s - loss: 3.6520 - acc: 0.446 - ETA: 6s - loss: 3.6545 - acc: 0.446 - ETA: 6s - loss: 3.6562 - acc: 0.447 - ETA: 6s - loss: 3.6536 - acc: 0.447 - ETA: 5s - loss: 3.6496 - acc: 0.448 - ETA: 5s - loss: 3.6491 - acc: 0.448 - ETA: 5s - loss: 3.6495 - acc: 0.448 - ETA: 5s - loss: 3.6486 - acc: 0.448 - ETA: 5s - loss: 3.6507 - acc: 0.448 - ETA: 5s - loss: 3.6501 - acc: 0.448 - ETA: 5s - loss: 3.6481 - acc: 0.449 - ETA: 5s - loss: 3.6464 - acc: 0.449 - ETA: 4s - loss: 3.6431 - acc: 0.449 - ETA: 4s - loss: 3.6414 - acc: 0.449 - ETA: 4s - loss: 3.6365 - acc: 0.450 - ETA: 4s - loss: 3.6361 - acc: 0.449 - ETA: 4s - loss: 3.6356 - acc: 0.449 - ETA: 4s - loss: 3.6316 - acc: 0.450 - ETA: 4s - loss: 3.6309 - acc: 0.450 - ETA: 4s - loss: 3.6307 - acc: 0.450 - ETA: 3s - loss: 3.6296 - acc: 0.450 - ETA: 3s - loss: 3.6297 - acc: 0.450 - ETA: 3s - loss: 3.6288 - acc: 0.450 - ETA: 3s - loss: 3.6297 - acc: 0.450 - ETA: 3s - loss: 3.6277 - acc: 0.450 - ETA: 3s - loss: 3.6302 - acc: 0.450 - ETA: 3s - loss: 3.6308 - acc: 0.450 - ETA: 2s - loss: 3.6289 - acc: 0.451 - ETA: 2s - loss: 3.6295 - acc: 0.451 - ETA: 2s - loss: 3.6318 - acc: 0.451 - ETA: 2s - loss: 3.6320 - acc: 0.450 - ETA: 2s - loss: 3.6312 - acc: 0.451 - ETA: 2s - loss: 3.6326 - acc: 0.450 - ETA: 2s - loss: 3.6315 - acc: 0.450 - ETA: 2s - loss: 3.6308 - acc: 0.451 - ETA: 1s - loss: 3.6293 - acc: 0.451 - ETA: 1s - loss: 3.6274 - acc: 0.451 - ETA: 1s - loss: 3.6279 - acc: 0.451 - ETA: 1s - loss: 3.6272 - acc: 0.451 - ETA: 1s - loss: 3.6269 - acc: 0.451 - ETA: 1s - loss: 3.6264 - acc: 0.451 - ETA: 1s - loss: 3.6261 - acc: 0.451 - ETA: 1s - loss: 3.6262 - acc: 0.451 - ETA: 0s - loss: 3.6254 - acc: 0.451 - ETA: 0s - loss: 3.6253 - acc: 0.451 - ETA: 0s - loss: 3.6229 - acc: 0.452 - ETA: 0s - loss: 3.6230 - acc: 0.452 - ETA: 0s - loss: 3.6227 - acc: 0.452 - ETA: 0s - loss: 3.6226 - acc: 0.452 - ETA: 0s - loss: 3.6211 - acc: 0.452 - ETA: 0s - loss: 3.6212 - acc: 0.452 - 10s 563us/step - loss: 3.6217 - acc: 0.4526 - val_loss: 3.9464 - val_acc: 0.4514\n",
      "Epoch 11/200\n",
      "18357/18357 [==============================] - ETA: 9s - loss: 3.4219 - acc: 0.477 - ETA: 8s - loss: 3.4434 - acc: 0.474 - ETA: 8s - loss: 3.4607 - acc: 0.469 - ETA: 8s - loss: 3.4678 - acc: 0.467 - ETA: 8s - loss: 3.4588 - acc: 0.469 - ETA: 8s - loss: 3.4587 - acc: 0.471 - ETA: 8s - loss: 3.4487 - acc: 0.472 - ETA: 7s - loss: 3.4467 - acc: 0.471 - ETA: 7s - loss: 3.4462 - acc: 0.471 - ETA: 7s - loss: 3.4464 - acc: 0.471 - ETA: 7s - loss: 3.4431 - acc: 0.470 - ETA: 7s - loss: 3.4419 - acc: 0.471 - ETA: 7s - loss: 3.4406 - acc: 0.470 - ETA: 7s - loss: 3.4347 - acc: 0.469 - ETA: 7s - loss: 3.4408 - acc: 0.468 - ETA: 6s - loss: 3.4306 - acc: 0.469 - ETA: 6s - loss: 3.4296 - acc: 0.470 - ETA: 6s - loss: 3.4415 - acc: 0.468 - ETA: 6s - loss: 3.4414 - acc: 0.468 - ETA: 6s - loss: 3.4479 - acc: 0.468 - ETA: 6s - loss: 3.4471 - acc: 0.468 - ETA: 6s - loss: 3.4435 - acc: 0.469 - ETA: 6s - loss: 3.4415 - acc: 0.469 - ETA: 6s - loss: 3.4389 - acc: 0.469 - ETA: 5s - loss: 3.4407 - acc: 0.469 - ETA: 5s - loss: 3.4397 - acc: 0.470 - ETA: 5s - loss: 3.4436 - acc: 0.469 - ETA: 5s - loss: 3.4517 - acc: 0.468 - ETA: 5s - loss: 3.4488 - acc: 0.468 - ETA: 5s - loss: 3.4477 - acc: 0.469 - ETA: 5s - loss: 3.4486 - acc: 0.469 - ETA: 5s - loss: 3.4512 - acc: 0.469 - ETA: 4s - loss: 3.4506 - acc: 0.469 - ETA: 4s - loss: 3.4491 - acc: 0.470 - ETA: 4s - loss: 3.4458 - acc: 0.471 - ETA: 4s - loss: 3.4446 - acc: 0.471 - ETA: 4s - loss: 3.4459 - acc: 0.471 - ETA: 4s - loss: 3.4504 - acc: 0.471 - ETA: 4s - loss: 3.4532 - acc: 0.471 - ETA: 4s - loss: 3.4498 - acc: 0.472 - ETA: 3s - loss: 3.4468 - acc: 0.472 - ETA: 3s - loss: 3.4468 - acc: 0.472 - ETA: 3s - loss: 3.4471 - acc: 0.472 - ETA: 3s - loss: 3.4479 - acc: 0.472 - ETA: 3s - loss: 3.4487 - acc: 0.472 - ETA: 3s - loss: 3.4517 - acc: 0.472 - ETA: 3s - loss: 3.4524 - acc: 0.472 - ETA: 3s - loss: 3.4519 - acc: 0.472 - ETA: 2s - loss: 3.4515 - acc: 0.472 - ETA: 2s - loss: 3.4511 - acc: 0.473 - ETA: 2s - loss: 3.4527 - acc: 0.473 - ETA: 2s - loss: 3.4518 - acc: 0.473 - ETA: 2s - loss: 3.4523 - acc: 0.473 - ETA: 2s - loss: 3.4517 - acc: 0.473 - ETA: 2s - loss: 3.4507 - acc: 0.473 - ETA: 1s - loss: 3.4494 - acc: 0.473 - ETA: 1s - loss: 3.4501 - acc: 0.473 - ETA: 1s - loss: 3.4521 - acc: 0.473 - ETA: 1s - loss: 3.4529 - acc: 0.472 - ETA: 1s - loss: 3.4537 - acc: 0.472 - ETA: 1s - loss: 3.4541 - acc: 0.472 - ETA: 1s - loss: 3.4536 - acc: 0.472 - ETA: 1s - loss: 3.4539 - acc: 0.473 - ETA: 0s - loss: 3.4548 - acc: 0.473 - ETA: 0s - loss: 3.4554 - acc: 0.473 - ETA: 0s - loss: 3.4555 - acc: 0.472 - ETA: 0s - loss: 3.4540 - acc: 0.473 - ETA: 0s - loss: 3.4539 - acc: 0.473 - ETA: 0s - loss: 3.4538 - acc: 0.473 - ETA: 0s - loss: 3.4540 - acc: 0.473 - ETA: 0s - loss: 3.4515 - acc: 0.473 - 11s 573us/step - loss: 3.4506 - acc: 0.4736 - val_loss: 3.8243 - val_acc: 0.4647\n",
      "Epoch 12/200\n"
     ]
    },
    {
     "name": "stdout",
     "output_type": "stream",
     "text": [
      "18357/18357 [==============================] - ETA: 8s - loss: 3.3649 - acc: 0.485 - ETA: 8s - loss: 3.3142 - acc: 0.487 - ETA: 8s - loss: 3.2795 - acc: 0.492 - ETA: 8s - loss: 3.2644 - acc: 0.489 - ETA: 8s - loss: 3.2702 - acc: 0.488 - ETA: 8s - loss: 3.2859 - acc: 0.487 - ETA: 7s - loss: 3.2761 - acc: 0.487 - ETA: 7s - loss: 3.2719 - acc: 0.488 - ETA: 7s - loss: 3.2728 - acc: 0.488 - ETA: 7s - loss: 3.2781 - acc: 0.488 - ETA: 7s - loss: 3.2854 - acc: 0.486 - ETA: 7s - loss: 3.2789 - acc: 0.487 - ETA: 7s - loss: 3.2743 - acc: 0.488 - ETA: 7s - loss: 3.2677 - acc: 0.489 - ETA: 7s - loss: 3.2780 - acc: 0.488 - ETA: 6s - loss: 3.2774 - acc: 0.488 - ETA: 6s - loss: 3.2762 - acc: 0.488 - ETA: 6s - loss: 3.2758 - acc: 0.489 - ETA: 6s - loss: 3.2772 - acc: 0.489 - ETA: 6s - loss: 3.2758 - acc: 0.490 - ETA: 6s - loss: 3.2776 - acc: 0.490 - ETA: 6s - loss: 3.2763 - acc: 0.490 - ETA: 6s - loss: 3.2762 - acc: 0.490 - ETA: 6s - loss: 3.2768 - acc: 0.490 - ETA: 5s - loss: 3.2743 - acc: 0.490 - ETA: 5s - loss: 3.2721 - acc: 0.491 - ETA: 5s - loss: 3.2742 - acc: 0.490 - ETA: 5s - loss: 3.2758 - acc: 0.490 - ETA: 5s - loss: 3.2771 - acc: 0.490 - ETA: 5s - loss: 3.2804 - acc: 0.490 - ETA: 5s - loss: 3.2802 - acc: 0.490 - ETA: 4s - loss: 3.2792 - acc: 0.490 - ETA: 4s - loss: 3.2814 - acc: 0.490 - ETA: 4s - loss: 3.2790 - acc: 0.491 - ETA: 4s - loss: 3.2794 - acc: 0.491 - ETA: 4s - loss: 3.2787 - acc: 0.491 - ETA: 4s - loss: 3.2802 - acc: 0.490 - ETA: 4s - loss: 3.2825 - acc: 0.490 - ETA: 4s - loss: 3.2798 - acc: 0.490 - ETA: 3s - loss: 3.2816 - acc: 0.490 - ETA: 3s - loss: 3.2806 - acc: 0.490 - ETA: 3s - loss: 3.2778 - acc: 0.490 - ETA: 3s - loss: 3.2796 - acc: 0.490 - ETA: 3s - loss: 3.2804 - acc: 0.490 - ETA: 3s - loss: 3.2809 - acc: 0.490 - ETA: 3s - loss: 3.2801 - acc: 0.490 - ETA: 3s - loss: 3.2798 - acc: 0.490 - ETA: 2s - loss: 3.2799 - acc: 0.491 - ETA: 2s - loss: 3.2798 - acc: 0.491 - ETA: 2s - loss: 3.2797 - acc: 0.491 - ETA: 2s - loss: 3.2812 - acc: 0.491 - ETA: 2s - loss: 3.2790 - acc: 0.491 - ETA: 2s - loss: 3.2787 - acc: 0.491 - ETA: 2s - loss: 3.2811 - acc: 0.491 - ETA: 2s - loss: 3.2793 - acc: 0.491 - ETA: 1s - loss: 3.2779 - acc: 0.492 - ETA: 1s - loss: 3.2771 - acc: 0.492 - ETA: 1s - loss: 3.2777 - acc: 0.492 - ETA: 1s - loss: 3.2768 - acc: 0.492 - ETA: 1s - loss: 3.2782 - acc: 0.492 - ETA: 1s - loss: 3.2777 - acc: 0.492 - ETA: 1s - loss: 3.2791 - acc: 0.492 - ETA: 1s - loss: 3.2801 - acc: 0.492 - ETA: 0s - loss: 3.2802 - acc: 0.492 - ETA: 0s - loss: 3.2790 - acc: 0.492 - ETA: 0s - loss: 3.2783 - acc: 0.492 - ETA: 0s - loss: 3.2773 - acc: 0.492 - ETA: 0s - loss: 3.2791 - acc: 0.492 - ETA: 0s - loss: 3.2800 - acc: 0.492 - ETA: 0s - loss: 3.2807 - acc: 0.492 - ETA: 0s - loss: 3.2813 - acc: 0.492 - 10s 563us/step - loss: 3.2805 - acc: 0.4925 - val_loss: 3.7086 - val_acc: 0.4789\n",
      "Epoch 13/200\n",
      "18357/18357 [==============================] - ETA: 8s - loss: 3.1165 - acc: 0.497 - ETA: 8s - loss: 3.0400 - acc: 0.518 - ETA: 8s - loss: 3.0978 - acc: 0.508 - ETA: 8s - loss: 3.0964 - acc: 0.512 - ETA: 8s - loss: 3.1116 - acc: 0.510 - ETA: 8s - loss: 3.1120 - acc: 0.508 - ETA: 8s - loss: 3.1224 - acc: 0.506 - ETA: 7s - loss: 3.1169 - acc: 0.506 - ETA: 7s - loss: 3.1232 - acc: 0.506 - ETA: 7s - loss: 3.1167 - acc: 0.506 - ETA: 7s - loss: 3.1120 - acc: 0.507 - ETA: 7s - loss: 3.1064 - acc: 0.507 - ETA: 7s - loss: 3.1029 - acc: 0.509 - ETA: 7s - loss: 3.1041 - acc: 0.508 - ETA: 7s - loss: 3.1077 - acc: 0.508 - ETA: 6s - loss: 3.1072 - acc: 0.508 - ETA: 6s - loss: 3.1116 - acc: 0.508 - ETA: 6s - loss: 3.1154 - acc: 0.507 - ETA: 6s - loss: 3.1155 - acc: 0.507 - ETA: 6s - loss: 3.1192 - acc: 0.506 - ETA: 6s - loss: 3.1212 - acc: 0.506 - ETA: 6s - loss: 3.1191 - acc: 0.506 - ETA: 6s - loss: 3.1235 - acc: 0.506 - ETA: 5s - loss: 3.1208 - acc: 0.506 - ETA: 5s - loss: 3.1190 - acc: 0.506 - ETA: 5s - loss: 3.1203 - acc: 0.506 - ETA: 5s - loss: 3.1181 - acc: 0.506 - ETA: 5s - loss: 3.1211 - acc: 0.506 - ETA: 5s - loss: 3.1210 - acc: 0.505 - ETA: 5s - loss: 3.1229 - acc: 0.506 - ETA: 5s - loss: 3.1228 - acc: 0.506 - ETA: 4s - loss: 3.1213 - acc: 0.506 - ETA: 4s - loss: 3.1232 - acc: 0.506 - ETA: 4s - loss: 3.1255 - acc: 0.505 - ETA: 4s - loss: 3.1242 - acc: 0.506 - ETA: 4s - loss: 3.1218 - acc: 0.506 - ETA: 4s - loss: 3.1212 - acc: 0.506 - ETA: 4s - loss: 3.1203 - acc: 0.506 - ETA: 4s - loss: 3.1233 - acc: 0.506 - ETA: 3s - loss: 3.1215 - acc: 0.506 - ETA: 3s - loss: 3.1215 - acc: 0.505 - ETA: 3s - loss: 3.1227 - acc: 0.505 - ETA: 3s - loss: 3.1246 - acc: 0.505 - ETA: 3s - loss: 3.1220 - acc: 0.506 - ETA: 3s - loss: 3.1197 - acc: 0.506 - ETA: 3s - loss: 3.1172 - acc: 0.507 - ETA: 3s - loss: 3.1176 - acc: 0.507 - ETA: 2s - loss: 3.1171 - acc: 0.507 - ETA: 2s - loss: 3.1170 - acc: 0.507 - ETA: 2s - loss: 3.1168 - acc: 0.507 - ETA: 2s - loss: 3.1185 - acc: 0.507 - ETA: 2s - loss: 3.1198 - acc: 0.507 - ETA: 2s - loss: 3.1213 - acc: 0.507 - ETA: 2s - loss: 3.1225 - acc: 0.507 - ETA: 2s - loss: 3.1224 - acc: 0.506 - ETA: 1s - loss: 3.1220 - acc: 0.506 - ETA: 1s - loss: 3.1207 - acc: 0.507 - ETA: 1s - loss: 3.1189 - acc: 0.507 - ETA: 1s - loss: 3.1191 - acc: 0.507 - ETA: 1s - loss: 3.1181 - acc: 0.507 - ETA: 1s - loss: 3.1182 - acc: 0.507 - ETA: 1s - loss: 3.1175 - acc: 0.507 - ETA: 1s - loss: 3.1186 - acc: 0.507 - ETA: 0s - loss: 3.1189 - acc: 0.507 - ETA: 0s - loss: 3.1176 - acc: 0.507 - ETA: 0s - loss: 3.1159 - acc: 0.507 - ETA: 0s - loss: 3.1134 - acc: 0.508 - ETA: 0s - loss: 3.1132 - acc: 0.508 - ETA: 0s - loss: 3.1131 - acc: 0.508 - ETA: 0s - loss: 3.1121 - acc: 0.508 - ETA: 0s - loss: 3.1109 - acc: 0.508 - 10s 559us/step - loss: 3.1105 - acc: 0.5087 - val_loss: 3.5922 - val_acc: 0.4901\n",
      "Epoch 14/200\n"
     ]
    },
    {
     "name": "stdout",
     "output_type": "stream",
     "text": [
      "18357/18357 [==============================] - ETA: 8s - loss: 2.9317 - acc: 0.530 - ETA: 8s - loss: 2.9581 - acc: 0.521 - ETA: 8s - loss: 2.9441 - acc: 0.521 - ETA: 8s - loss: 2.9415 - acc: 0.527 - ETA: 8s - loss: 2.9298 - acc: 0.528 - ETA: 8s - loss: 2.9264 - acc: 0.529 - ETA: 8s - loss: 2.9228 - acc: 0.528 - ETA: 7s - loss: 2.9416 - acc: 0.527 - ETA: 7s - loss: 2.9463 - acc: 0.526 - ETA: 7s - loss: 2.9505 - acc: 0.526 - ETA: 7s - loss: 2.9520 - acc: 0.526 - ETA: 7s - loss: 2.9574 - acc: 0.525 - ETA: 7s - loss: 2.9539 - acc: 0.525 - ETA: 7s - loss: 2.9540 - acc: 0.524 - ETA: 7s - loss: 2.9545 - acc: 0.523 - ETA: 6s - loss: 2.9507 - acc: 0.524 - ETA: 6s - loss: 2.9479 - acc: 0.524 - ETA: 6s - loss: 2.9509 - acc: 0.524 - ETA: 6s - loss: 2.9495 - acc: 0.524 - ETA: 6s - loss: 2.9518 - acc: 0.523 - ETA: 6s - loss: 2.9510 - acc: 0.524 - ETA: 6s - loss: 2.9517 - acc: 0.524 - ETA: 6s - loss: 2.9507 - acc: 0.524 - ETA: 5s - loss: 2.9478 - acc: 0.524 - ETA: 5s - loss: 2.9444 - acc: 0.525 - ETA: 5s - loss: 2.9454 - acc: 0.525 - ETA: 5s - loss: 2.9464 - acc: 0.525 - ETA: 5s - loss: 2.9496 - acc: 0.525 - ETA: 5s - loss: 2.9515 - acc: 0.525 - ETA: 5s - loss: 2.9495 - acc: 0.525 - ETA: 5s - loss: 2.9487 - acc: 0.525 - ETA: 4s - loss: 2.9453 - acc: 0.526 - ETA: 4s - loss: 2.9467 - acc: 0.525 - ETA: 4s - loss: 2.9462 - acc: 0.526 - ETA: 4s - loss: 2.9443 - acc: 0.526 - ETA: 4s - loss: 2.9500 - acc: 0.525 - ETA: 4s - loss: 2.9497 - acc: 0.525 - ETA: 4s - loss: 2.9507 - acc: 0.525 - ETA: 4s - loss: 2.9525 - acc: 0.525 - ETA: 3s - loss: 2.9516 - acc: 0.525 - ETA: 3s - loss: 2.9522 - acc: 0.525 - ETA: 3s - loss: 2.9507 - acc: 0.525 - ETA: 3s - loss: 2.9505 - acc: 0.525 - ETA: 3s - loss: 2.9506 - acc: 0.525 - ETA: 3s - loss: 2.9521 - acc: 0.525 - ETA: 3s - loss: 2.9544 - acc: 0.525 - ETA: 3s - loss: 2.9549 - acc: 0.524 - ETA: 2s - loss: 2.9531 - acc: 0.525 - ETA: 2s - loss: 2.9526 - acc: 0.525 - ETA: 2s - loss: 2.9543 - acc: 0.525 - ETA: 2s - loss: 2.9545 - acc: 0.525 - ETA: 2s - loss: 2.9531 - acc: 0.525 - ETA: 2s - loss: 2.9510 - acc: 0.525 - ETA: 2s - loss: 2.9508 - acc: 0.525 - ETA: 2s - loss: 2.9477 - acc: 0.526 - ETA: 1s - loss: 2.9457 - acc: 0.526 - ETA: 1s - loss: 2.9447 - acc: 0.526 - ETA: 1s - loss: 2.9425 - acc: 0.526 - ETA: 1s - loss: 2.9428 - acc: 0.526 - ETA: 1s - loss: 2.9441 - acc: 0.526 - ETA: 1s - loss: 2.9435 - acc: 0.526 - ETA: 1s - loss: 2.9441 - acc: 0.526 - ETA: 1s - loss: 2.9435 - acc: 0.526 - ETA: 0s - loss: 2.9449 - acc: 0.526 - ETA: 0s - loss: 2.9448 - acc: 0.526 - ETA: 0s - loss: 2.9447 - acc: 0.526 - ETA: 0s - loss: 2.9454 - acc: 0.526 - ETA: 0s - loss: 2.9458 - acc: 0.526 - ETA: 0s - loss: 2.9435 - acc: 0.526 - ETA: 0s - loss: 2.9449 - acc: 0.526 - ETA: 0s - loss: 2.9450 - acc: 0.526 - 10s 560us/step - loss: 2.9444 - acc: 0.5268 - val_loss: 3.4905 - val_acc: 0.5007\n",
      "Epoch 15/200\n",
      "18357/18357 [==============================] - ETA: 8s - loss: 2.8216 - acc: 0.519 - ETA: 8s - loss: 2.7765 - acc: 0.533 - ETA: 8s - loss: 2.7564 - acc: 0.538 - ETA: 8s - loss: 2.7579 - acc: 0.539 - ETA: 8s - loss: 2.7754 - acc: 0.536 - ETA: 8s - loss: 2.7725 - acc: 0.536 - ETA: 8s - loss: 2.7765 - acc: 0.535 - ETA: 7s - loss: 2.7820 - acc: 0.534 - ETA: 7s - loss: 2.7850 - acc: 0.533 - ETA: 7s - loss: 2.7916 - acc: 0.533 - ETA: 7s - loss: 2.7911 - acc: 0.534 - ETA: 7s - loss: 2.7856 - acc: 0.535 - ETA: 7s - loss: 2.7827 - acc: 0.536 - ETA: 7s - loss: 2.7857 - acc: 0.536 - ETA: 7s - loss: 2.7778 - acc: 0.537 - ETA: 6s - loss: 2.7751 - acc: 0.538 - ETA: 6s - loss: 2.7789 - acc: 0.537 - ETA: 6s - loss: 2.7787 - acc: 0.537 - ETA: 6s - loss: 2.7822 - acc: 0.537 - ETA: 6s - loss: 2.7821 - acc: 0.537 - ETA: 6s - loss: 2.7833 - acc: 0.537 - ETA: 6s - loss: 2.7852 - acc: 0.537 - ETA: 6s - loss: 2.7884 - acc: 0.536 - ETA: 5s - loss: 2.7873 - acc: 0.537 - ETA: 5s - loss: 2.7836 - acc: 0.538 - ETA: 5s - loss: 2.7904 - acc: 0.537 - ETA: 5s - loss: 2.7908 - acc: 0.537 - ETA: 5s - loss: 2.7899 - acc: 0.538 - ETA: 5s - loss: 2.7857 - acc: 0.538 - ETA: 5s - loss: 2.7842 - acc: 0.538 - ETA: 5s - loss: 2.7816 - acc: 0.539 - ETA: 4s - loss: 2.7792 - acc: 0.539 - ETA: 4s - loss: 2.7803 - acc: 0.540 - ETA: 4s - loss: 2.7824 - acc: 0.539 - ETA: 4s - loss: 2.7796 - acc: 0.540 - ETA: 4s - loss: 2.7782 - acc: 0.540 - ETA: 4s - loss: 2.7802 - acc: 0.540 - ETA: 4s - loss: 2.7800 - acc: 0.540 - ETA: 4s - loss: 2.7801 - acc: 0.540 - ETA: 3s - loss: 2.7799 - acc: 0.541 - ETA: 3s - loss: 2.7799 - acc: 0.541 - ETA: 3s - loss: 2.7800 - acc: 0.541 - ETA: 3s - loss: 2.7799 - acc: 0.541 - ETA: 3s - loss: 2.7792 - acc: 0.541 - ETA: 3s - loss: 2.7812 - acc: 0.540 - ETA: 3s - loss: 2.7814 - acc: 0.540 - ETA: 3s - loss: 2.7817 - acc: 0.540 - ETA: 2s - loss: 2.7822 - acc: 0.540 - ETA: 2s - loss: 2.7837 - acc: 0.540 - ETA: 2s - loss: 2.7827 - acc: 0.540 - ETA: 2s - loss: 2.7830 - acc: 0.540 - ETA: 2s - loss: 2.7822 - acc: 0.540 - ETA: 2s - loss: 2.7849 - acc: 0.540 - ETA: 2s - loss: 2.7856 - acc: 0.540 - ETA: 2s - loss: 2.7853 - acc: 0.541 - ETA: 1s - loss: 2.7834 - acc: 0.541 - ETA: 1s - loss: 2.7827 - acc: 0.541 - ETA: 1s - loss: 2.7829 - acc: 0.541 - ETA: 1s - loss: 2.7837 - acc: 0.541 - ETA: 1s - loss: 2.7845 - acc: 0.541 - ETA: 1s - loss: 2.7845 - acc: 0.541 - ETA: 1s - loss: 2.7841 - acc: 0.541 - ETA: 1s - loss: 2.7843 - acc: 0.541 - ETA: 0s - loss: 2.7834 - acc: 0.541 - ETA: 0s - loss: 2.7841 - acc: 0.541 - ETA: 0s - loss: 2.7851 - acc: 0.541 - ETA: 0s - loss: 2.7859 - acc: 0.541 - ETA: 0s - loss: 2.7862 - acc: 0.541 - ETA: 0s - loss: 2.7872 - acc: 0.541 - ETA: 0s - loss: 2.7874 - acc: 0.541 - ETA: 0s - loss: 2.7879 - acc: 0.541 - 10s 560us/step - loss: 2.7866 - acc: 0.5415 - val_loss: 3.3977 - val_acc: 0.5098\n",
      "Epoch 16/200\n"
     ]
    },
    {
     "name": "stdout",
     "output_type": "stream",
     "text": [
      "18357/18357 [==============================] - ETA: 8s - loss: 2.7203 - acc: 0.538 - ETA: 8s - loss: 2.6634 - acc: 0.547 - ETA: 8s - loss: 2.6512 - acc: 0.552 - ETA: 8s - loss: 2.6505 - acc: 0.553 - ETA: 8s - loss: 2.6513 - acc: 0.550 - ETA: 8s - loss: 2.6559 - acc: 0.551 - ETA: 8s - loss: 2.6583 - acc: 0.552 - ETA: 8s - loss: 2.6601 - acc: 0.552 - ETA: 7s - loss: 2.6562 - acc: 0.552 - ETA: 7s - loss: 2.6519 - acc: 0.553 - ETA: 7s - loss: 2.6480 - acc: 0.552 - ETA: 7s - loss: 2.6453 - acc: 0.554 - ETA: 7s - loss: 2.6368 - acc: 0.554 - ETA: 7s - loss: 2.6381 - acc: 0.554 - ETA: 7s - loss: 2.6373 - acc: 0.554 - ETA: 6s - loss: 2.6357 - acc: 0.555 - ETA: 6s - loss: 2.6363 - acc: 0.554 - ETA: 6s - loss: 2.6361 - acc: 0.554 - ETA: 6s - loss: 2.6384 - acc: 0.554 - ETA: 6s - loss: 2.6371 - acc: 0.554 - ETA: 6s - loss: 2.6395 - acc: 0.554 - ETA: 6s - loss: 2.6325 - acc: 0.555 - ETA: 6s - loss: 2.6353 - acc: 0.554 - ETA: 5s - loss: 2.6348 - acc: 0.555 - ETA: 5s - loss: 2.6355 - acc: 0.555 - ETA: 5s - loss: 2.6361 - acc: 0.555 - ETA: 5s - loss: 2.6351 - acc: 0.555 - ETA: 5s - loss: 2.6327 - acc: 0.556 - ETA: 5s - loss: 2.6299 - acc: 0.556 - ETA: 5s - loss: 2.6291 - acc: 0.556 - ETA: 5s - loss: 2.6291 - acc: 0.556 - ETA: 4s - loss: 2.6295 - acc: 0.556 - ETA: 4s - loss: 2.6286 - acc: 0.557 - ETA: 4s - loss: 2.6296 - acc: 0.557 - ETA: 4s - loss: 2.6304 - acc: 0.556 - ETA: 4s - loss: 2.6327 - acc: 0.556 - ETA: 4s - loss: 2.6346 - acc: 0.556 - ETA: 4s - loss: 2.6334 - acc: 0.556 - ETA: 4s - loss: 2.6364 - acc: 0.556 - ETA: 3s - loss: 2.6354 - acc: 0.556 - ETA: 3s - loss: 2.6382 - acc: 0.555 - ETA: 3s - loss: 2.6409 - acc: 0.555 - ETA: 3s - loss: 2.6403 - acc: 0.555 - ETA: 3s - loss: 2.6381 - acc: 0.556 - ETA: 3s - loss: 2.6393 - acc: 0.556 - ETA: 3s - loss: 2.6397 - acc: 0.555 - ETA: 3s - loss: 2.6384 - acc: 0.555 - ETA: 2s - loss: 2.6380 - acc: 0.556 - ETA: 2s - loss: 2.6366 - acc: 0.556 - ETA: 2s - loss: 2.6372 - acc: 0.556 - ETA: 2s - loss: 2.6399 - acc: 0.555 - ETA: 2s - loss: 2.6384 - acc: 0.556 - ETA: 2s - loss: 2.6366 - acc: 0.556 - ETA: 2s - loss: 2.6361 - acc: 0.556 - ETA: 2s - loss: 2.6359 - acc: 0.556 - ETA: 1s - loss: 2.6358 - acc: 0.556 - ETA: 1s - loss: 2.6360 - acc: 0.556 - ETA: 1s - loss: 2.6349 - acc: 0.556 - ETA: 1s - loss: 2.6355 - acc: 0.556 - ETA: 1s - loss: 2.6346 - acc: 0.557 - ETA: 1s - loss: 2.6357 - acc: 0.557 - ETA: 1s - loss: 2.6363 - acc: 0.557 - ETA: 1s - loss: 2.6346 - acc: 0.557 - ETA: 0s - loss: 2.6337 - acc: 0.557 - ETA: 0s - loss: 2.6347 - acc: 0.557 - ETA: 0s - loss: 2.6347 - acc: 0.557 - ETA: 0s - loss: 2.6351 - acc: 0.557 - ETA: 0s - loss: 2.6358 - acc: 0.556 - ETA: 0s - loss: 2.6349 - acc: 0.557 - ETA: 0s - loss: 2.6347 - acc: 0.557 - ETA: 0s - loss: 2.6349 - acc: 0.557 - 10s 562us/step - loss: 2.6343 - acc: 0.5572 - val_loss: 3.3060 - val_acc: 0.5206\n",
      "Epoch 17/200\n",
      "18357/18357 [==============================] - ETA: 8s - loss: 2.5142 - acc: 0.560 - ETA: 8s - loss: 2.4667 - acc: 0.573 - ETA: 8s - loss: 2.4624 - acc: 0.575 - ETA: 8s - loss: 2.4313 - acc: 0.576 - ETA: 8s - loss: 2.4447 - acc: 0.575 - ETA: 8s - loss: 2.4498 - acc: 0.574 - ETA: 7s - loss: 2.4543 - acc: 0.574 - ETA: 7s - loss: 2.4482 - acc: 0.575 - ETA: 7s - loss: 2.4629 - acc: 0.573 - ETA: 7s - loss: 2.4637 - acc: 0.573 - ETA: 7s - loss: 2.4672 - acc: 0.573 - ETA: 7s - loss: 2.4766 - acc: 0.572 - ETA: 7s - loss: 2.4802 - acc: 0.572 - ETA: 7s - loss: 2.4798 - acc: 0.573 - ETA: 7s - loss: 2.4815 - acc: 0.572 - ETA: 6s - loss: 2.4761 - acc: 0.573 - ETA: 6s - loss: 2.4772 - acc: 0.573 - ETA: 6s - loss: 2.4828 - acc: 0.572 - ETA: 6s - loss: 2.4816 - acc: 0.572 - ETA: 6s - loss: 2.4795 - acc: 0.572 - ETA: 6s - loss: 2.4767 - acc: 0.573 - ETA: 6s - loss: 2.4784 - acc: 0.572 - ETA: 6s - loss: 2.4722 - acc: 0.573 - ETA: 5s - loss: 2.4739 - acc: 0.572 - ETA: 5s - loss: 2.4735 - acc: 0.572 - ETA: 5s - loss: 2.4747 - acc: 0.571 - ETA: 5s - loss: 2.4710 - acc: 0.572 - ETA: 5s - loss: 2.4678 - acc: 0.572 - ETA: 5s - loss: 2.4665 - acc: 0.573 - ETA: 5s - loss: 2.4648 - acc: 0.573 - ETA: 5s - loss: 2.4709 - acc: 0.572 - ETA: 4s - loss: 2.4719 - acc: 0.572 - ETA: 4s - loss: 2.4701 - acc: 0.572 - ETA: 4s - loss: 2.4695 - acc: 0.572 - ETA: 4s - loss: 2.4712 - acc: 0.572 - ETA: 4s - loss: 2.4735 - acc: 0.572 - ETA: 4s - loss: 2.4754 - acc: 0.572 - ETA: 4s - loss: 2.4750 - acc: 0.572 - ETA: 4s - loss: 2.4751 - acc: 0.572 - ETA: 3s - loss: 2.4753 - acc: 0.572 - ETA: 3s - loss: 2.4763 - acc: 0.572 - ETA: 3s - loss: 2.4754 - acc: 0.572 - ETA: 3s - loss: 2.4779 - acc: 0.572 - ETA: 3s - loss: 2.4774 - acc: 0.572 - ETA: 3s - loss: 2.4787 - acc: 0.572 - ETA: 3s - loss: 2.4794 - acc: 0.571 - ETA: 3s - loss: 2.4814 - acc: 0.571 - ETA: 2s - loss: 2.4794 - acc: 0.572 - ETA: 2s - loss: 2.4784 - acc: 0.572 - ETA: 2s - loss: 2.4789 - acc: 0.572 - ETA: 2s - loss: 2.4807 - acc: 0.571 - ETA: 2s - loss: 2.4802 - acc: 0.572 - ETA: 2s - loss: 2.4830 - acc: 0.571 - ETA: 2s - loss: 2.4825 - acc: 0.572 - ETA: 2s - loss: 2.4839 - acc: 0.571 - ETA: 1s - loss: 2.4839 - acc: 0.571 - ETA: 1s - loss: 2.4829 - acc: 0.571 - ETA: 1s - loss: 2.4808 - acc: 0.572 - ETA: 1s - loss: 2.4806 - acc: 0.572 - ETA: 1s - loss: 2.4819 - acc: 0.572 - ETA: 1s - loss: 2.4824 - acc: 0.572 - ETA: 1s - loss: 2.4820 - acc: 0.572 - ETA: 1s - loss: 2.4831 - acc: 0.571 - ETA: 0s - loss: 2.4812 - acc: 0.572 - ETA: 0s - loss: 2.4822 - acc: 0.572 - ETA: 0s - loss: 2.4814 - acc: 0.572 - ETA: 0s - loss: 2.4823 - acc: 0.572 - ETA: 0s - loss: 2.4831 - acc: 0.572 - ETA: 0s - loss: 2.4846 - acc: 0.571 - ETA: 0s - loss: 2.4849 - acc: 0.571 - ETA: 0s - loss: 2.4842 - acc: 0.571 - 10s 560us/step - loss: 2.4833 - acc: 0.5717 - val_loss: 3.2275 - val_acc: 0.5271\n",
      "Epoch 18/200\n"
     ]
    },
    {
     "name": "stdout",
     "output_type": "stream",
     "text": [
      "18357/18357 [==============================] - ETA: 8s - loss: 2.2682 - acc: 0.585 - ETA: 8s - loss: 2.2524 - acc: 0.588 - ETA: 8s - loss: 2.2926 - acc: 0.584 - ETA: 8s - loss: 2.3160 - acc: 0.580 - ETA: 8s - loss: 2.3159 - acc: 0.580 - ETA: 8s - loss: 2.2989 - acc: 0.585 - ETA: 8s - loss: 2.3084 - acc: 0.585 - ETA: 8s - loss: 2.3092 - acc: 0.585 - ETA: 7s - loss: 2.3150 - acc: 0.584 - ETA: 7s - loss: 2.3169 - acc: 0.583 - ETA: 7s - loss: 2.3143 - acc: 0.584 - ETA: 7s - loss: 2.3168 - acc: 0.584 - ETA: 7s - loss: 2.3167 - acc: 0.584 - ETA: 7s - loss: 2.3126 - acc: 0.586 - ETA: 7s - loss: 2.3095 - acc: 0.586 - ETA: 6s - loss: 2.3120 - acc: 0.586 - ETA: 6s - loss: 2.3133 - acc: 0.586 - ETA: 6s - loss: 2.3186 - acc: 0.585 - ETA: 6s - loss: 2.3165 - acc: 0.586 - ETA: 6s - loss: 2.3124 - acc: 0.587 - ETA: 6s - loss: 2.3141 - acc: 0.588 - ETA: 6s - loss: 2.3154 - acc: 0.587 - ETA: 6s - loss: 2.3208 - acc: 0.586 - ETA: 5s - loss: 2.3175 - acc: 0.587 - ETA: 5s - loss: 2.3180 - acc: 0.587 - ETA: 5s - loss: 2.3203 - acc: 0.587 - ETA: 5s - loss: 2.3216 - acc: 0.587 - ETA: 5s - loss: 2.3233 - acc: 0.586 - ETA: 5s - loss: 2.3240 - acc: 0.587 - ETA: 5s - loss: 2.3251 - acc: 0.587 - ETA: 5s - loss: 2.3255 - acc: 0.586 - ETA: 4s - loss: 2.3236 - acc: 0.586 - ETA: 4s - loss: 2.3276 - acc: 0.586 - ETA: 4s - loss: 2.3276 - acc: 0.586 - ETA: 4s - loss: 2.3268 - acc: 0.586 - ETA: 4s - loss: 2.3261 - acc: 0.587 - ETA: 4s - loss: 2.3254 - acc: 0.587 - ETA: 4s - loss: 2.3273 - acc: 0.587 - ETA: 4s - loss: 2.3265 - acc: 0.587 - ETA: 3s - loss: 2.3281 - acc: 0.587 - ETA: 3s - loss: 2.3277 - acc: 0.587 - ETA: 3s - loss: 2.3291 - acc: 0.586 - ETA: 3s - loss: 2.3286 - acc: 0.586 - ETA: 3s - loss: 2.3312 - acc: 0.586 - ETA: 3s - loss: 2.3327 - acc: 0.586 - ETA: 3s - loss: 2.3349 - acc: 0.586 - ETA: 3s - loss: 2.3350 - acc: 0.586 - ETA: 2s - loss: 2.3351 - acc: 0.586 - ETA: 2s - loss: 2.3355 - acc: 0.586 - ETA: 2s - loss: 2.3348 - acc: 0.586 - ETA: 2s - loss: 2.3351 - acc: 0.585 - ETA: 2s - loss: 2.3344 - acc: 0.586 - ETA: 2s - loss: 2.3346 - acc: 0.586 - ETA: 2s - loss: 2.3351 - acc: 0.585 - ETA: 2s - loss: 2.3352 - acc: 0.586 - ETA: 1s - loss: 2.3345 - acc: 0.586 - ETA: 1s - loss: 2.3345 - acc: 0.586 - ETA: 1s - loss: 2.3328 - acc: 0.586 - ETA: 1s - loss: 2.3344 - acc: 0.586 - ETA: 1s - loss: 2.3341 - acc: 0.586 - ETA: 1s - loss: 2.3348 - acc: 0.586 - ETA: 1s - loss: 2.3348 - acc: 0.586 - ETA: 1s - loss: 2.3347 - acc: 0.585 - ETA: 0s - loss: 2.3348 - acc: 0.586 - ETA: 0s - loss: 2.3340 - acc: 0.586 - ETA: 0s - loss: 2.3342 - acc: 0.586 - ETA: 0s - loss: 2.3350 - acc: 0.586 - ETA: 0s - loss: 2.3343 - acc: 0.586 - ETA: 0s - loss: 2.3342 - acc: 0.586 - ETA: 0s - loss: 2.3347 - acc: 0.586 - ETA: 0s - loss: 2.3350 - acc: 0.586 - 10s 559us/step - loss: 2.3355 - acc: 0.5865 - val_loss: 3.1273 - val_acc: 0.5375\n",
      "Epoch 19/200\n",
      "18357/18357 [==============================] - ETA: 8s - loss: 2.2330 - acc: 0.588 - ETA: 8s - loss: 2.2298 - acc: 0.590 - ETA: 8s - loss: 2.2057 - acc: 0.600 - ETA: 8s - loss: 2.2032 - acc: 0.599 - ETA: 8s - loss: 2.1958 - acc: 0.601 - ETA: 8s - loss: 2.1957 - acc: 0.600 - ETA: 7s - loss: 2.1861 - acc: 0.602 - ETA: 7s - loss: 2.1758 - acc: 0.603 - ETA: 7s - loss: 2.1813 - acc: 0.601 - ETA: 7s - loss: 2.1791 - acc: 0.601 - ETA: 7s - loss: 2.1769 - acc: 0.601 - ETA: 7s - loss: 2.1816 - acc: 0.601 - ETA: 7s - loss: 2.1805 - acc: 0.601 - ETA: 7s - loss: 2.1793 - acc: 0.601 - ETA: 7s - loss: 2.1762 - acc: 0.602 - ETA: 6s - loss: 2.1781 - acc: 0.602 - ETA: 6s - loss: 2.1753 - acc: 0.603 - ETA: 6s - loss: 2.1752 - acc: 0.603 - ETA: 6s - loss: 2.1729 - acc: 0.603 - ETA: 6s - loss: 2.1722 - acc: 0.603 - ETA: 6s - loss: 2.1760 - acc: 0.603 - ETA: 6s - loss: 2.1757 - acc: 0.603 - ETA: 6s - loss: 2.1746 - acc: 0.602 - ETA: 5s - loss: 2.1793 - acc: 0.603 - ETA: 5s - loss: 2.1785 - acc: 0.602 - ETA: 5s - loss: 2.1768 - acc: 0.602 - ETA: 5s - loss: 2.1780 - acc: 0.601 - ETA: 5s - loss: 2.1736 - acc: 0.602 - ETA: 5s - loss: 2.1738 - acc: 0.602 - ETA: 5s - loss: 2.1751 - acc: 0.602 - ETA: 5s - loss: 2.1766 - acc: 0.602 - ETA: 4s - loss: 2.1772 - acc: 0.601 - ETA: 4s - loss: 2.1783 - acc: 0.601 - ETA: 4s - loss: 2.1781 - acc: 0.602 - ETA: 4s - loss: 2.1779 - acc: 0.602 - ETA: 4s - loss: 2.1773 - acc: 0.602 - ETA: 4s - loss: 2.1783 - acc: 0.602 - ETA: 4s - loss: 2.1787 - acc: 0.602 - ETA: 4s - loss: 2.1811 - acc: 0.602 - ETA: 3s - loss: 2.1800 - acc: 0.602 - ETA: 3s - loss: 2.1792 - acc: 0.602 - ETA: 3s - loss: 2.1822 - acc: 0.602 - ETA: 3s - loss: 2.1852 - acc: 0.602 - ETA: 3s - loss: 2.1844 - acc: 0.602 - ETA: 3s - loss: 2.1822 - acc: 0.603 - ETA: 3s - loss: 2.1829 - acc: 0.603 - ETA: 3s - loss: 2.1836 - acc: 0.602 - ETA: 2s - loss: 2.1822 - acc: 0.603 - ETA: 2s - loss: 2.1829 - acc: 0.602 - ETA: 2s - loss: 2.1828 - acc: 0.602 - ETA: 2s - loss: 2.1841 - acc: 0.602 - ETA: 2s - loss: 2.1830 - acc: 0.603 - ETA: 2s - loss: 2.1826 - acc: 0.603 - ETA: 2s - loss: 2.1812 - acc: 0.603 - ETA: 2s - loss: 2.1799 - acc: 0.604 - ETA: 1s - loss: 2.1804 - acc: 0.603 - ETA: 1s - loss: 2.1810 - acc: 0.603 - ETA: 1s - loss: 2.1801 - acc: 0.603 - ETA: 1s - loss: 2.1787 - acc: 0.604 - ETA: 1s - loss: 2.1795 - acc: 0.604 - ETA: 1s - loss: 2.1800 - acc: 0.604 - ETA: 1s - loss: 2.1819 - acc: 0.603 - ETA: 1s - loss: 2.1819 - acc: 0.603 - ETA: 0s - loss: 2.1838 - acc: 0.603 - ETA: 0s - loss: 2.1848 - acc: 0.603 - ETA: 0s - loss: 2.1874 - acc: 0.602 - ETA: 0s - loss: 2.1870 - acc: 0.603 - ETA: 0s - loss: 2.1880 - acc: 0.602 - ETA: 0s - loss: 2.1876 - acc: 0.602 - ETA: 0s - loss: 2.1886 - acc: 0.602 - ETA: 0s - loss: 2.1884 - acc: 0.602 - 10s 560us/step - loss: 2.1895 - acc: 0.6028 - val_loss: 3.0444 - val_acc: 0.5459\n",
      "Epoch 20/200\n"
     ]
    },
    {
     "name": "stdout",
     "output_type": "stream",
     "text": [
      "18357/18357 [==============================] - ETA: 8s - loss: 2.0156 - acc: 0.617 - ETA: 8s - loss: 2.0966 - acc: 0.610 - ETA: 8s - loss: 2.0561 - acc: 0.618 - ETA: 8s - loss: 2.0493 - acc: 0.619 - ETA: 8s - loss: 2.0407 - acc: 0.621 - ETA: 8s - loss: 2.0518 - acc: 0.618 - ETA: 8s - loss: 2.0560 - acc: 0.616 - ETA: 7s - loss: 2.0453 - acc: 0.618 - ETA: 7s - loss: 2.0519 - acc: 0.617 - ETA: 7s - loss: 2.0535 - acc: 0.618 - ETA: 7s - loss: 2.0516 - acc: 0.619 - ETA: 7s - loss: 2.0544 - acc: 0.618 - ETA: 7s - loss: 2.0530 - acc: 0.619 - ETA: 7s - loss: 2.0555 - acc: 0.618 - ETA: 7s - loss: 2.0549 - acc: 0.620 - ETA: 6s - loss: 2.0513 - acc: 0.620 - ETA: 6s - loss: 2.0474 - acc: 0.620 - ETA: 6s - loss: 2.0462 - acc: 0.620 - ETA: 6s - loss: 2.0438 - acc: 0.621 - ETA: 6s - loss: 2.0469 - acc: 0.620 - ETA: 6s - loss: 2.0463 - acc: 0.619 - ETA: 6s - loss: 2.0418 - acc: 0.620 - ETA: 6s - loss: 2.0430 - acc: 0.619 - ETA: 5s - loss: 2.0437 - acc: 0.619 - ETA: 5s - loss: 2.0436 - acc: 0.620 - ETA: 5s - loss: 2.0435 - acc: 0.619 - ETA: 5s - loss: 2.0412 - acc: 0.620 - ETA: 5s - loss: 2.0433 - acc: 0.620 - ETA: 5s - loss: 2.0454 - acc: 0.620 - ETA: 5s - loss: 2.0436 - acc: 0.620 - ETA: 5s - loss: 2.0434 - acc: 0.620 - ETA: 4s - loss: 2.0439 - acc: 0.620 - ETA: 4s - loss: 2.0454 - acc: 0.620 - ETA: 4s - loss: 2.0470 - acc: 0.620 - ETA: 4s - loss: 2.0470 - acc: 0.620 - ETA: 4s - loss: 2.0471 - acc: 0.620 - ETA: 4s - loss: 2.0485 - acc: 0.619 - ETA: 4s - loss: 2.0458 - acc: 0.620 - ETA: 4s - loss: 2.0465 - acc: 0.620 - ETA: 3s - loss: 2.0475 - acc: 0.619 - ETA: 3s - loss: 2.0475 - acc: 0.619 - ETA: 3s - loss: 2.0487 - acc: 0.619 - ETA: 3s - loss: 2.0486 - acc: 0.619 - ETA: 3s - loss: 2.0468 - acc: 0.620 - ETA: 3s - loss: 2.0495 - acc: 0.619 - ETA: 3s - loss: 2.0488 - acc: 0.619 - ETA: 3s - loss: 2.0502 - acc: 0.619 - ETA: 2s - loss: 2.0509 - acc: 0.619 - ETA: 2s - loss: 2.0510 - acc: 0.618 - ETA: 2s - loss: 2.0502 - acc: 0.619 - ETA: 2s - loss: 2.0500 - acc: 0.619 - ETA: 2s - loss: 2.0512 - acc: 0.619 - ETA: 2s - loss: 2.0520 - acc: 0.619 - ETA: 2s - loss: 2.0521 - acc: 0.619 - ETA: 2s - loss: 2.0540 - acc: 0.618 - ETA: 1s - loss: 2.0539 - acc: 0.619 - ETA: 1s - loss: 2.0524 - acc: 0.619 - ETA: 1s - loss: 2.0532 - acc: 0.619 - ETA: 1s - loss: 2.0527 - acc: 0.619 - ETA: 1s - loss: 2.0525 - acc: 0.619 - ETA: 1s - loss: 2.0522 - acc: 0.619 - ETA: 1s - loss: 2.0527 - acc: 0.619 - ETA: 1s - loss: 2.0525 - acc: 0.619 - ETA: 0s - loss: 2.0521 - acc: 0.619 - ETA: 0s - loss: 2.0524 - acc: 0.619 - ETA: 0s - loss: 2.0523 - acc: 0.619 - ETA: 0s - loss: 2.0516 - acc: 0.619 - ETA: 0s - loss: 2.0505 - acc: 0.619 - ETA: 0s - loss: 2.0523 - acc: 0.619 - ETA: 0s - loss: 2.0508 - acc: 0.619 - ETA: 0s - loss: 2.0511 - acc: 0.619 - 10s 564us/step - loss: 2.0510 - acc: 0.6194 - val_loss: 2.9784 - val_acc: 0.5543\n",
      "Epoch 21/200\n",
      "18357/18357 [==============================] - ETA: 8s - loss: 1.9231 - acc: 0.638 - ETA: 8s - loss: 1.9025 - acc: 0.639 - ETA: 8s - loss: 1.9237 - acc: 0.631 - ETA: 8s - loss: 1.9120 - acc: 0.634 - ETA: 8s - loss: 1.9154 - acc: 0.631 - ETA: 8s - loss: 1.9051 - acc: 0.634 - ETA: 8s - loss: 1.9142 - acc: 0.632 - ETA: 7s - loss: 1.9128 - acc: 0.632 - ETA: 7s - loss: 1.9076 - acc: 0.634 - ETA: 7s - loss: 1.9074 - acc: 0.634 - ETA: 7s - loss: 1.9127 - acc: 0.634 - ETA: 7s - loss: 1.9129 - acc: 0.633 - ETA: 7s - loss: 1.9156 - acc: 0.632 - ETA: 7s - loss: 1.9124 - acc: 0.633 - ETA: 7s - loss: 1.9085 - acc: 0.634 - ETA: 6s - loss: 1.9043 - acc: 0.635 - ETA: 6s - loss: 1.9031 - acc: 0.636 - ETA: 6s - loss: 1.9059 - acc: 0.635 - ETA: 6s - loss: 1.9077 - acc: 0.634 - ETA: 6s - loss: 1.9062 - acc: 0.635 - ETA: 6s - loss: 1.9117 - acc: 0.634 - ETA: 6s - loss: 1.9121 - acc: 0.634 - ETA: 6s - loss: 1.9082 - acc: 0.634 - ETA: 5s - loss: 1.9101 - acc: 0.634 - ETA: 5s - loss: 1.9119 - acc: 0.634 - ETA: 5s - loss: 1.9079 - acc: 0.635 - ETA: 5s - loss: 1.9095 - acc: 0.635 - ETA: 5s - loss: 1.9104 - acc: 0.635 - ETA: 5s - loss: 1.9105 - acc: 0.634 - ETA: 5s - loss: 1.9109 - acc: 0.634 - ETA: 5s - loss: 1.9111 - acc: 0.634 - ETA: 4s - loss: 1.9123 - acc: 0.634 - ETA: 4s - loss: 1.9131 - acc: 0.634 - ETA: 4s - loss: 1.9145 - acc: 0.633 - ETA: 4s - loss: 1.9137 - acc: 0.633 - ETA: 4s - loss: 1.9147 - acc: 0.633 - ETA: 4s - loss: 1.9156 - acc: 0.634 - ETA: 4s - loss: 1.9147 - acc: 0.634 - ETA: 4s - loss: 1.9148 - acc: 0.634 - ETA: 3s - loss: 1.9147 - acc: 0.634 - ETA: 3s - loss: 1.9147 - acc: 0.634 - ETA: 3s - loss: 1.9134 - acc: 0.634 - ETA: 3s - loss: 1.9130 - acc: 0.634 - ETA: 3s - loss: 1.9115 - acc: 0.635 - ETA: 3s - loss: 1.9124 - acc: 0.635 - ETA: 3s - loss: 1.9131 - acc: 0.635 - ETA: 3s - loss: 1.9106 - acc: 0.635 - ETA: 2s - loss: 1.9127 - acc: 0.635 - ETA: 2s - loss: 1.9127 - acc: 0.635 - ETA: 2s - loss: 1.9138 - acc: 0.635 - ETA: 2s - loss: 1.9143 - acc: 0.635 - ETA: 2s - loss: 1.9139 - acc: 0.635 - ETA: 2s - loss: 1.9115 - acc: 0.635 - ETA: 2s - loss: 1.9102 - acc: 0.636 - ETA: 2s - loss: 1.9112 - acc: 0.635 - ETA: 1s - loss: 1.9111 - acc: 0.635 - ETA: 1s - loss: 1.9115 - acc: 0.635 - ETA: 1s - loss: 1.9109 - acc: 0.635 - ETA: 1s - loss: 1.9131 - acc: 0.635 - ETA: 1s - loss: 1.9133 - acc: 0.635 - ETA: 1s - loss: 1.9135 - acc: 0.635 - ETA: 1s - loss: 1.9153 - acc: 0.635 - ETA: 1s - loss: 1.9158 - acc: 0.635 - ETA: 0s - loss: 1.9175 - acc: 0.635 - ETA: 0s - loss: 1.9177 - acc: 0.635 - ETA: 0s - loss: 1.9187 - acc: 0.634 - ETA: 0s - loss: 1.9208 - acc: 0.634 - ETA: 0s - loss: 1.9206 - acc: 0.634 - ETA: 0s - loss: 1.9207 - acc: 0.634 - ETA: 0s - loss: 1.9206 - acc: 0.634 - ETA: 0s - loss: 1.9214 - acc: 0.634 - 10s 559us/step - loss: 1.9215 - acc: 0.6343 - val_loss: 2.9193 - val_acc: 0.5591\n",
      "Epoch 22/200\n"
     ]
    },
    {
     "name": "stdout",
     "output_type": "stream",
     "text": [
      "18357/18357 [==============================] - ETA: 8s - loss: 1.7333 - acc: 0.655 - ETA: 8s - loss: 1.7763 - acc: 0.650 - ETA: 8s - loss: 1.7538 - acc: 0.651 - ETA: 8s - loss: 1.7525 - acc: 0.651 - ETA: 8s - loss: 1.7490 - acc: 0.656 - ETA: 8s - loss: 1.7638 - acc: 0.654 - ETA: 8s - loss: 1.7686 - acc: 0.653 - ETA: 7s - loss: 1.7679 - acc: 0.654 - ETA: 7s - loss: 1.7723 - acc: 0.653 - ETA: 7s - loss: 1.7809 - acc: 0.653 - ETA: 7s - loss: 1.7890 - acc: 0.650 - ETA: 7s - loss: 1.7879 - acc: 0.650 - ETA: 7s - loss: 1.7892 - acc: 0.650 - ETA: 7s - loss: 1.7771 - acc: 0.652 - ETA: 7s - loss: 1.7733 - acc: 0.652 - ETA: 6s - loss: 1.7723 - acc: 0.652 - ETA: 6s - loss: 1.7693 - acc: 0.652 - ETA: 6s - loss: 1.7684 - acc: 0.653 - ETA: 6s - loss: 1.7654 - acc: 0.653 - ETA: 6s - loss: 1.7671 - acc: 0.653 - ETA: 6s - loss: 1.7709 - acc: 0.652 - ETA: 6s - loss: 1.7744 - acc: 0.652 - ETA: 6s - loss: 1.7740 - acc: 0.651 - ETA: 5s - loss: 1.7751 - acc: 0.652 - ETA: 5s - loss: 1.7790 - acc: 0.651 - ETA: 5s - loss: 1.7799 - acc: 0.652 - ETA: 5s - loss: 1.7784 - acc: 0.651 - ETA: 5s - loss: 1.7776 - acc: 0.652 - ETA: 5s - loss: 1.7787 - acc: 0.652 - ETA: 5s - loss: 1.7802 - acc: 0.652 - ETA: 5s - loss: 1.7806 - acc: 0.652 - ETA: 4s - loss: 1.7846 - acc: 0.651 - ETA: 4s - loss: 1.7846 - acc: 0.651 - ETA: 4s - loss: 1.7836 - acc: 0.651 - ETA: 4s - loss: 1.7833 - acc: 0.652 - ETA: 4s - loss: 1.7820 - acc: 0.652 - ETA: 4s - loss: 1.7852 - acc: 0.652 - ETA: 4s - loss: 1.7850 - acc: 0.652 - ETA: 4s - loss: 1.7855 - acc: 0.652 - ETA: 3s - loss: 1.7832 - acc: 0.652 - ETA: 3s - loss: 1.7828 - acc: 0.652 - ETA: 3s - loss: 1.7798 - acc: 0.653 - ETA: 3s - loss: 1.7792 - acc: 0.653 - ETA: 3s - loss: 1.7799 - acc: 0.653 - ETA: 3s - loss: 1.7826 - acc: 0.653 - ETA: 3s - loss: 1.7820 - acc: 0.653 - ETA: 3s - loss: 1.7828 - acc: 0.653 - ETA: 2s - loss: 1.7838 - acc: 0.653 - ETA: 2s - loss: 1.7823 - acc: 0.653 - ETA: 2s - loss: 1.7829 - acc: 0.653 - ETA: 2s - loss: 1.7822 - acc: 0.653 - ETA: 2s - loss: 1.7822 - acc: 0.653 - ETA: 2s - loss: 1.7833 - acc: 0.653 - ETA: 2s - loss: 1.7848 - acc: 0.653 - ETA: 2s - loss: 1.7862 - acc: 0.653 - ETA: 1s - loss: 1.7859 - acc: 0.653 - ETA: 1s - loss: 1.7872 - acc: 0.652 - ETA: 1s - loss: 1.7872 - acc: 0.652 - ETA: 1s - loss: 1.7883 - acc: 0.652 - ETA: 1s - loss: 1.7889 - acc: 0.652 - ETA: 1s - loss: 1.7884 - acc: 0.652 - ETA: 1s - loss: 1.7889 - acc: 0.652 - ETA: 1s - loss: 1.7900 - acc: 0.652 - ETA: 0s - loss: 1.7913 - acc: 0.652 - ETA: 0s - loss: 1.7916 - acc: 0.652 - ETA: 0s - loss: 1.7920 - acc: 0.652 - ETA: 0s - loss: 1.7926 - acc: 0.652 - ETA: 0s - loss: 1.7917 - acc: 0.652 - ETA: 0s - loss: 1.7924 - acc: 0.652 - ETA: 0s - loss: 1.7924 - acc: 0.652 - ETA: 0s - loss: 1.7948 - acc: 0.651 - 10s 556us/step - loss: 1.7945 - acc: 0.6518 - val_loss: 2.8672 - val_acc: 0.5675\n",
      "Epoch 23/200\n",
      "18357/18357 [==============================] - ETA: 8s - loss: 1.6124 - acc: 0.671 - ETA: 8s - loss: 1.5879 - acc: 0.682 - ETA: 8s - loss: 1.5769 - acc: 0.680 - ETA: 8s - loss: 1.6079 - acc: 0.673 - ETA: 8s - loss: 1.6341 - acc: 0.672 - ETA: 8s - loss: 1.6396 - acc: 0.671 - ETA: 8s - loss: 1.6473 - acc: 0.669 - ETA: 7s - loss: 1.6446 - acc: 0.670 - ETA: 7s - loss: 1.6494 - acc: 0.668 - ETA: 7s - loss: 1.6543 - acc: 0.668 - ETA: 7s - loss: 1.6591 - acc: 0.668 - ETA: 7s - loss: 1.6619 - acc: 0.667 - ETA: 7s - loss: 1.6695 - acc: 0.666 - ETA: 7s - loss: 1.6617 - acc: 0.668 - ETA: 7s - loss: 1.6629 - acc: 0.669 - ETA: 6s - loss: 1.6682 - acc: 0.668 - ETA: 6s - loss: 1.6723 - acc: 0.667 - ETA: 6s - loss: 1.6754 - acc: 0.667 - ETA: 6s - loss: 1.6732 - acc: 0.667 - ETA: 6s - loss: 1.6698 - acc: 0.668 - ETA: 6s - loss: 1.6723 - acc: 0.668 - ETA: 6s - loss: 1.6749 - acc: 0.667 - ETA: 6s - loss: 1.6708 - acc: 0.667 - ETA: 5s - loss: 1.6692 - acc: 0.667 - ETA: 5s - loss: 1.6693 - acc: 0.667 - ETA: 5s - loss: 1.6674 - acc: 0.668 - ETA: 5s - loss: 1.6678 - acc: 0.668 - ETA: 5s - loss: 1.6682 - acc: 0.668 - ETA: 5s - loss: 1.6656 - acc: 0.668 - ETA: 5s - loss: 1.6680 - acc: 0.668 - ETA: 5s - loss: 1.6677 - acc: 0.668 - ETA: 4s - loss: 1.6666 - acc: 0.669 - ETA: 4s - loss: 1.6668 - acc: 0.669 - ETA: 4s - loss: 1.6674 - acc: 0.669 - ETA: 4s - loss: 1.6676 - acc: 0.669 - ETA: 4s - loss: 1.6705 - acc: 0.668 - ETA: 4s - loss: 1.6714 - acc: 0.668 - ETA: 4s - loss: 1.6715 - acc: 0.668 - ETA: 4s - loss: 1.6685 - acc: 0.669 - ETA: 3s - loss: 1.6686 - acc: 0.669 - ETA: 3s - loss: 1.6662 - acc: 0.669 - ETA: 3s - loss: 1.6681 - acc: 0.669 - ETA: 3s - loss: 1.6664 - acc: 0.669 - ETA: 3s - loss: 1.6650 - acc: 0.669 - ETA: 3s - loss: 1.6659 - acc: 0.669 - ETA: 3s - loss: 1.6652 - acc: 0.669 - ETA: 3s - loss: 1.6660 - acc: 0.669 - ETA: 2s - loss: 1.6676 - acc: 0.669 - ETA: 2s - loss: 1.6683 - acc: 0.669 - ETA: 2s - loss: 1.6677 - acc: 0.669 - ETA: 2s - loss: 1.6676 - acc: 0.669 - ETA: 2s - loss: 1.6681 - acc: 0.669 - ETA: 2s - loss: 1.6674 - acc: 0.669 - ETA: 2s - loss: 1.6694 - acc: 0.669 - ETA: 2s - loss: 1.6695 - acc: 0.669 - ETA: 1s - loss: 1.6697 - acc: 0.669 - ETA: 1s - loss: 1.6715 - acc: 0.668 - ETA: 1s - loss: 1.6719 - acc: 0.668 - ETA: 1s - loss: 1.6706 - acc: 0.669 - ETA: 1s - loss: 1.6711 - acc: 0.669 - ETA: 1s - loss: 1.6726 - acc: 0.668 - ETA: 1s - loss: 1.6733 - acc: 0.668 - ETA: 1s - loss: 1.6723 - acc: 0.669 - ETA: 0s - loss: 1.6728 - acc: 0.669 - ETA: 0s - loss: 1.6739 - acc: 0.669 - ETA: 0s - loss: 1.6754 - acc: 0.668 - ETA: 0s - loss: 1.6769 - acc: 0.668 - ETA: 0s - loss: 1.6759 - acc: 0.668 - ETA: 0s - loss: 1.6750 - acc: 0.668 - ETA: 0s - loss: 1.6760 - acc: 0.668 - ETA: 0s - loss: 1.6764 - acc: 0.668 - 10s 561us/step - loss: 1.6764 - acc: 0.6680 - val_loss: 2.8213 - val_acc: 0.5742\n",
      "Epoch 24/200\n"
     ]
    },
    {
     "name": "stdout",
     "output_type": "stream",
     "text": [
      "18357/18357 [==============================] - ETA: 8s - loss: 1.5113 - acc: 0.695 - ETA: 8s - loss: 1.5219 - acc: 0.692 - ETA: 8s - loss: 1.5335 - acc: 0.688 - ETA: 8s - loss: 1.5341 - acc: 0.690 - ETA: 8s - loss: 1.5401 - acc: 0.690 - ETA: 8s - loss: 1.5392 - acc: 0.690 - ETA: 8s - loss: 1.5552 - acc: 0.688 - ETA: 7s - loss: 1.5555 - acc: 0.689 - ETA: 7s - loss: 1.5539 - acc: 0.690 - ETA: 7s - loss: 1.5500 - acc: 0.690 - ETA: 7s - loss: 1.5514 - acc: 0.690 - ETA: 7s - loss: 1.5468 - acc: 0.690 - ETA: 7s - loss: 1.5523 - acc: 0.688 - ETA: 7s - loss: 1.5544 - acc: 0.688 - ETA: 7s - loss: 1.5550 - acc: 0.688 - ETA: 6s - loss: 1.5533 - acc: 0.688 - ETA: 6s - loss: 1.5548 - acc: 0.687 - ETA: 6s - loss: 1.5550 - acc: 0.687 - ETA: 6s - loss: 1.5509 - acc: 0.688 - ETA: 6s - loss: 1.5534 - acc: 0.687 - ETA: 6s - loss: 1.5527 - acc: 0.687 - ETA: 6s - loss: 1.5569 - acc: 0.686 - ETA: 6s - loss: 1.5557 - acc: 0.686 - ETA: 5s - loss: 1.5581 - acc: 0.686 - ETA: 5s - loss: 1.5549 - acc: 0.686 - ETA: 5s - loss: 1.5525 - acc: 0.687 - ETA: 5s - loss: 1.5533 - acc: 0.687 - ETA: 5s - loss: 1.5524 - acc: 0.687 - ETA: 5s - loss: 1.5543 - acc: 0.687 - ETA: 5s - loss: 1.5524 - acc: 0.687 - ETA: 5s - loss: 1.5508 - acc: 0.687 - ETA: 4s - loss: 1.5496 - acc: 0.687 - ETA: 4s - loss: 1.5522 - acc: 0.687 - ETA: 4s - loss: 1.5518 - acc: 0.687 - ETA: 4s - loss: 1.5531 - acc: 0.686 - ETA: 4s - loss: 1.5555 - acc: 0.686 - ETA: 4s - loss: 1.5549 - acc: 0.686 - ETA: 4s - loss: 1.5529 - acc: 0.686 - ETA: 4s - loss: 1.5521 - acc: 0.686 - ETA: 3s - loss: 1.5542 - acc: 0.685 - ETA: 3s - loss: 1.5532 - acc: 0.686 - ETA: 3s - loss: 1.5529 - acc: 0.686 - ETA: 3s - loss: 1.5515 - acc: 0.686 - ETA: 3s - loss: 1.5515 - acc: 0.686 - ETA: 3s - loss: 1.5510 - acc: 0.686 - ETA: 3s - loss: 1.5514 - acc: 0.686 - ETA: 3s - loss: 1.5534 - acc: 0.686 - ETA: 2s - loss: 1.5547 - acc: 0.686 - ETA: 2s - loss: 1.5552 - acc: 0.685 - ETA: 2s - loss: 1.5554 - acc: 0.685 - ETA: 2s - loss: 1.5569 - acc: 0.685 - ETA: 2s - loss: 1.5565 - acc: 0.685 - ETA: 2s - loss: 1.5562 - acc: 0.685 - ETA: 2s - loss: 1.5561 - acc: 0.685 - ETA: 2s - loss: 1.5564 - acc: 0.686 - ETA: 1s - loss: 1.5561 - acc: 0.686 - ETA: 1s - loss: 1.5571 - acc: 0.685 - ETA: 1s - loss: 1.5595 - acc: 0.685 - ETA: 1s - loss: 1.5597 - acc: 0.685 - ETA: 1s - loss: 1.5609 - acc: 0.685 - ETA: 1s - loss: 1.5612 - acc: 0.685 - ETA: 1s - loss: 1.5627 - acc: 0.684 - ETA: 1s - loss: 1.5635 - acc: 0.684 - ETA: 0s - loss: 1.5643 - acc: 0.684 - ETA: 0s - loss: 1.5657 - acc: 0.684 - ETA: 0s - loss: 1.5656 - acc: 0.684 - ETA: 0s - loss: 1.5661 - acc: 0.683 - ETA: 0s - loss: 1.5659 - acc: 0.684 - ETA: 0s - loss: 1.5652 - acc: 0.684 - ETA: 0s - loss: 1.5654 - acc: 0.684 - ETA: 0s - loss: 1.5658 - acc: 0.684 - 10s 564us/step - loss: 1.5659 - acc: 0.6841 - val_loss: 2.7867 - val_acc: 0.5801\n",
      "Epoch 25/200\n",
      "18357/18357 [==============================] - ETA: 8s - loss: 1.4188 - acc: 0.719 - ETA: 8s - loss: 1.4351 - acc: 0.711 - ETA: 8s - loss: 1.4447 - acc: 0.709 - ETA: 8s - loss: 1.4374 - acc: 0.710 - ETA: 8s - loss: 1.4304 - acc: 0.710 - ETA: 8s - loss: 1.4306 - acc: 0.708 - ETA: 8s - loss: 1.4311 - acc: 0.707 - ETA: 7s - loss: 1.4315 - acc: 0.706 - ETA: 7s - loss: 1.4306 - acc: 0.707 - ETA: 7s - loss: 1.4283 - acc: 0.708 - ETA: 7s - loss: 1.4367 - acc: 0.706 - ETA: 7s - loss: 1.4301 - acc: 0.707 - ETA: 7s - loss: 1.4299 - acc: 0.708 - ETA: 7s - loss: 1.4321 - acc: 0.707 - ETA: 7s - loss: 1.4319 - acc: 0.707 - ETA: 6s - loss: 1.4343 - acc: 0.706 - ETA: 6s - loss: 1.4377 - acc: 0.705 - ETA: 6s - loss: 1.4354 - acc: 0.705 - ETA: 6s - loss: 1.4341 - acc: 0.705 - ETA: 6s - loss: 1.4329 - acc: 0.706 - ETA: 6s - loss: 1.4341 - acc: 0.706 - ETA: 6s - loss: 1.4326 - acc: 0.707 - ETA: 6s - loss: 1.4345 - acc: 0.706 - ETA: 5s - loss: 1.4363 - acc: 0.706 - ETA: 5s - loss: 1.4384 - acc: 0.705 - ETA: 5s - loss: 1.4375 - acc: 0.705 - ETA: 5s - loss: 1.4381 - acc: 0.705 - ETA: 5s - loss: 1.4411 - acc: 0.704 - ETA: 5s - loss: 1.4413 - acc: 0.704 - ETA: 5s - loss: 1.4409 - acc: 0.704 - ETA: 5s - loss: 1.4415 - acc: 0.704 - ETA: 4s - loss: 1.4415 - acc: 0.704 - ETA: 4s - loss: 1.4409 - acc: 0.704 - ETA: 4s - loss: 1.4427 - acc: 0.704 - ETA: 4s - loss: 1.4419 - acc: 0.704 - ETA: 4s - loss: 1.4420 - acc: 0.704 - ETA: 4s - loss: 1.4428 - acc: 0.704 - ETA: 4s - loss: 1.4438 - acc: 0.704 - ETA: 4s - loss: 1.4432 - acc: 0.704 - ETA: 3s - loss: 1.4452 - acc: 0.703 - ETA: 3s - loss: 1.4470 - acc: 0.703 - ETA: 3s - loss: 1.4471 - acc: 0.703 - ETA: 3s - loss: 1.4470 - acc: 0.703 - ETA: 3s - loss: 1.4469 - acc: 0.703 - ETA: 3s - loss: 1.4473 - acc: 0.703 - ETA: 3s - loss: 1.4473 - acc: 0.703 - ETA: 3s - loss: 1.4472 - acc: 0.703 - ETA: 2s - loss: 1.4492 - acc: 0.702 - ETA: 2s - loss: 1.4525 - acc: 0.701 - ETA: 2s - loss: 1.4530 - acc: 0.701 - ETA: 2s - loss: 1.4545 - acc: 0.701 - ETA: 2s - loss: 1.4543 - acc: 0.701 - ETA: 2s - loss: 1.4546 - acc: 0.701 - ETA: 2s - loss: 1.4566 - acc: 0.700 - ETA: 2s - loss: 1.4574 - acc: 0.700 - ETA: 1s - loss: 1.4582 - acc: 0.700 - ETA: 1s - loss: 1.4604 - acc: 0.700 - ETA: 1s - loss: 1.4606 - acc: 0.700 - ETA: 1s - loss: 1.4607 - acc: 0.700 - ETA: 1s - loss: 1.4616 - acc: 0.700 - ETA: 1s - loss: 1.4613 - acc: 0.700 - ETA: 1s - loss: 1.4609 - acc: 0.700 - ETA: 1s - loss: 1.4600 - acc: 0.700 - ETA: 0s - loss: 1.4606 - acc: 0.700 - ETA: 0s - loss: 1.4602 - acc: 0.700 - ETA: 0s - loss: 1.4615 - acc: 0.700 - ETA: 0s - loss: 1.4621 - acc: 0.700 - ETA: 0s - loss: 1.4620 - acc: 0.699 - ETA: 0s - loss: 1.4607 - acc: 0.700 - ETA: 0s - loss: 1.4604 - acc: 0.700 - ETA: 0s - loss: 1.4604 - acc: 0.700 - 10s 559us/step - loss: 1.4608 - acc: 0.7004 - val_loss: 2.7567 - val_acc: 0.5831\n",
      "Epoch 26/200\n"
     ]
    },
    {
     "name": "stdout",
     "output_type": "stream",
     "text": [
      "18357/18357 [==============================] - ETA: 8s - loss: 1.2802 - acc: 0.717 - ETA: 8s - loss: 1.2872 - acc: 0.722 - ETA: 8s - loss: 1.3071 - acc: 0.721 - ETA: 8s - loss: 1.3178 - acc: 0.720 - ETA: 8s - loss: 1.3217 - acc: 0.720 - ETA: 8s - loss: 1.3215 - acc: 0.722 - ETA: 8s - loss: 1.3236 - acc: 0.723 - ETA: 7s - loss: 1.3341 - acc: 0.721 - ETA: 7s - loss: 1.3320 - acc: 0.722 - ETA: 7s - loss: 1.3333 - acc: 0.721 - ETA: 7s - loss: 1.3310 - acc: 0.720 - ETA: 7s - loss: 1.3331 - acc: 0.719 - ETA: 7s - loss: 1.3331 - acc: 0.719 - ETA: 7s - loss: 1.3299 - acc: 0.721 - ETA: 7s - loss: 1.3327 - acc: 0.720 - ETA: 6s - loss: 1.3341 - acc: 0.720 - ETA: 6s - loss: 1.3331 - acc: 0.720 - ETA: 6s - loss: 1.3397 - acc: 0.719 - ETA: 6s - loss: 1.3401 - acc: 0.719 - ETA: 6s - loss: 1.3361 - acc: 0.720 - ETA: 6s - loss: 1.3388 - acc: 0.720 - ETA: 6s - loss: 1.3368 - acc: 0.720 - ETA: 6s - loss: 1.3381 - acc: 0.720 - ETA: 5s - loss: 1.3392 - acc: 0.719 - ETA: 5s - loss: 1.3387 - acc: 0.719 - ETA: 5s - loss: 1.3381 - acc: 0.720 - ETA: 5s - loss: 1.3400 - acc: 0.719 - ETA: 5s - loss: 1.3416 - acc: 0.718 - ETA: 5s - loss: 1.3466 - acc: 0.717 - ETA: 5s - loss: 1.3468 - acc: 0.717 - ETA: 5s - loss: 1.3466 - acc: 0.718 - ETA: 4s - loss: 1.3472 - acc: 0.717 - ETA: 4s - loss: 1.3471 - acc: 0.717 - ETA: 4s - loss: 1.3490 - acc: 0.717 - ETA: 4s - loss: 1.3507 - acc: 0.716 - ETA: 4s - loss: 1.3507 - acc: 0.717 - ETA: 4s - loss: 1.3520 - acc: 0.716 - ETA: 4s - loss: 1.3536 - acc: 0.716 - ETA: 4s - loss: 1.3541 - acc: 0.716 - ETA: 3s - loss: 1.3551 - acc: 0.716 - ETA: 3s - loss: 1.3553 - acc: 0.716 - ETA: 3s - loss: 1.3583 - acc: 0.715 - ETA: 3s - loss: 1.3583 - acc: 0.715 - ETA: 3s - loss: 1.3574 - acc: 0.715 - ETA: 3s - loss: 1.3571 - acc: 0.715 - ETA: 3s - loss: 1.3572 - acc: 0.716 - ETA: 3s - loss: 1.3567 - acc: 0.716 - ETA: 2s - loss: 1.3573 - acc: 0.716 - ETA: 2s - loss: 1.3571 - acc: 0.716 - ETA: 2s - loss: 1.3573 - acc: 0.715 - ETA: 2s - loss: 1.3572 - acc: 0.715 - ETA: 2s - loss: 1.3579 - acc: 0.715 - ETA: 2s - loss: 1.3580 - acc: 0.716 - ETA: 2s - loss: 1.3583 - acc: 0.715 - ETA: 2s - loss: 1.3591 - acc: 0.715 - ETA: 1s - loss: 1.3601 - acc: 0.715 - ETA: 1s - loss: 1.3600 - acc: 0.715 - ETA: 1s - loss: 1.3604 - acc: 0.715 - ETA: 1s - loss: 1.3608 - acc: 0.715 - ETA: 1s - loss: 1.3615 - acc: 0.715 - ETA: 1s - loss: 1.3621 - acc: 0.715 - ETA: 1s - loss: 1.3631 - acc: 0.715 - ETA: 1s - loss: 1.3618 - acc: 0.715 - ETA: 0s - loss: 1.3618 - acc: 0.715 - ETA: 0s - loss: 1.3625 - acc: 0.715 - ETA: 0s - loss: 1.3615 - acc: 0.715 - ETA: 0s - loss: 1.3619 - acc: 0.715 - ETA: 0s - loss: 1.3608 - acc: 0.716 - ETA: 0s - loss: 1.3618 - acc: 0.716 - ETA: 0s - loss: 1.3612 - acc: 0.716 - ETA: 0s - loss: 1.3616 - acc: 0.716 - 10s 558us/step - loss: 1.3618 - acc: 0.7160 - val_loss: 2.7171 - val_acc: 0.5906\n",
      "Epoch 27/200\n",
      "18357/18357 [==============================] - ETA: 8s - loss: 1.2625 - acc: 0.737 - ETA: 8s - loss: 1.2547 - acc: 0.739 - ETA: 8s - loss: 1.2312 - acc: 0.741 - ETA: 8s - loss: 1.2007 - acc: 0.749 - ETA: 8s - loss: 1.2209 - acc: 0.746 - ETA: 8s - loss: 1.2348 - acc: 0.743 - ETA: 8s - loss: 1.2362 - acc: 0.741 - ETA: 7s - loss: 1.2352 - acc: 0.740 - ETA: 7s - loss: 1.2339 - acc: 0.741 - ETA: 7s - loss: 1.2307 - acc: 0.742 - ETA: 7s - loss: 1.2348 - acc: 0.741 - ETA: 7s - loss: 1.2404 - acc: 0.740 - ETA: 7s - loss: 1.2382 - acc: 0.740 - ETA: 7s - loss: 1.2366 - acc: 0.740 - ETA: 7s - loss: 1.2331 - acc: 0.741 - ETA: 7s - loss: 1.2359 - acc: 0.741 - ETA: 6s - loss: 1.2347 - acc: 0.741 - ETA: 6s - loss: 1.2375 - acc: 0.741 - ETA: 6s - loss: 1.2358 - acc: 0.741 - ETA: 6s - loss: 1.2333 - acc: 0.742 - ETA: 6s - loss: 1.2318 - acc: 0.741 - ETA: 6s - loss: 1.2285 - acc: 0.742 - ETA: 6s - loss: 1.2273 - acc: 0.743 - ETA: 6s - loss: 1.2292 - acc: 0.742 - ETA: 5s - loss: 1.2309 - acc: 0.742 - ETA: 5s - loss: 1.2333 - acc: 0.742 - ETA: 5s - loss: 1.2324 - acc: 0.742 - ETA: 5s - loss: 1.2348 - acc: 0.741 - ETA: 5s - loss: 1.2349 - acc: 0.741 - ETA: 5s - loss: 1.2372 - acc: 0.741 - ETA: 5s - loss: 1.2398 - acc: 0.740 - ETA: 5s - loss: 1.2385 - acc: 0.740 - ETA: 4s - loss: 1.2430 - acc: 0.739 - ETA: 4s - loss: 1.2439 - acc: 0.739 - ETA: 4s - loss: 1.2449 - acc: 0.739 - ETA: 4s - loss: 1.2462 - acc: 0.739 - ETA: 4s - loss: 1.2469 - acc: 0.739 - ETA: 4s - loss: 1.2481 - acc: 0.738 - ETA: 4s - loss: 1.2477 - acc: 0.739 - ETA: 3s - loss: 1.2478 - acc: 0.739 - ETA: 3s - loss: 1.2489 - acc: 0.739 - ETA: 3s - loss: 1.2500 - acc: 0.738 - ETA: 3s - loss: 1.2511 - acc: 0.738 - ETA: 3s - loss: 1.2505 - acc: 0.738 - ETA: 3s - loss: 1.2519 - acc: 0.737 - ETA: 3s - loss: 1.2535 - acc: 0.737 - ETA: 3s - loss: 1.2535 - acc: 0.736 - ETA: 2s - loss: 1.2536 - acc: 0.737 - ETA: 2s - loss: 1.2532 - acc: 0.737 - ETA: 2s - loss: 1.2535 - acc: 0.737 - ETA: 2s - loss: 1.2540 - acc: 0.737 - ETA: 2s - loss: 1.2541 - acc: 0.737 - ETA: 2s - loss: 1.2539 - acc: 0.737 - ETA: 2s - loss: 1.2550 - acc: 0.736 - ETA: 2s - loss: 1.2578 - acc: 0.736 - ETA: 1s - loss: 1.2590 - acc: 0.735 - ETA: 1s - loss: 1.2588 - acc: 0.735 - ETA: 1s - loss: 1.2603 - acc: 0.735 - ETA: 1s - loss: 1.2597 - acc: 0.735 - ETA: 1s - loss: 1.2612 - acc: 0.735 - ETA: 1s - loss: 1.2629 - acc: 0.734 - ETA: 1s - loss: 1.2640 - acc: 0.734 - ETA: 1s - loss: 1.2647 - acc: 0.734 - ETA: 0s - loss: 1.2647 - acc: 0.734 - ETA: 0s - loss: 1.2640 - acc: 0.734 - ETA: 0s - loss: 1.2635 - acc: 0.734 - ETA: 0s - loss: 1.2639 - acc: 0.734 - ETA: 0s - loss: 1.2651 - acc: 0.734 - ETA: 0s - loss: 1.2656 - acc: 0.733 - ETA: 0s - loss: 1.2661 - acc: 0.733 - ETA: 0s - loss: 1.2657 - acc: 0.733 - 10s 565us/step - loss: 1.2659 - acc: 0.7339 - val_loss: 2.6863 - val_acc: 0.5984\n",
      "Epoch 28/200\n"
     ]
    },
    {
     "name": "stdout",
     "output_type": "stream",
     "text": [
      "18357/18357 [==============================] - ETA: 8s - loss: 1.1042 - acc: 0.771 - ETA: 8s - loss: 1.0983 - acc: 0.776 - ETA: 8s - loss: 1.1001 - acc: 0.776 - ETA: 8s - loss: 1.1092 - acc: 0.774 - ETA: 8s - loss: 1.1163 - acc: 0.772 - ETA: 8s - loss: 1.1111 - acc: 0.772 - ETA: 7s - loss: 1.1206 - acc: 0.770 - ETA: 7s - loss: 1.1233 - acc: 0.768 - ETA: 7s - loss: 1.1269 - acc: 0.769 - ETA: 7s - loss: 1.1398 - acc: 0.765 - ETA: 7s - loss: 1.1335 - acc: 0.765 - ETA: 7s - loss: 1.1354 - acc: 0.764 - ETA: 7s - loss: 1.1403 - acc: 0.762 - ETA: 7s - loss: 1.1417 - acc: 0.763 - ETA: 7s - loss: 1.1441 - acc: 0.762 - ETA: 6s - loss: 1.1462 - acc: 0.761 - ETA: 6s - loss: 1.1453 - acc: 0.761 - ETA: 6s - loss: 1.1460 - acc: 0.761 - ETA: 6s - loss: 1.1468 - acc: 0.762 - ETA: 6s - loss: 1.1488 - acc: 0.761 - ETA: 6s - loss: 1.1483 - acc: 0.761 - ETA: 6s - loss: 1.1502 - acc: 0.760 - ETA: 6s - loss: 1.1471 - acc: 0.760 - ETA: 5s - loss: 1.1487 - acc: 0.760 - ETA: 5s - loss: 1.1500 - acc: 0.760 - ETA: 5s - loss: 1.1519 - acc: 0.759 - ETA: 5s - loss: 1.1520 - acc: 0.759 - ETA: 5s - loss: 1.1543 - acc: 0.758 - ETA: 5s - loss: 1.1549 - acc: 0.758 - ETA: 5s - loss: 1.1562 - acc: 0.758 - ETA: 5s - loss: 1.1562 - acc: 0.758 - ETA: 4s - loss: 1.1558 - acc: 0.758 - ETA: 4s - loss: 1.1534 - acc: 0.758 - ETA: 4s - loss: 1.1560 - acc: 0.758 - ETA: 4s - loss: 1.1577 - acc: 0.758 - ETA: 4s - loss: 1.1580 - acc: 0.758 - ETA: 4s - loss: 1.1571 - acc: 0.758 - ETA: 4s - loss: 1.1592 - acc: 0.757 - ETA: 4s - loss: 1.1594 - acc: 0.757 - ETA: 3s - loss: 1.1596 - acc: 0.757 - ETA: 3s - loss: 1.1607 - acc: 0.757 - ETA: 3s - loss: 1.1622 - acc: 0.756 - ETA: 3s - loss: 1.1635 - acc: 0.756 - ETA: 3s - loss: 1.1653 - acc: 0.755 - ETA: 3s - loss: 1.1651 - acc: 0.755 - ETA: 3s - loss: 1.1648 - acc: 0.755 - ETA: 3s - loss: 1.1662 - acc: 0.754 - ETA: 2s - loss: 1.1654 - acc: 0.755 - ETA: 2s - loss: 1.1656 - acc: 0.754 - ETA: 2s - loss: 1.1664 - acc: 0.754 - ETA: 2s - loss: 1.1666 - acc: 0.754 - ETA: 2s - loss: 1.1683 - acc: 0.754 - ETA: 2s - loss: 1.1691 - acc: 0.754 - ETA: 2s - loss: 1.1683 - acc: 0.754 - ETA: 2s - loss: 1.1675 - acc: 0.754 - ETA: 1s - loss: 1.1679 - acc: 0.754 - ETA: 1s - loss: 1.1683 - acc: 0.754 - ETA: 1s - loss: 1.1688 - acc: 0.753 - ETA: 1s - loss: 1.1687 - acc: 0.753 - ETA: 1s - loss: 1.1695 - acc: 0.753 - ETA: 1s - loss: 1.1691 - acc: 0.753 - ETA: 1s - loss: 1.1703 - acc: 0.753 - ETA: 1s - loss: 1.1708 - acc: 0.752 - ETA: 0s - loss: 1.1722 - acc: 0.752 - ETA: 0s - loss: 1.1732 - acc: 0.752 - ETA: 0s - loss: 1.1732 - acc: 0.752 - ETA: 0s - loss: 1.1747 - acc: 0.751 - ETA: 0s - loss: 1.1758 - acc: 0.751 - ETA: 0s - loss: 1.1765 - acc: 0.750 - ETA: 0s - loss: 1.1762 - acc: 0.751 - ETA: 0s - loss: 1.1765 - acc: 0.750 - 10s 558us/step - loss: 1.1774 - acc: 0.7507 - val_loss: 2.6692 - val_acc: 0.5988\n",
      "Epoch 29/200\n",
      "18357/18357 [==============================] - ETA: 8s - loss: 1.0612 - acc: 0.789 - ETA: 8s - loss: 1.0159 - acc: 0.790 - ETA: 8s - loss: 1.0279 - acc: 0.787 - ETA: 8s - loss: 1.0362 - acc: 0.789 - ETA: 8s - loss: 1.0287 - acc: 0.792 - ETA: 8s - loss: 1.0250 - acc: 0.792 - ETA: 8s - loss: 1.0403 - acc: 0.789 - ETA: 7s - loss: 1.0480 - acc: 0.788 - ETA: 7s - loss: 1.0475 - acc: 0.788 - ETA: 7s - loss: 1.0463 - acc: 0.787 - ETA: 7s - loss: 1.0520 - acc: 0.786 - ETA: 7s - loss: 1.0620 - acc: 0.783 - ETA: 7s - loss: 1.0616 - acc: 0.783 - ETA: 7s - loss: 1.0621 - acc: 0.782 - ETA: 7s - loss: 1.0608 - acc: 0.783 - ETA: 6s - loss: 1.0655 - acc: 0.781 - ETA: 6s - loss: 1.0664 - acc: 0.780 - ETA: 6s - loss: 1.0633 - acc: 0.781 - ETA: 6s - loss: 1.0669 - acc: 0.780 - ETA: 6s - loss: 1.0664 - acc: 0.780 - ETA: 6s - loss: 1.0675 - acc: 0.779 - ETA: 6s - loss: 1.0661 - acc: 0.779 - ETA: 6s - loss: 1.0676 - acc: 0.779 - ETA: 5s - loss: 1.0680 - acc: 0.779 - ETA: 5s - loss: 1.0675 - acc: 0.779 - ETA: 5s - loss: 1.0673 - acc: 0.778 - ETA: 5s - loss: 1.0661 - acc: 0.778 - ETA: 5s - loss: 1.0687 - acc: 0.777 - ETA: 5s - loss: 1.0669 - acc: 0.778 - ETA: 5s - loss: 1.0678 - acc: 0.778 - ETA: 5s - loss: 1.0697 - acc: 0.777 - ETA: 4s - loss: 1.0713 - acc: 0.777 - ETA: 4s - loss: 1.0700 - acc: 0.777 - ETA: 4s - loss: 1.0701 - acc: 0.777 - ETA: 4s - loss: 1.0706 - acc: 0.776 - ETA: 4s - loss: 1.0725 - acc: 0.776 - ETA: 4s - loss: 1.0712 - acc: 0.776 - ETA: 4s - loss: 1.0727 - acc: 0.776 - ETA: 4s - loss: 1.0744 - acc: 0.776 - ETA: 3s - loss: 1.0745 - acc: 0.775 - ETA: 3s - loss: 1.0744 - acc: 0.775 - ETA: 3s - loss: 1.0760 - acc: 0.775 - ETA: 3s - loss: 1.0774 - acc: 0.775 - ETA: 3s - loss: 1.0771 - acc: 0.775 - ETA: 3s - loss: 1.0781 - acc: 0.775 - ETA: 3s - loss: 1.0796 - acc: 0.774 - ETA: 3s - loss: 1.0787 - acc: 0.774 - ETA: 2s - loss: 1.0795 - acc: 0.773 - ETA: 2s - loss: 1.0800 - acc: 0.773 - ETA: 2s - loss: 1.0795 - acc: 0.774 - ETA: 2s - loss: 1.0804 - acc: 0.773 - ETA: 2s - loss: 1.0802 - acc: 0.774 - ETA: 2s - loss: 1.0821 - acc: 0.773 - ETA: 2s - loss: 1.0831 - acc: 0.773 - ETA: 2s - loss: 1.0832 - acc: 0.773 - ETA: 1s - loss: 1.0844 - acc: 0.772 - ETA: 1s - loss: 1.0846 - acc: 0.772 - ETA: 1s - loss: 1.0865 - acc: 0.772 - ETA: 1s - loss: 1.0881 - acc: 0.771 - ETA: 1s - loss: 1.0891 - acc: 0.771 - ETA: 1s - loss: 1.0889 - acc: 0.771 - ETA: 1s - loss: 1.0893 - acc: 0.771 - ETA: 1s - loss: 1.0894 - acc: 0.771 - ETA: 0s - loss: 1.0897 - acc: 0.771 - ETA: 0s - loss: 1.0906 - acc: 0.770 - ETA: 0s - loss: 1.0906 - acc: 0.770 - ETA: 0s - loss: 1.0907 - acc: 0.770 - ETA: 0s - loss: 1.0909 - acc: 0.770 - ETA: 0s - loss: 1.0928 - acc: 0.770 - ETA: 0s - loss: 1.0936 - acc: 0.769 - ETA: 0s - loss: 1.0953 - acc: 0.769 - 10s 559us/step - loss: 1.0958 - acc: 0.7691 - val_loss: 2.6471 - val_acc: 0.6015\n",
      "Epoch 30/200\n"
     ]
    },
    {
     "name": "stdout",
     "output_type": "stream",
     "text": [
      "18357/18357 [==============================] - ETA: 8s - loss: 0.9628 - acc: 0.806 - ETA: 8s - loss: 0.9940 - acc: 0.796 - ETA: 8s - loss: 1.0136 - acc: 0.792 - ETA: 8s - loss: 1.0149 - acc: 0.791 - ETA: 8s - loss: 1.0154 - acc: 0.788 - ETA: 7s - loss: 1.0011 - acc: 0.793 - ETA: 7s - loss: 1.0004 - acc: 0.793 - ETA: 7s - loss: 0.9972 - acc: 0.794 - ETA: 7s - loss: 0.9982 - acc: 0.793 - ETA: 7s - loss: 0.9992 - acc: 0.793 - ETA: 7s - loss: 0.9972 - acc: 0.793 - ETA: 7s - loss: 0.9996 - acc: 0.792 - ETA: 7s - loss: 0.9932 - acc: 0.794 - ETA: 7s - loss: 0.9970 - acc: 0.794 - ETA: 7s - loss: 0.9965 - acc: 0.794 - ETA: 6s - loss: 0.9931 - acc: 0.795 - ETA: 6s - loss: 0.9973 - acc: 0.794 - ETA: 6s - loss: 0.9930 - acc: 0.795 - ETA: 6s - loss: 0.9916 - acc: 0.795 - ETA: 6s - loss: 0.9911 - acc: 0.795 - ETA: 6s - loss: 0.9923 - acc: 0.795 - ETA: 6s - loss: 0.9971 - acc: 0.793 - ETA: 6s - loss: 0.9980 - acc: 0.793 - ETA: 5s - loss: 0.9996 - acc: 0.792 - ETA: 5s - loss: 0.9973 - acc: 0.793 - ETA: 5s - loss: 0.9958 - acc: 0.794 - ETA: 5s - loss: 0.9961 - acc: 0.794 - ETA: 5s - loss: 0.9961 - acc: 0.793 - ETA: 5s - loss: 0.9982 - acc: 0.793 - ETA: 5s - loss: 0.9998 - acc: 0.792 - ETA: 5s - loss: 1.0035 - acc: 0.791 - ETA: 4s - loss: 1.0047 - acc: 0.791 - ETA: 4s - loss: 1.0055 - acc: 0.791 - ETA: 4s - loss: 1.0054 - acc: 0.791 - ETA: 4s - loss: 1.0051 - acc: 0.790 - ETA: 4s - loss: 1.0045 - acc: 0.790 - ETA: 4s - loss: 1.0040 - acc: 0.790 - ETA: 4s - loss: 1.0025 - acc: 0.791 - ETA: 4s - loss: 1.0027 - acc: 0.790 - ETA: 3s - loss: 1.0017 - acc: 0.791 - ETA: 3s - loss: 1.0043 - acc: 0.790 - ETA: 3s - loss: 1.0054 - acc: 0.789 - ETA: 3s - loss: 1.0051 - acc: 0.789 - ETA: 3s - loss: 1.0066 - acc: 0.789 - ETA: 3s - loss: 1.0075 - acc: 0.789 - ETA: 3s - loss: 1.0092 - acc: 0.788 - ETA: 3s - loss: 1.0105 - acc: 0.788 - ETA: 2s - loss: 1.0105 - acc: 0.788 - ETA: 2s - loss: 1.0110 - acc: 0.788 - ETA: 2s - loss: 1.0111 - acc: 0.787 - ETA: 2s - loss: 1.0124 - acc: 0.787 - ETA: 2s - loss: 1.0116 - acc: 0.787 - ETA: 2s - loss: 1.0123 - acc: 0.787 - ETA: 2s - loss: 1.0110 - acc: 0.788 - ETA: 2s - loss: 1.0119 - acc: 0.787 - ETA: 1s - loss: 1.0119 - acc: 0.787 - ETA: 1s - loss: 1.0125 - acc: 0.787 - ETA: 1s - loss: 1.0128 - acc: 0.787 - ETA: 1s - loss: 1.0145 - acc: 0.787 - ETA: 1s - loss: 1.0152 - acc: 0.787 - ETA: 1s - loss: 1.0154 - acc: 0.786 - ETA: 1s - loss: 1.0168 - acc: 0.786 - ETA: 1s - loss: 1.0172 - acc: 0.786 - ETA: 0s - loss: 1.0177 - acc: 0.786 - ETA: 0s - loss: 1.0187 - acc: 0.785 - ETA: 0s - loss: 1.0182 - acc: 0.785 - ETA: 0s - loss: 1.0181 - acc: 0.785 - ETA: 0s - loss: 1.0182 - acc: 0.785 - ETA: 0s - loss: 1.0186 - acc: 0.785 - ETA: 0s - loss: 1.0179 - acc: 0.785 - ETA: 0s - loss: 1.0185 - acc: 0.785 - 10s 561us/step - loss: 1.0189 - acc: 0.7850 - val_loss: 2.6289 - val_acc: 0.6050\n",
      "Epoch 31/200\n",
      "18357/18357 [==============================] - ETA: 8s - loss: 0.9184 - acc: 0.802 - ETA: 8s - loss: 0.9040 - acc: 0.807 - ETA: 8s - loss: 0.8836 - acc: 0.815 - ETA: 8s - loss: 0.9056 - acc: 0.813 - ETA: 8s - loss: 0.9174 - acc: 0.814 - ETA: 8s - loss: 0.9094 - acc: 0.815 - ETA: 8s - loss: 0.9097 - acc: 0.815 - ETA: 7s - loss: 0.9135 - acc: 0.816 - ETA: 7s - loss: 0.9122 - acc: 0.816 - ETA: 7s - loss: 0.9198 - acc: 0.814 - ETA: 7s - loss: 0.9166 - acc: 0.814 - ETA: 7s - loss: 0.9198 - acc: 0.813 - ETA: 7s - loss: 0.9147 - acc: 0.814 - ETA: 7s - loss: 0.9134 - acc: 0.813 - ETA: 7s - loss: 0.9158 - acc: 0.812 - ETA: 6s - loss: 0.9132 - acc: 0.813 - ETA: 6s - loss: 0.9156 - acc: 0.812 - ETA: 6s - loss: 0.9179 - acc: 0.812 - ETA: 6s - loss: 0.9182 - acc: 0.812 - ETA: 6s - loss: 0.9182 - acc: 0.812 - ETA: 6s - loss: 0.9178 - acc: 0.812 - ETA: 6s - loss: 0.9187 - acc: 0.812 - ETA: 6s - loss: 0.9198 - acc: 0.811 - ETA: 5s - loss: 0.9208 - acc: 0.811 - ETA: 5s - loss: 0.9189 - acc: 0.811 - ETA: 5s - loss: 0.9211 - acc: 0.810 - ETA: 5s - loss: 0.9210 - acc: 0.810 - ETA: 5s - loss: 0.9212 - acc: 0.810 - ETA: 5s - loss: 0.9230 - acc: 0.810 - ETA: 5s - loss: 0.9250 - acc: 0.809 - ETA: 5s - loss: 0.9269 - acc: 0.808 - ETA: 4s - loss: 0.9273 - acc: 0.808 - ETA: 4s - loss: 0.9292 - acc: 0.808 - ETA: 4s - loss: 0.9291 - acc: 0.807 - ETA: 4s - loss: 0.9287 - acc: 0.807 - ETA: 4s - loss: 0.9311 - acc: 0.806 - ETA: 4s - loss: 0.9299 - acc: 0.807 - ETA: 4s - loss: 0.9315 - acc: 0.806 - ETA: 4s - loss: 0.9313 - acc: 0.807 - ETA: 3s - loss: 0.9308 - acc: 0.807 - ETA: 3s - loss: 0.9317 - acc: 0.807 - ETA: 3s - loss: 0.9331 - acc: 0.806 - ETA: 3s - loss: 0.9333 - acc: 0.806 - ETA: 3s - loss: 0.9330 - acc: 0.806 - ETA: 3s - loss: 0.9335 - acc: 0.806 - ETA: 3s - loss: 0.9352 - acc: 0.805 - ETA: 3s - loss: 0.9370 - acc: 0.805 - ETA: 2s - loss: 0.9376 - acc: 0.804 - ETA: 2s - loss: 0.9383 - acc: 0.804 - ETA: 2s - loss: 0.9382 - acc: 0.804 - ETA: 2s - loss: 0.9377 - acc: 0.804 - ETA: 2s - loss: 0.9387 - acc: 0.804 - ETA: 2s - loss: 0.9388 - acc: 0.804 - ETA: 2s - loss: 0.9387 - acc: 0.804 - ETA: 2s - loss: 0.9400 - acc: 0.803 - ETA: 1s - loss: 0.9414 - acc: 0.803 - ETA: 1s - loss: 0.9431 - acc: 0.802 - ETA: 1s - loss: 0.9429 - acc: 0.802 - ETA: 1s - loss: 0.9428 - acc: 0.802 - ETA: 1s - loss: 0.9441 - acc: 0.802 - ETA: 1s - loss: 0.9443 - acc: 0.802 - ETA: 1s - loss: 0.9453 - acc: 0.801 - ETA: 1s - loss: 0.9465 - acc: 0.801 - ETA: 0s - loss: 0.9462 - acc: 0.801 - ETA: 0s - loss: 0.9455 - acc: 0.801 - ETA: 0s - loss: 0.9468 - acc: 0.801 - ETA: 0s - loss: 0.9470 - acc: 0.801 - ETA: 0s - loss: 0.9470 - acc: 0.800 - ETA: 0s - loss: 0.9459 - acc: 0.801 - ETA: 0s - loss: 0.9469 - acc: 0.800 - ETA: 0s - loss: 0.9475 - acc: 0.800 - 10s 559us/step - loss: 0.9480 - acc: 0.8003 - val_loss: 2.6113 - val_acc: 0.6093\n",
      "Epoch 32/200\n"
     ]
    },
    {
     "name": "stdout",
     "output_type": "stream",
     "text": [
      "18357/18357 [==============================] - ETA: 8s - loss: 0.8245 - acc: 0.826 - ETA: 8s - loss: 0.8537 - acc: 0.824 - ETA: 8s - loss: 0.8732 - acc: 0.819 - ETA: 8s - loss: 0.8603 - acc: 0.822 - ETA: 8s - loss: 0.8557 - acc: 0.823 - ETA: 8s - loss: 0.8575 - acc: 0.824 - ETA: 8s - loss: 0.8613 - acc: 0.824 - ETA: 7s - loss: 0.8627 - acc: 0.824 - ETA: 7s - loss: 0.8591 - acc: 0.824 - ETA: 7s - loss: 0.8691 - acc: 0.823 - ETA: 7s - loss: 0.8639 - acc: 0.823 - ETA: 7s - loss: 0.8608 - acc: 0.825 - ETA: 7s - loss: 0.8581 - acc: 0.825 - ETA: 7s - loss: 0.8613 - acc: 0.824 - ETA: 7s - loss: 0.8577 - acc: 0.825 - ETA: 6s - loss: 0.8567 - acc: 0.825 - ETA: 6s - loss: 0.8569 - acc: 0.825 - ETA: 6s - loss: 0.8561 - acc: 0.825 - ETA: 6s - loss: 0.8581 - acc: 0.824 - ETA: 6s - loss: 0.8583 - acc: 0.823 - ETA: 6s - loss: 0.8618 - acc: 0.822 - ETA: 6s - loss: 0.8620 - acc: 0.822 - ETA: 6s - loss: 0.8635 - acc: 0.822 - ETA: 5s - loss: 0.8636 - acc: 0.822 - ETA: 5s - loss: 0.8631 - acc: 0.822 - ETA: 5s - loss: 0.8642 - acc: 0.821 - ETA: 5s - loss: 0.8635 - acc: 0.822 - ETA: 5s - loss: 0.8645 - acc: 0.821 - ETA: 5s - loss: 0.8638 - acc: 0.822 - ETA: 5s - loss: 0.8645 - acc: 0.821 - ETA: 5s - loss: 0.8641 - acc: 0.821 - ETA: 4s - loss: 0.8640 - acc: 0.821 - ETA: 4s - loss: 0.8643 - acc: 0.821 - ETA: 4s - loss: 0.8662 - acc: 0.820 - ETA: 4s - loss: 0.8660 - acc: 0.820 - ETA: 4s - loss: 0.8678 - acc: 0.819 - ETA: 4s - loss: 0.8683 - acc: 0.819 - ETA: 4s - loss: 0.8692 - acc: 0.818 - ETA: 4s - loss: 0.8701 - acc: 0.818 - ETA: 3s - loss: 0.8686 - acc: 0.818 - ETA: 3s - loss: 0.8695 - acc: 0.818 - ETA: 3s - loss: 0.8690 - acc: 0.818 - ETA: 3s - loss: 0.8687 - acc: 0.818 - ETA: 3s - loss: 0.8694 - acc: 0.817 - ETA: 3s - loss: 0.8698 - acc: 0.817 - ETA: 3s - loss: 0.8701 - acc: 0.817 - ETA: 3s - loss: 0.8711 - acc: 0.817 - ETA: 2s - loss: 0.8716 - acc: 0.817 - ETA: 2s - loss: 0.8718 - acc: 0.817 - ETA: 2s - loss: 0.8724 - acc: 0.817 - ETA: 2s - loss: 0.8725 - acc: 0.816 - ETA: 2s - loss: 0.8719 - acc: 0.816 - ETA: 2s - loss: 0.8739 - acc: 0.816 - ETA: 2s - loss: 0.8741 - acc: 0.816 - ETA: 2s - loss: 0.8740 - acc: 0.816 - ETA: 1s - loss: 0.8749 - acc: 0.816 - ETA: 1s - loss: 0.8751 - acc: 0.815 - ETA: 1s - loss: 0.8772 - acc: 0.815 - ETA: 1s - loss: 0.8773 - acc: 0.815 - ETA: 1s - loss: 0.8790 - acc: 0.814 - ETA: 1s - loss: 0.8796 - acc: 0.814 - ETA: 1s - loss: 0.8802 - acc: 0.814 - ETA: 1s - loss: 0.8802 - acc: 0.814 - ETA: 0s - loss: 0.8805 - acc: 0.814 - ETA: 0s - loss: 0.8800 - acc: 0.814 - ETA: 0s - loss: 0.8811 - acc: 0.813 - ETA: 0s - loss: 0.8812 - acc: 0.813 - ETA: 0s - loss: 0.8813 - acc: 0.813 - ETA: 0s - loss: 0.8823 - acc: 0.813 - ETA: 0s - loss: 0.8840 - acc: 0.812 - ETA: 0s - loss: 0.8838 - acc: 0.812 - 10s 556us/step - loss: 0.8841 - acc: 0.8124 - val_loss: 2.6002 - val_acc: 0.6112\n",
      "Epoch 33/200\n",
      "18357/18357 [==============================] - ETA: 8s - loss: 0.8109 - acc: 0.833 - ETA: 8s - loss: 0.7989 - acc: 0.831 - ETA: 8s - loss: 0.8048 - acc: 0.832 - ETA: 8s - loss: 0.8047 - acc: 0.832 - ETA: 8s - loss: 0.8050 - acc: 0.834 - ETA: 8s - loss: 0.8149 - acc: 0.832 - ETA: 7s - loss: 0.8051 - acc: 0.834 - ETA: 7s - loss: 0.8097 - acc: 0.834 - ETA: 7s - loss: 0.8084 - acc: 0.836 - ETA: 7s - loss: 0.8115 - acc: 0.835 - ETA: 7s - loss: 0.8153 - acc: 0.833 - ETA: 7s - loss: 0.8151 - acc: 0.833 - ETA: 7s - loss: 0.8083 - acc: 0.834 - ETA: 7s - loss: 0.8086 - acc: 0.833 - ETA: 7s - loss: 0.8050 - acc: 0.834 - ETA: 6s - loss: 0.8066 - acc: 0.834 - ETA: 6s - loss: 0.8063 - acc: 0.834 - ETA: 6s - loss: 0.8052 - acc: 0.835 - ETA: 6s - loss: 0.8036 - acc: 0.835 - ETA: 6s - loss: 0.8046 - acc: 0.834 - ETA: 6s - loss: 0.8057 - acc: 0.833 - ETA: 6s - loss: 0.8073 - acc: 0.833 - ETA: 6s - loss: 0.8068 - acc: 0.833 - ETA: 5s - loss: 0.8078 - acc: 0.832 - ETA: 5s - loss: 0.8078 - acc: 0.832 - ETA: 5s - loss: 0.8084 - acc: 0.832 - ETA: 5s - loss: 0.8105 - acc: 0.831 - ETA: 5s - loss: 0.8103 - acc: 0.831 - ETA: 5s - loss: 0.8115 - acc: 0.830 - ETA: 5s - loss: 0.8141 - acc: 0.830 - ETA: 5s - loss: 0.8159 - acc: 0.829 - ETA: 4s - loss: 0.8147 - acc: 0.829 - ETA: 4s - loss: 0.8134 - acc: 0.829 - ETA: 4s - loss: 0.8128 - acc: 0.829 - ETA: 4s - loss: 0.8138 - acc: 0.829 - ETA: 4s - loss: 0.8131 - acc: 0.829 - ETA: 4s - loss: 0.8128 - acc: 0.830 - ETA: 4s - loss: 0.8123 - acc: 0.830 - ETA: 4s - loss: 0.8121 - acc: 0.830 - ETA: 3s - loss: 0.8117 - acc: 0.830 - ETA: 3s - loss: 0.8115 - acc: 0.830 - ETA: 3s - loss: 0.8120 - acc: 0.830 - ETA: 3s - loss: 0.8126 - acc: 0.830 - ETA: 3s - loss: 0.8119 - acc: 0.830 - ETA: 3s - loss: 0.8116 - acc: 0.829 - ETA: 3s - loss: 0.8128 - acc: 0.829 - ETA: 3s - loss: 0.8126 - acc: 0.829 - ETA: 2s - loss: 0.8120 - acc: 0.829 - ETA: 2s - loss: 0.8132 - acc: 0.829 - ETA: 2s - loss: 0.8145 - acc: 0.828 - ETA: 2s - loss: 0.8167 - acc: 0.828 - ETA: 2s - loss: 0.8163 - acc: 0.828 - ETA: 2s - loss: 0.8160 - acc: 0.828 - ETA: 2s - loss: 0.8161 - acc: 0.827 - ETA: 2s - loss: 0.8165 - acc: 0.827 - ETA: 1s - loss: 0.8168 - acc: 0.827 - ETA: 1s - loss: 0.8166 - acc: 0.827 - ETA: 1s - loss: 0.8177 - acc: 0.827 - ETA: 1s - loss: 0.8183 - acc: 0.827 - ETA: 1s - loss: 0.8199 - acc: 0.826 - ETA: 1s - loss: 0.8205 - acc: 0.826 - ETA: 1s - loss: 0.8202 - acc: 0.826 - ETA: 1s - loss: 0.8209 - acc: 0.826 - ETA: 0s - loss: 0.8218 - acc: 0.825 - ETA: 0s - loss: 0.8234 - acc: 0.825 - ETA: 0s - loss: 0.8232 - acc: 0.825 - ETA: 0s - loss: 0.8237 - acc: 0.824 - ETA: 0s - loss: 0.8246 - acc: 0.824 - ETA: 0s - loss: 0.8238 - acc: 0.824 - ETA: 0s - loss: 0.8240 - acc: 0.824 - ETA: 0s - loss: 0.8256 - acc: 0.824 - 10s 559us/step - loss: 0.8257 - acc: 0.8242 - val_loss: 2.5940 - val_acc: 0.6128\n",
      "Epoch 34/200\n"
     ]
    },
    {
     "name": "stdout",
     "output_type": "stream",
     "text": [
      "18357/18357 [==============================] - ETA: 8s - loss: 0.7462 - acc: 0.842 - ETA: 8s - loss: 0.7501 - acc: 0.842 - ETA: 8s - loss: 0.7418 - acc: 0.845 - ETA: 8s - loss: 0.7263 - acc: 0.851 - ETA: 8s - loss: 0.7356 - acc: 0.849 - ETA: 8s - loss: 0.7268 - acc: 0.852 - ETA: 8s - loss: 0.7360 - acc: 0.851 - ETA: 8s - loss: 0.7314 - acc: 0.853 - ETA: 7s - loss: 0.7338 - acc: 0.851 - ETA: 7s - loss: 0.7305 - acc: 0.852 - ETA: 7s - loss: 0.7278 - acc: 0.852 - ETA: 7s - loss: 0.7287 - acc: 0.852 - ETA: 7s - loss: 0.7266 - acc: 0.852 - ETA: 7s - loss: 0.7311 - acc: 0.850 - ETA: 7s - loss: 0.7284 - acc: 0.850 - ETA: 6s - loss: 0.7282 - acc: 0.852 - ETA: 6s - loss: 0.7275 - acc: 0.851 - ETA: 6s - loss: 0.7316 - acc: 0.851 - ETA: 6s - loss: 0.7357 - acc: 0.849 - ETA: 6s - loss: 0.7397 - acc: 0.847 - ETA: 6s - loss: 0.7446 - acc: 0.846 - ETA: 6s - loss: 0.7437 - acc: 0.846 - ETA: 6s - loss: 0.7417 - acc: 0.847 - ETA: 5s - loss: 0.7417 - acc: 0.847 - ETA: 5s - loss: 0.7410 - acc: 0.847 - ETA: 5s - loss: 0.7409 - acc: 0.847 - ETA: 5s - loss: 0.7430 - acc: 0.846 - ETA: 5s - loss: 0.7433 - acc: 0.846 - ETA: 5s - loss: 0.7446 - acc: 0.846 - ETA: 5s - loss: 0.7448 - acc: 0.846 - ETA: 5s - loss: 0.7441 - acc: 0.846 - ETA: 4s - loss: 0.7444 - acc: 0.845 - ETA: 4s - loss: 0.7453 - acc: 0.845 - ETA: 4s - loss: 0.7477 - acc: 0.844 - ETA: 4s - loss: 0.7467 - acc: 0.844 - ETA: 4s - loss: 0.7461 - acc: 0.845 - ETA: 4s - loss: 0.7472 - acc: 0.844 - ETA: 4s - loss: 0.7466 - acc: 0.844 - ETA: 4s - loss: 0.7485 - acc: 0.843 - ETA: 3s - loss: 0.7491 - acc: 0.843 - ETA: 3s - loss: 0.7500 - acc: 0.843 - ETA: 3s - loss: 0.7498 - acc: 0.843 - ETA: 3s - loss: 0.7496 - acc: 0.843 - ETA: 3s - loss: 0.7497 - acc: 0.842 - ETA: 3s - loss: 0.7507 - acc: 0.842 - ETA: 3s - loss: 0.7507 - acc: 0.842 - ETA: 3s - loss: 0.7512 - acc: 0.842 - ETA: 2s - loss: 0.7518 - acc: 0.841 - ETA: 2s - loss: 0.7517 - acc: 0.841 - ETA: 2s - loss: 0.7521 - acc: 0.841 - ETA: 2s - loss: 0.7525 - acc: 0.840 - ETA: 2s - loss: 0.7535 - acc: 0.840 - ETA: 2s - loss: 0.7545 - acc: 0.840 - ETA: 2s - loss: 0.7535 - acc: 0.840 - ETA: 2s - loss: 0.7550 - acc: 0.840 - ETA: 1s - loss: 0.7548 - acc: 0.840 - ETA: 1s - loss: 0.7568 - acc: 0.839 - ETA: 1s - loss: 0.7580 - acc: 0.839 - ETA: 1s - loss: 0.7592 - acc: 0.838 - ETA: 1s - loss: 0.7595 - acc: 0.838 - ETA: 1s - loss: 0.7600 - acc: 0.838 - ETA: 1s - loss: 0.7611 - acc: 0.837 - ETA: 1s - loss: 0.7614 - acc: 0.837 - ETA: 0s - loss: 0.7621 - acc: 0.837 - ETA: 0s - loss: 0.7627 - acc: 0.837 - ETA: 0s - loss: 0.7640 - acc: 0.836 - ETA: 0s - loss: 0.7656 - acc: 0.836 - ETA: 0s - loss: 0.7660 - acc: 0.836 - ETA: 0s - loss: 0.7670 - acc: 0.836 - ETA: 0s - loss: 0.7678 - acc: 0.835 - ETA: 0s - loss: 0.7690 - acc: 0.835 - 10s 557us/step - loss: 0.7696 - acc: 0.8352 - val_loss: 2.5799 - val_acc: 0.6159\n",
      "Epoch 35/200\n",
      "18357/18357 [==============================] - ETA: 8s - loss: 0.6518 - acc: 0.870 - ETA: 8s - loss: 0.6661 - acc: 0.866 - ETA: 8s - loss: 0.6789 - acc: 0.863 - ETA: 8s - loss: 0.6677 - acc: 0.865 - ETA: 8s - loss: 0.6684 - acc: 0.863 - ETA: 8s - loss: 0.6752 - acc: 0.863 - ETA: 8s - loss: 0.6666 - acc: 0.865 - ETA: 7s - loss: 0.6612 - acc: 0.865 - ETA: 7s - loss: 0.6705 - acc: 0.861 - ETA: 7s - loss: 0.6800 - acc: 0.859 - ETA: 7s - loss: 0.6807 - acc: 0.859 - ETA: 7s - loss: 0.6831 - acc: 0.859 - ETA: 7s - loss: 0.6809 - acc: 0.859 - ETA: 7s - loss: 0.6834 - acc: 0.859 - ETA: 7s - loss: 0.6836 - acc: 0.858 - ETA: 6s - loss: 0.6836 - acc: 0.858 - ETA: 6s - loss: 0.6833 - acc: 0.858 - ETA: 6s - loss: 0.6850 - acc: 0.856 - ETA: 6s - loss: 0.6840 - acc: 0.857 - ETA: 6s - loss: 0.6847 - acc: 0.857 - ETA: 6s - loss: 0.6835 - acc: 0.857 - ETA: 6s - loss: 0.6860 - acc: 0.857 - ETA: 6s - loss: 0.6892 - acc: 0.856 - ETA: 5s - loss: 0.6892 - acc: 0.856 - ETA: 5s - loss: 0.6921 - acc: 0.856 - ETA: 5s - loss: 0.6942 - acc: 0.856 - ETA: 5s - loss: 0.6937 - acc: 0.855 - ETA: 5s - loss: 0.6918 - acc: 0.856 - ETA: 5s - loss: 0.6945 - acc: 0.855 - ETA: 5s - loss: 0.6971 - acc: 0.854 - ETA: 5s - loss: 0.6980 - acc: 0.854 - ETA: 4s - loss: 0.6994 - acc: 0.854 - ETA: 4s - loss: 0.7024 - acc: 0.853 - ETA: 4s - loss: 0.7023 - acc: 0.853 - ETA: 4s - loss: 0.7012 - acc: 0.853 - ETA: 4s - loss: 0.7000 - acc: 0.853 - ETA: 4s - loss: 0.7015 - acc: 0.853 - ETA: 4s - loss: 0.7031 - acc: 0.852 - ETA: 4s - loss: 0.7024 - acc: 0.853 - ETA: 3s - loss: 0.7020 - acc: 0.853 - ETA: 3s - loss: 0.7020 - acc: 0.853 - ETA: 3s - loss: 0.7039 - acc: 0.852 - ETA: 3s - loss: 0.7037 - acc: 0.852 - ETA: 3s - loss: 0.7038 - acc: 0.852 - ETA: 3s - loss: 0.7053 - acc: 0.851 - ETA: 3s - loss: 0.7055 - acc: 0.851 - ETA: 3s - loss: 0.7050 - acc: 0.851 - ETA: 2s - loss: 0.7056 - acc: 0.850 - ETA: 2s - loss: 0.7067 - acc: 0.850 - ETA: 2s - loss: 0.7072 - acc: 0.850 - ETA: 2s - loss: 0.7074 - acc: 0.850 - ETA: 2s - loss: 0.7078 - acc: 0.850 - ETA: 2s - loss: 0.7101 - acc: 0.849 - ETA: 2s - loss: 0.7112 - acc: 0.849 - ETA: 2s - loss: 0.7104 - acc: 0.849 - ETA: 1s - loss: 0.7105 - acc: 0.849 - ETA: 1s - loss: 0.7114 - acc: 0.848 - ETA: 1s - loss: 0.7120 - acc: 0.848 - ETA: 1s - loss: 0.7119 - acc: 0.848 - ETA: 1s - loss: 0.7123 - acc: 0.848 - ETA: 1s - loss: 0.7133 - acc: 0.847 - ETA: 1s - loss: 0.7123 - acc: 0.848 - ETA: 1s - loss: 0.7137 - acc: 0.847 - ETA: 0s - loss: 0.7142 - acc: 0.847 - ETA: 0s - loss: 0.7152 - acc: 0.847 - ETA: 0s - loss: 0.7155 - acc: 0.846 - ETA: 0s - loss: 0.7164 - acc: 0.846 - ETA: 0s - loss: 0.7159 - acc: 0.846 - ETA: 0s - loss: 0.7159 - acc: 0.846 - ETA: 0s - loss: 0.7161 - acc: 0.846 - ETA: 0s - loss: 0.7165 - acc: 0.846 - 10s 564us/step - loss: 0.7169 - acc: 0.8458 - val_loss: 2.5761 - val_acc: 0.6174\n",
      "Epoch 36/200\n"
     ]
    },
    {
     "name": "stdout",
     "output_type": "stream",
     "text": [
      "18357/18357 [==============================] - ETA: 8s - loss: 0.6532 - acc: 0.861 - ETA: 8s - loss: 0.6278 - acc: 0.868 - ETA: 8s - loss: 0.6426 - acc: 0.865 - ETA: 8s - loss: 0.6413 - acc: 0.866 - ETA: 8s - loss: 0.6332 - acc: 0.868 - ETA: 8s - loss: 0.6384 - acc: 0.869 - ETA: 8s - loss: 0.6380 - acc: 0.868 - ETA: 8s - loss: 0.6354 - acc: 0.870 - ETA: 7s - loss: 0.6333 - acc: 0.871 - ETA: 7s - loss: 0.6338 - acc: 0.869 - ETA: 7s - loss: 0.6387 - acc: 0.868 - ETA: 7s - loss: 0.6354 - acc: 0.868 - ETA: 7s - loss: 0.6334 - acc: 0.870 - ETA: 7s - loss: 0.6349 - acc: 0.869 - ETA: 7s - loss: 0.6357 - acc: 0.869 - ETA: 7s - loss: 0.6351 - acc: 0.869 - ETA: 6s - loss: 0.6384 - acc: 0.868 - ETA: 6s - loss: 0.6389 - acc: 0.868 - ETA: 6s - loss: 0.6411 - acc: 0.867 - ETA: 6s - loss: 0.6424 - acc: 0.867 - ETA: 6s - loss: 0.6433 - acc: 0.866 - ETA: 6s - loss: 0.6468 - acc: 0.865 - ETA: 6s - loss: 0.6467 - acc: 0.865 - ETA: 6s - loss: 0.6445 - acc: 0.865 - ETA: 5s - loss: 0.6432 - acc: 0.865 - ETA: 5s - loss: 0.6459 - acc: 0.864 - ETA: 5s - loss: 0.6460 - acc: 0.864 - ETA: 5s - loss: 0.6503 - acc: 0.862 - ETA: 5s - loss: 0.6516 - acc: 0.862 - ETA: 5s - loss: 0.6529 - acc: 0.861 - ETA: 5s - loss: 0.6526 - acc: 0.861 - ETA: 5s - loss: 0.6534 - acc: 0.861 - ETA: 4s - loss: 0.6530 - acc: 0.860 - ETA: 4s - loss: 0.6536 - acc: 0.860 - ETA: 4s - loss: 0.6534 - acc: 0.861 - ETA: 4s - loss: 0.6540 - acc: 0.861 - ETA: 4s - loss: 0.6544 - acc: 0.860 - ETA: 4s - loss: 0.6550 - acc: 0.860 - ETA: 4s - loss: 0.6572 - acc: 0.860 - ETA: 4s - loss: 0.6576 - acc: 0.859 - ETA: 3s - loss: 0.6584 - acc: 0.859 - ETA: 3s - loss: 0.6578 - acc: 0.859 - ETA: 3s - loss: 0.6576 - acc: 0.859 - ETA: 3s - loss: 0.6575 - acc: 0.859 - ETA: 3s - loss: 0.6581 - acc: 0.859 - ETA: 3s - loss: 0.6581 - acc: 0.859 - ETA: 3s - loss: 0.6583 - acc: 0.858 - ETA: 3s - loss: 0.6592 - acc: 0.858 - ETA: 2s - loss: 0.6606 - acc: 0.858 - ETA: 2s - loss: 0.6608 - acc: 0.858 - ETA: 2s - loss: 0.6611 - acc: 0.857 - ETA: 2s - loss: 0.6616 - acc: 0.857 - ETA: 2s - loss: 0.6621 - acc: 0.857 - ETA: 2s - loss: 0.6623 - acc: 0.857 - ETA: 2s - loss: 0.6638 - acc: 0.856 - ETA: 1s - loss: 0.6643 - acc: 0.856 - ETA: 1s - loss: 0.6648 - acc: 0.856 - ETA: 1s - loss: 0.6651 - acc: 0.856 - ETA: 1s - loss: 0.6657 - acc: 0.856 - ETA: 1s - loss: 0.6666 - acc: 0.855 - ETA: 1s - loss: 0.6677 - acc: 0.855 - ETA: 1s - loss: 0.6674 - acc: 0.855 - ETA: 1s - loss: 0.6675 - acc: 0.855 - ETA: 0s - loss: 0.6683 - acc: 0.855 - ETA: 0s - loss: 0.6683 - acc: 0.855 - ETA: 0s - loss: 0.6703 - acc: 0.854 - ETA: 0s - loss: 0.6712 - acc: 0.854 - ETA: 0s - loss: 0.6713 - acc: 0.854 - ETA: 0s - loss: 0.6715 - acc: 0.854 - ETA: 0s - loss: 0.6724 - acc: 0.853 - ETA: 0s - loss: 0.6726 - acc: 0.853 - 10s 568us/step - loss: 0.6725 - acc: 0.8534 - val_loss: 2.5711 - val_acc: 0.6166\n",
      "Epoch 37/200\n",
      "18357/18357 [==============================] - ETA: 8s - loss: 0.5955 - acc: 0.882 - ETA: 8s - loss: 0.6291 - acc: 0.869 - ETA: 8s - loss: 0.6252 - acc: 0.865 - ETA: 8s - loss: 0.6148 - acc: 0.868 - ETA: 8s - loss: 0.6173 - acc: 0.868 - ETA: 8s - loss: 0.6127 - acc: 0.867 - ETA: 8s - loss: 0.6231 - acc: 0.866 - ETA: 7s - loss: 0.6203 - acc: 0.866 - ETA: 7s - loss: 0.6140 - acc: 0.867 - ETA: 7s - loss: 0.6129 - acc: 0.866 - ETA: 7s - loss: 0.6139 - acc: 0.866 - ETA: 7s - loss: 0.6170 - acc: 0.865 - ETA: 7s - loss: 0.6179 - acc: 0.865 - ETA: 7s - loss: 0.6190 - acc: 0.866 - ETA: 7s - loss: 0.6133 - acc: 0.868 - ETA: 7s - loss: 0.6118 - acc: 0.869 - ETA: 6s - loss: 0.6115 - acc: 0.869 - ETA: 6s - loss: 0.6129 - acc: 0.868 - ETA: 6s - loss: 0.6128 - acc: 0.868 - ETA: 6s - loss: 0.6136 - acc: 0.868 - ETA: 6s - loss: 0.6168 - acc: 0.868 - ETA: 6s - loss: 0.6171 - acc: 0.867 - ETA: 6s - loss: 0.6175 - acc: 0.867 - ETA: 6s - loss: 0.6175 - acc: 0.867 - ETA: 5s - loss: 0.6181 - acc: 0.867 - ETA: 5s - loss: 0.6156 - acc: 0.868 - ETA: 5s - loss: 0.6154 - acc: 0.868 - ETA: 5s - loss: 0.6155 - acc: 0.868 - ETA: 5s - loss: 0.6141 - acc: 0.868 - ETA: 5s - loss: 0.6130 - acc: 0.868 - ETA: 5s - loss: 0.6154 - acc: 0.867 - ETA: 5s - loss: 0.6165 - acc: 0.866 - ETA: 4s - loss: 0.6161 - acc: 0.866 - ETA: 4s - loss: 0.6178 - acc: 0.865 - ETA: 4s - loss: 0.6176 - acc: 0.866 - ETA: 4s - loss: 0.6183 - acc: 0.865 - ETA: 4s - loss: 0.6186 - acc: 0.865 - ETA: 4s - loss: 0.6173 - acc: 0.865 - ETA: 4s - loss: 0.6174 - acc: 0.865 - ETA: 4s - loss: 0.6187 - acc: 0.864 - ETA: 3s - loss: 0.6184 - acc: 0.864 - ETA: 3s - loss: 0.6183 - acc: 0.864 - ETA: 3s - loss: 0.6185 - acc: 0.864 - ETA: 3s - loss: 0.6184 - acc: 0.864 - ETA: 3s - loss: 0.6181 - acc: 0.864 - ETA: 3s - loss: 0.6186 - acc: 0.864 - ETA: 3s - loss: 0.6186 - acc: 0.864 - ETA: 3s - loss: 0.6189 - acc: 0.864 - ETA: 2s - loss: 0.6190 - acc: 0.864 - ETA: 2s - loss: 0.6206 - acc: 0.863 - ETA: 2s - loss: 0.6221 - acc: 0.863 - ETA: 2s - loss: 0.6225 - acc: 0.862 - ETA: 2s - loss: 0.6223 - acc: 0.863 - ETA: 2s - loss: 0.6227 - acc: 0.863 - ETA: 2s - loss: 0.6231 - acc: 0.862 - ETA: 1s - loss: 0.6243 - acc: 0.862 - ETA: 1s - loss: 0.6246 - acc: 0.862 - ETA: 1s - loss: 0.6253 - acc: 0.862 - ETA: 1s - loss: 0.6252 - acc: 0.862 - ETA: 1s - loss: 0.6256 - acc: 0.861 - ETA: 1s - loss: 0.6265 - acc: 0.861 - ETA: 1s - loss: 0.6266 - acc: 0.861 - ETA: 1s - loss: 0.6277 - acc: 0.860 - ETA: 0s - loss: 0.6287 - acc: 0.860 - ETA: 0s - loss: 0.6291 - acc: 0.860 - ETA: 0s - loss: 0.6289 - acc: 0.860 - ETA: 0s - loss: 0.6297 - acc: 0.860 - ETA: 0s - loss: 0.6299 - acc: 0.860 - ETA: 0s - loss: 0.6300 - acc: 0.860 - ETA: 0s - loss: 0.6303 - acc: 0.860 - ETA: 0s - loss: 0.6300 - acc: 0.860 - 10s 566us/step - loss: 0.6302 - acc: 0.8602 - val_loss: 2.5752 - val_acc: 0.6174\n",
      "Epoch 38/200\n"
     ]
    },
    {
     "name": "stdout",
     "output_type": "stream",
     "text": [
      "18357/18357 [==============================] - ETA: 8s - loss: 0.5742 - acc: 0.877 - ETA: 8s - loss: 0.5743 - acc: 0.874 - ETA: 8s - loss: 0.5817 - acc: 0.867 - ETA: 8s - loss: 0.5781 - acc: 0.868 - ETA: 8s - loss: 0.5832 - acc: 0.865 - ETA: 8s - loss: 0.5908 - acc: 0.864 - ETA: 8s - loss: 0.5870 - acc: 0.866 - ETA: 8s - loss: 0.5903 - acc: 0.868 - ETA: 7s - loss: 0.5874 - acc: 0.869 - ETA: 7s - loss: 0.5867 - acc: 0.869 - ETA: 7s - loss: 0.5910 - acc: 0.869 - ETA: 7s - loss: 0.5878 - acc: 0.870 - ETA: 7s - loss: 0.5866 - acc: 0.870 - ETA: 7s - loss: 0.5855 - acc: 0.870 - ETA: 7s - loss: 0.5885 - acc: 0.870 - ETA: 6s - loss: 0.5906 - acc: 0.870 - ETA: 6s - loss: 0.5885 - acc: 0.870 - ETA: 6s - loss: 0.5899 - acc: 0.870 - ETA: 6s - loss: 0.5874 - acc: 0.871 - ETA: 6s - loss: 0.5853 - acc: 0.871 - ETA: 6s - loss: 0.5833 - acc: 0.871 - ETA: 6s - loss: 0.5824 - acc: 0.872 - ETA: 6s - loss: 0.5816 - acc: 0.872 - ETA: 5s - loss: 0.5825 - acc: 0.872 - ETA: 5s - loss: 0.5820 - acc: 0.872 - ETA: 5s - loss: 0.5832 - acc: 0.872 - ETA: 5s - loss: 0.5840 - acc: 0.871 - ETA: 5s - loss: 0.5841 - acc: 0.871 - ETA: 5s - loss: 0.5840 - acc: 0.872 - ETA: 5s - loss: 0.5845 - acc: 0.871 - ETA: 5s - loss: 0.5852 - acc: 0.871 - ETA: 4s - loss: 0.5859 - acc: 0.870 - ETA: 4s - loss: 0.5846 - acc: 0.870 - ETA: 4s - loss: 0.5858 - acc: 0.870 - ETA: 4s - loss: 0.5863 - acc: 0.870 - ETA: 4s - loss: 0.5863 - acc: 0.870 - ETA: 4s - loss: 0.5859 - acc: 0.870 - ETA: 4s - loss: 0.5862 - acc: 0.870 - ETA: 4s - loss: 0.5882 - acc: 0.869 - ETA: 3s - loss: 0.5883 - acc: 0.869 - ETA: 3s - loss: 0.5876 - acc: 0.869 - ETA: 3s - loss: 0.5877 - acc: 0.869 - ETA: 3s - loss: 0.5884 - acc: 0.869 - ETA: 3s - loss: 0.5888 - acc: 0.869 - ETA: 3s - loss: 0.5896 - acc: 0.868 - ETA: 3s - loss: 0.5900 - acc: 0.868 - ETA: 3s - loss: 0.5903 - acc: 0.868 - ETA: 2s - loss: 0.5898 - acc: 0.869 - ETA: 2s - loss: 0.5892 - acc: 0.868 - ETA: 2s - loss: 0.5897 - acc: 0.868 - ETA: 2s - loss: 0.5900 - acc: 0.868 - ETA: 2s - loss: 0.5905 - acc: 0.868 - ETA: 2s - loss: 0.5909 - acc: 0.868 - ETA: 2s - loss: 0.5921 - acc: 0.868 - ETA: 2s - loss: 0.5919 - acc: 0.867 - ETA: 1s - loss: 0.5922 - acc: 0.867 - ETA: 1s - loss: 0.5921 - acc: 0.867 - ETA: 1s - loss: 0.5931 - acc: 0.867 - ETA: 1s - loss: 0.5928 - acc: 0.867 - ETA: 1s - loss: 0.5925 - acc: 0.867 - ETA: 1s - loss: 0.5939 - acc: 0.867 - ETA: 1s - loss: 0.5944 - acc: 0.866 - ETA: 1s - loss: 0.5948 - acc: 0.866 - ETA: 0s - loss: 0.5952 - acc: 0.866 - ETA: 0s - loss: 0.5955 - acc: 0.866 - ETA: 0s - loss: 0.5953 - acc: 0.866 - ETA: 0s - loss: 0.5960 - acc: 0.865 - ETA: 0s - loss: 0.5961 - acc: 0.865 - ETA: 0s - loss: 0.5952 - acc: 0.866 - ETA: 0s - loss: 0.5956 - acc: 0.865 - ETA: 0s - loss: 0.5960 - acc: 0.865 - 10s 558us/step - loss: 0.5968 - acc: 0.8655 - val_loss: 2.5682 - val_acc: 0.6202\n",
      "Epoch 39/200\n",
      "18357/18357 [==============================] - ETA: 8s - loss: 0.5462 - acc: 0.877 - ETA: 8s - loss: 0.5507 - acc: 0.880 - ETA: 8s - loss: 0.5505 - acc: 0.881 - ETA: 8s - loss: 0.5398 - acc: 0.881 - ETA: 8s - loss: 0.5321 - acc: 0.884 - ETA: 8s - loss: 0.5253 - acc: 0.887 - ETA: 8s - loss: 0.5304 - acc: 0.884 - ETA: 7s - loss: 0.5327 - acc: 0.884 - ETA: 7s - loss: 0.5363 - acc: 0.884 - ETA: 7s - loss: 0.5403 - acc: 0.883 - ETA: 7s - loss: 0.5398 - acc: 0.882 - ETA: 7s - loss: 0.5369 - acc: 0.883 - ETA: 7s - loss: 0.5361 - acc: 0.883 - ETA: 7s - loss: 0.5324 - acc: 0.884 - ETA: 7s - loss: 0.5340 - acc: 0.884 - ETA: 6s - loss: 0.5336 - acc: 0.884 - ETA: 6s - loss: 0.5365 - acc: 0.882 - ETA: 6s - loss: 0.5379 - acc: 0.882 - ETA: 6s - loss: 0.5387 - acc: 0.882 - ETA: 6s - loss: 0.5395 - acc: 0.882 - ETA: 6s - loss: 0.5381 - acc: 0.882 - ETA: 6s - loss: 0.5384 - acc: 0.882 - ETA: 6s - loss: 0.5409 - acc: 0.881 - ETA: 5s - loss: 0.5413 - acc: 0.881 - ETA: 5s - loss: 0.5415 - acc: 0.880 - ETA: 5s - loss: 0.5423 - acc: 0.880 - ETA: 5s - loss: 0.5436 - acc: 0.880 - ETA: 5s - loss: 0.5442 - acc: 0.879 - ETA: 5s - loss: 0.5433 - acc: 0.880 - ETA: 5s - loss: 0.5424 - acc: 0.880 - ETA: 5s - loss: 0.5432 - acc: 0.879 - ETA: 4s - loss: 0.5424 - acc: 0.879 - ETA: 4s - loss: 0.5433 - acc: 0.879 - ETA: 4s - loss: 0.5420 - acc: 0.879 - ETA: 4s - loss: 0.5405 - acc: 0.880 - ETA: 4s - loss: 0.5414 - acc: 0.879 - ETA: 4s - loss: 0.5423 - acc: 0.879 - ETA: 4s - loss: 0.5416 - acc: 0.879 - ETA: 4s - loss: 0.5409 - acc: 0.879 - ETA: 3s - loss: 0.5411 - acc: 0.879 - ETA: 3s - loss: 0.5410 - acc: 0.879 - ETA: 3s - loss: 0.5404 - acc: 0.879 - ETA: 3s - loss: 0.5404 - acc: 0.879 - ETA: 3s - loss: 0.5407 - acc: 0.879 - ETA: 3s - loss: 0.5414 - acc: 0.879 - ETA: 3s - loss: 0.5418 - acc: 0.879 - ETA: 3s - loss: 0.5407 - acc: 0.879 - ETA: 2s - loss: 0.5411 - acc: 0.879 - ETA: 2s - loss: 0.5424 - acc: 0.878 - ETA: 2s - loss: 0.5431 - acc: 0.878 - ETA: 2s - loss: 0.5436 - acc: 0.878 - ETA: 2s - loss: 0.5442 - acc: 0.878 - ETA: 2s - loss: 0.5446 - acc: 0.877 - ETA: 2s - loss: 0.5455 - acc: 0.877 - ETA: 2s - loss: 0.5471 - acc: 0.877 - ETA: 1s - loss: 0.5478 - acc: 0.876 - ETA: 1s - loss: 0.5491 - acc: 0.876 - ETA: 1s - loss: 0.5498 - acc: 0.875 - ETA: 1s - loss: 0.5498 - acc: 0.875 - ETA: 1s - loss: 0.5520 - acc: 0.875 - ETA: 1s - loss: 0.5527 - acc: 0.874 - ETA: 1s - loss: 0.5537 - acc: 0.874 - ETA: 1s - loss: 0.5540 - acc: 0.874 - ETA: 0s - loss: 0.5540 - acc: 0.874 - ETA: 0s - loss: 0.5539 - acc: 0.874 - ETA: 0s - loss: 0.5544 - acc: 0.874 - ETA: 0s - loss: 0.5555 - acc: 0.874 - ETA: 0s - loss: 0.5556 - acc: 0.873 - ETA: 0s - loss: 0.5563 - acc: 0.873 - ETA: 0s - loss: 0.5573 - acc: 0.873 - ETA: 0s - loss: 0.5577 - acc: 0.873 - 10s 563us/step - loss: 0.5587 - acc: 0.8730 - val_loss: 2.5688 - val_acc: 0.6200\n",
      "Epoch 40/200\n"
     ]
    },
    {
     "name": "stdout",
     "output_type": "stream",
     "text": [
      "18357/18357 [==============================] - ETA: 8s - loss: 0.4623 - acc: 0.895 - ETA: 8s - loss: 0.4710 - acc: 0.894 - ETA: 8s - loss: 0.4701 - acc: 0.896 - ETA: 8s - loss: 0.4852 - acc: 0.893 - ETA: 8s - loss: 0.4951 - acc: 0.892 - ETA: 8s - loss: 0.4958 - acc: 0.892 - ETA: 8s - loss: 0.4955 - acc: 0.892 - ETA: 7s - loss: 0.4980 - acc: 0.890 - ETA: 7s - loss: 0.5049 - acc: 0.888 - ETA: 7s - loss: 0.5057 - acc: 0.888 - ETA: 7s - loss: 0.5009 - acc: 0.889 - ETA: 7s - loss: 0.5001 - acc: 0.889 - ETA: 7s - loss: 0.4979 - acc: 0.890 - ETA: 7s - loss: 0.5000 - acc: 0.890 - ETA: 7s - loss: 0.5013 - acc: 0.889 - ETA: 6s - loss: 0.5030 - acc: 0.888 - ETA: 6s - loss: 0.5038 - acc: 0.888 - ETA: 6s - loss: 0.5059 - acc: 0.887 - ETA: 6s - loss: 0.5052 - acc: 0.888 - ETA: 6s - loss: 0.5048 - acc: 0.887 - ETA: 6s - loss: 0.5059 - acc: 0.887 - ETA: 6s - loss: 0.5070 - acc: 0.886 - ETA: 6s - loss: 0.5081 - acc: 0.886 - ETA: 5s - loss: 0.5079 - acc: 0.886 - ETA: 5s - loss: 0.5065 - acc: 0.887 - ETA: 5s - loss: 0.5054 - acc: 0.887 - ETA: 5s - loss: 0.5060 - acc: 0.887 - ETA: 5s - loss: 0.5091 - acc: 0.886 - ETA: 5s - loss: 0.5105 - acc: 0.885 - ETA: 5s - loss: 0.5119 - acc: 0.885 - ETA: 5s - loss: 0.5122 - acc: 0.885 - ETA: 4s - loss: 0.5152 - acc: 0.884 - ETA: 4s - loss: 0.5147 - acc: 0.884 - ETA: 4s - loss: 0.5154 - acc: 0.883 - ETA: 4s - loss: 0.5158 - acc: 0.883 - ETA: 4s - loss: 0.5153 - acc: 0.883 - ETA: 4s - loss: 0.5158 - acc: 0.882 - ETA: 4s - loss: 0.5156 - acc: 0.883 - ETA: 4s - loss: 0.5166 - acc: 0.882 - ETA: 3s - loss: 0.5168 - acc: 0.881 - ETA: 3s - loss: 0.5167 - acc: 0.881 - ETA: 3s - loss: 0.5169 - acc: 0.881 - ETA: 3s - loss: 0.5171 - acc: 0.881 - ETA: 3s - loss: 0.5174 - acc: 0.881 - ETA: 3s - loss: 0.5170 - acc: 0.881 - ETA: 3s - loss: 0.5180 - acc: 0.881 - ETA: 3s - loss: 0.5185 - acc: 0.880 - ETA: 2s - loss: 0.5190 - acc: 0.880 - ETA: 2s - loss: 0.5191 - acc: 0.880 - ETA: 2s - loss: 0.5189 - acc: 0.880 - ETA: 2s - loss: 0.5194 - acc: 0.880 - ETA: 2s - loss: 0.5189 - acc: 0.880 - ETA: 2s - loss: 0.5196 - acc: 0.879 - ETA: 2s - loss: 0.5203 - acc: 0.879 - ETA: 2s - loss: 0.5210 - acc: 0.879 - ETA: 1s - loss: 0.5226 - acc: 0.878 - ETA: 1s - loss: 0.5228 - acc: 0.878 - ETA: 1s - loss: 0.5239 - acc: 0.878 - ETA: 1s - loss: 0.5232 - acc: 0.878 - ETA: 1s - loss: 0.5234 - acc: 0.878 - ETA: 1s - loss: 0.5236 - acc: 0.878 - ETA: 1s - loss: 0.5247 - acc: 0.877 - ETA: 1s - loss: 0.5250 - acc: 0.877 - ETA: 0s - loss: 0.5255 - acc: 0.877 - ETA: 0s - loss: 0.5261 - acc: 0.877 - ETA: 0s - loss: 0.5255 - acc: 0.877 - ETA: 0s - loss: 0.5261 - acc: 0.877 - ETA: 0s - loss: 0.5269 - acc: 0.877 - ETA: 0s - loss: 0.5268 - acc: 0.877 - ETA: 0s - loss: 0.5272 - acc: 0.877 - ETA: 0s - loss: 0.5272 - acc: 0.877 - 10s 563us/step - loss: 0.5274 - acc: 0.8771 - val_loss: 2.5683 - val_acc: 0.6202\n",
      "Epoch 41/200\n",
      "18357/18357 [==============================] - ETA: 8s - loss: 0.4689 - acc: 0.897 - ETA: 8s - loss: 0.4786 - acc: 0.894 - ETA: 8s - loss: 0.4917 - acc: 0.887 - ETA: 8s - loss: 0.4886 - acc: 0.888 - ETA: 8s - loss: 0.4782 - acc: 0.890 - ETA: 8s - loss: 0.4808 - acc: 0.889 - ETA: 8s - loss: 0.4770 - acc: 0.892 - ETA: 7s - loss: 0.4764 - acc: 0.892 - ETA: 7s - loss: 0.4737 - acc: 0.892 - ETA: 7s - loss: 0.4707 - acc: 0.893 - ETA: 7s - loss: 0.4690 - acc: 0.893 - ETA: 7s - loss: 0.4701 - acc: 0.892 - ETA: 7s - loss: 0.4685 - acc: 0.893 - ETA: 7s - loss: 0.4676 - acc: 0.893 - ETA: 7s - loss: 0.4671 - acc: 0.893 - ETA: 6s - loss: 0.4647 - acc: 0.894 - ETA: 6s - loss: 0.4682 - acc: 0.893 - ETA: 6s - loss: 0.4698 - acc: 0.893 - ETA: 6s - loss: 0.4678 - acc: 0.893 - ETA: 6s - loss: 0.4685 - acc: 0.893 - ETA: 6s - loss: 0.4679 - acc: 0.893 - ETA: 6s - loss: 0.4695 - acc: 0.893 - ETA: 6s - loss: 0.4684 - acc: 0.893 - ETA: 5s - loss: 0.4698 - acc: 0.892 - ETA: 5s - loss: 0.4702 - acc: 0.892 - ETA: 5s - loss: 0.4713 - acc: 0.892 - ETA: 5s - loss: 0.4718 - acc: 0.892 - ETA: 5s - loss: 0.4728 - acc: 0.891 - ETA: 5s - loss: 0.4742 - acc: 0.891 - ETA: 5s - loss: 0.4736 - acc: 0.891 - ETA: 5s - loss: 0.4732 - acc: 0.891 - ETA: 4s - loss: 0.4726 - acc: 0.891 - ETA: 4s - loss: 0.4731 - acc: 0.891 - ETA: 4s - loss: 0.4747 - acc: 0.891 - ETA: 4s - loss: 0.4764 - acc: 0.890 - ETA: 4s - loss: 0.4761 - acc: 0.890 - ETA: 4s - loss: 0.4762 - acc: 0.890 - ETA: 4s - loss: 0.4766 - acc: 0.890 - ETA: 4s - loss: 0.4754 - acc: 0.890 - ETA: 3s - loss: 0.4770 - acc: 0.890 - ETA: 3s - loss: 0.4769 - acc: 0.890 - ETA: 3s - loss: 0.4774 - acc: 0.890 - ETA: 3s - loss: 0.4771 - acc: 0.890 - ETA: 3s - loss: 0.4773 - acc: 0.890 - ETA: 3s - loss: 0.4784 - acc: 0.890 - ETA: 3s - loss: 0.4797 - acc: 0.889 - ETA: 3s - loss: 0.4813 - acc: 0.888 - ETA: 2s - loss: 0.4820 - acc: 0.888 - ETA: 2s - loss: 0.4820 - acc: 0.888 - ETA: 2s - loss: 0.4825 - acc: 0.888 - ETA: 2s - loss: 0.4831 - acc: 0.888 - ETA: 2s - loss: 0.4835 - acc: 0.888 - ETA: 2s - loss: 0.4842 - acc: 0.888 - ETA: 2s - loss: 0.4850 - acc: 0.887 - ETA: 2s - loss: 0.4860 - acc: 0.887 - ETA: 1s - loss: 0.4864 - acc: 0.887 - ETA: 1s - loss: 0.4877 - acc: 0.886 - ETA: 1s - loss: 0.4878 - acc: 0.886 - ETA: 1s - loss: 0.4881 - acc: 0.886 - ETA: 1s - loss: 0.4888 - acc: 0.885 - ETA: 1s - loss: 0.4897 - acc: 0.885 - ETA: 1s - loss: 0.4902 - acc: 0.885 - ETA: 1s - loss: 0.4916 - acc: 0.885 - ETA: 0s - loss: 0.4922 - acc: 0.884 - ETA: 0s - loss: 0.4931 - acc: 0.884 - ETA: 0s - loss: 0.4934 - acc: 0.884 - ETA: 0s - loss: 0.4943 - acc: 0.884 - ETA: 0s - loss: 0.4955 - acc: 0.883 - ETA: 0s - loss: 0.4961 - acc: 0.883 - ETA: 0s - loss: 0.4964 - acc: 0.883 - ETA: 0s - loss: 0.4965 - acc: 0.883 - 10s 560us/step - loss: 0.4970 - acc: 0.8831 - val_loss: 2.5764 - val_acc: 0.6189\n",
      "Epoch 42/200\n"
     ]
    },
    {
     "name": "stdout",
     "output_type": "stream",
     "text": [
      "18357/18357 [==============================] - ETA: 8s - loss: 0.4036 - acc: 0.909 - ETA: 8s - loss: 0.4004 - acc: 0.909 - ETA: 8s - loss: 0.4087 - acc: 0.906 - ETA: 8s - loss: 0.4293 - acc: 0.901 - ETA: 8s - loss: 0.4331 - acc: 0.898 - ETA: 8s - loss: 0.4364 - acc: 0.897 - ETA: 8s - loss: 0.4474 - acc: 0.894 - ETA: 8s - loss: 0.4483 - acc: 0.893 - ETA: 7s - loss: 0.4479 - acc: 0.894 - ETA: 7s - loss: 0.4549 - acc: 0.892 - ETA: 7s - loss: 0.4591 - acc: 0.890 - ETA: 7s - loss: 0.4554 - acc: 0.891 - ETA: 7s - loss: 0.4538 - acc: 0.891 - ETA: 7s - loss: 0.4544 - acc: 0.891 - ETA: 7s - loss: 0.4562 - acc: 0.891 - ETA: 6s - loss: 0.4574 - acc: 0.891 - ETA: 6s - loss: 0.4565 - acc: 0.891 - ETA: 6s - loss: 0.4585 - acc: 0.890 - ETA: 6s - loss: 0.4597 - acc: 0.890 - ETA: 6s - loss: 0.4567 - acc: 0.891 - ETA: 6s - loss: 0.4576 - acc: 0.891 - ETA: 6s - loss: 0.4558 - acc: 0.892 - ETA: 6s - loss: 0.4577 - acc: 0.891 - ETA: 5s - loss: 0.4575 - acc: 0.891 - ETA: 5s - loss: 0.4568 - acc: 0.891 - ETA: 5s - loss: 0.4566 - acc: 0.891 - ETA: 5s - loss: 0.4578 - acc: 0.890 - ETA: 5s - loss: 0.4605 - acc: 0.890 - ETA: 5s - loss: 0.4595 - acc: 0.890 - ETA: 5s - loss: 0.4602 - acc: 0.890 - ETA: 5s - loss: 0.4599 - acc: 0.890 - ETA: 4s - loss: 0.4606 - acc: 0.890 - ETA: 4s - loss: 0.4609 - acc: 0.890 - ETA: 4s - loss: 0.4599 - acc: 0.890 - ETA: 4s - loss: 0.4616 - acc: 0.890 - ETA: 4s - loss: 0.4617 - acc: 0.890 - ETA: 4s - loss: 0.4623 - acc: 0.890 - ETA: 4s - loss: 0.4631 - acc: 0.890 - ETA: 4s - loss: 0.4646 - acc: 0.889 - ETA: 3s - loss: 0.4653 - acc: 0.889 - ETA: 3s - loss: 0.4652 - acc: 0.889 - ETA: 3s - loss: 0.4658 - acc: 0.889 - ETA: 3s - loss: 0.4648 - acc: 0.889 - ETA: 3s - loss: 0.4649 - acc: 0.889 - ETA: 3s - loss: 0.4649 - acc: 0.890 - ETA: 3s - loss: 0.4655 - acc: 0.889 - ETA: 3s - loss: 0.4654 - acc: 0.889 - ETA: 2s - loss: 0.4659 - acc: 0.889 - ETA: 2s - loss: 0.4662 - acc: 0.889 - ETA: 2s - loss: 0.4674 - acc: 0.888 - ETA: 2s - loss: 0.4682 - acc: 0.888 - ETA: 2s - loss: 0.4688 - acc: 0.888 - ETA: 2s - loss: 0.4684 - acc: 0.888 - ETA: 2s - loss: 0.4691 - acc: 0.887 - ETA: 2s - loss: 0.4690 - acc: 0.887 - ETA: 1s - loss: 0.4693 - acc: 0.887 - ETA: 1s - loss: 0.4690 - acc: 0.887 - ETA: 1s - loss: 0.4695 - acc: 0.887 - ETA: 1s - loss: 0.4708 - acc: 0.887 - ETA: 1s - loss: 0.4712 - acc: 0.886 - ETA: 1s - loss: 0.4713 - acc: 0.886 - ETA: 1s - loss: 0.4717 - acc: 0.886 - ETA: 1s - loss: 0.4718 - acc: 0.886 - ETA: 0s - loss: 0.4720 - acc: 0.886 - ETA: 0s - loss: 0.4724 - acc: 0.886 - ETA: 0s - loss: 0.4731 - acc: 0.886 - ETA: 0s - loss: 0.4738 - acc: 0.885 - ETA: 0s - loss: 0.4739 - acc: 0.885 - ETA: 0s - loss: 0.4743 - acc: 0.885 - ETA: 0s - loss: 0.4745 - acc: 0.885 - ETA: 0s - loss: 0.4746 - acc: 0.885 - 10s 559us/step - loss: 0.4748 - acc: 0.8855 - val_loss: 2.5780 - val_acc: 0.6215\n",
      "Epoch 43/200\n",
      "18357/18357 [==============================] - ETA: 8s - loss: 0.4324 - acc: 0.895 - ETA: 8s - loss: 0.4432 - acc: 0.893 - ETA: 8s - loss: 0.4290 - acc: 0.898 - ETA: 8s - loss: 0.4156 - acc: 0.902 - ETA: 8s - loss: 0.4156 - acc: 0.900 - ETA: 8s - loss: 0.4179 - acc: 0.900 - ETA: 8s - loss: 0.4095 - acc: 0.903 - ETA: 7s - loss: 0.4135 - acc: 0.902 - ETA: 7s - loss: 0.4136 - acc: 0.902 - ETA: 7s - loss: 0.4153 - acc: 0.902 - ETA: 7s - loss: 0.4161 - acc: 0.902 - ETA: 7s - loss: 0.4194 - acc: 0.901 - ETA: 7s - loss: 0.4227 - acc: 0.900 - ETA: 7s - loss: 0.4210 - acc: 0.901 - ETA: 7s - loss: 0.4259 - acc: 0.899 - ETA: 6s - loss: 0.4254 - acc: 0.900 - ETA: 6s - loss: 0.4243 - acc: 0.900 - ETA: 6s - loss: 0.4273 - acc: 0.899 - ETA: 6s - loss: 0.4266 - acc: 0.899 - ETA: 6s - loss: 0.4278 - acc: 0.899 - ETA: 6s - loss: 0.4289 - acc: 0.898 - ETA: 6s - loss: 0.4287 - acc: 0.898 - ETA: 6s - loss: 0.4288 - acc: 0.898 - ETA: 5s - loss: 0.4297 - acc: 0.898 - ETA: 5s - loss: 0.4319 - acc: 0.898 - ETA: 5s - loss: 0.4322 - acc: 0.898 - ETA: 5s - loss: 0.4323 - acc: 0.898 - ETA: 5s - loss: 0.4345 - acc: 0.897 - ETA: 5s - loss: 0.4353 - acc: 0.897 - ETA: 5s - loss: 0.4350 - acc: 0.897 - ETA: 5s - loss: 0.4353 - acc: 0.897 - ETA: 5s - loss: 0.4351 - acc: 0.897 - ETA: 4s - loss: 0.4354 - acc: 0.897 - ETA: 4s - loss: 0.4368 - acc: 0.896 - ETA: 4s - loss: 0.4371 - acc: 0.896 - ETA: 4s - loss: 0.4382 - acc: 0.895 - ETA: 4s - loss: 0.4386 - acc: 0.895 - ETA: 4s - loss: 0.4383 - acc: 0.895 - ETA: 4s - loss: 0.4399 - acc: 0.894 - ETA: 3s - loss: 0.4398 - acc: 0.894 - ETA: 3s - loss: 0.4395 - acc: 0.894 - ETA: 3s - loss: 0.4416 - acc: 0.894 - ETA: 3s - loss: 0.4410 - acc: 0.894 - ETA: 3s - loss: 0.4412 - acc: 0.894 - ETA: 3s - loss: 0.4407 - acc: 0.894 - ETA: 3s - loss: 0.4408 - acc: 0.894 - ETA: 3s - loss: 0.4407 - acc: 0.894 - ETA: 2s - loss: 0.4410 - acc: 0.894 - ETA: 2s - loss: 0.4415 - acc: 0.893 - ETA: 2s - loss: 0.4417 - acc: 0.893 - ETA: 2s - loss: 0.4410 - acc: 0.893 - ETA: 2s - loss: 0.4412 - acc: 0.893 - ETA: 2s - loss: 0.4420 - acc: 0.893 - ETA: 2s - loss: 0.4430 - acc: 0.892 - ETA: 2s - loss: 0.4426 - acc: 0.892 - ETA: 1s - loss: 0.4430 - acc: 0.892 - ETA: 1s - loss: 0.4433 - acc: 0.892 - ETA: 1s - loss: 0.4438 - acc: 0.892 - ETA: 1s - loss: 0.4430 - acc: 0.892 - ETA: 1s - loss: 0.4435 - acc: 0.892 - ETA: 1s - loss: 0.4433 - acc: 0.892 - ETA: 1s - loss: 0.4440 - acc: 0.892 - ETA: 1s - loss: 0.4445 - acc: 0.891 - ETA: 0s - loss: 0.4446 - acc: 0.891 - ETA: 0s - loss: 0.4449 - acc: 0.891 - ETA: 0s - loss: 0.4452 - acc: 0.891 - ETA: 0s - loss: 0.4454 - acc: 0.891 - ETA: 0s - loss: 0.4444 - acc: 0.891 - ETA: 0s - loss: 0.4446 - acc: 0.891 - ETA: 0s - loss: 0.4456 - acc: 0.891 - ETA: 0s - loss: 0.4460 - acc: 0.891 - 10s 567us/step - loss: 0.4466 - acc: 0.8912 - val_loss: 2.5778 - val_acc: 0.6199\n",
      "Epoch 44/200\n"
     ]
    },
    {
     "name": "stdout",
     "output_type": "stream",
     "text": [
      "18357/18357 [==============================] - ETA: 8s - loss: 0.3944 - acc: 0.906 - ETA: 8s - loss: 0.3859 - acc: 0.912 - ETA: 8s - loss: 0.3766 - acc: 0.916 - ETA: 8s - loss: 0.3839 - acc: 0.913 - ETA: 8s - loss: 0.3860 - acc: 0.914 - ETA: 8s - loss: 0.3849 - acc: 0.914 - ETA: 8s - loss: 0.3872 - acc: 0.913 - ETA: 8s - loss: 0.3917 - acc: 0.911 - ETA: 7s - loss: 0.3970 - acc: 0.909 - ETA: 7s - loss: 0.3984 - acc: 0.908 - ETA: 7s - loss: 0.4007 - acc: 0.907 - ETA: 7s - loss: 0.4005 - acc: 0.906 - ETA: 7s - loss: 0.4000 - acc: 0.905 - ETA: 7s - loss: 0.3993 - acc: 0.905 - ETA: 7s - loss: 0.4022 - acc: 0.905 - ETA: 7s - loss: 0.4024 - acc: 0.905 - ETA: 6s - loss: 0.4027 - acc: 0.904 - ETA: 6s - loss: 0.4032 - acc: 0.904 - ETA: 6s - loss: 0.4028 - acc: 0.904 - ETA: 6s - loss: 0.4021 - acc: 0.904 - ETA: 6s - loss: 0.4032 - acc: 0.904 - ETA: 6s - loss: 0.4069 - acc: 0.903 - ETA: 6s - loss: 0.4062 - acc: 0.903 - ETA: 5s - loss: 0.4058 - acc: 0.903 - ETA: 5s - loss: 0.4049 - acc: 0.903 - ETA: 5s - loss: 0.4035 - acc: 0.903 - ETA: 5s - loss: 0.4039 - acc: 0.903 - ETA: 5s - loss: 0.4022 - acc: 0.903 - ETA: 5s - loss: 0.4026 - acc: 0.903 - ETA: 5s - loss: 0.4029 - acc: 0.903 - ETA: 5s - loss: 0.4035 - acc: 0.903 - ETA: 5s - loss: 0.4039 - acc: 0.903 - ETA: 4s - loss: 0.4037 - acc: 0.903 - ETA: 4s - loss: 0.4035 - acc: 0.903 - ETA: 4s - loss: 0.4042 - acc: 0.902 - ETA: 4s - loss: 0.4051 - acc: 0.902 - ETA: 4s - loss: 0.4064 - acc: 0.902 - ETA: 4s - loss: 0.4057 - acc: 0.902 - ETA: 4s - loss: 0.4065 - acc: 0.901 - ETA: 4s - loss: 0.4081 - acc: 0.901 - ETA: 3s - loss: 0.4087 - acc: 0.901 - ETA: 3s - loss: 0.4109 - acc: 0.900 - ETA: 3s - loss: 0.4107 - acc: 0.900 - ETA: 3s - loss: 0.4104 - acc: 0.900 - ETA: 3s - loss: 0.4107 - acc: 0.900 - ETA: 3s - loss: 0.4115 - acc: 0.899 - ETA: 3s - loss: 0.4122 - acc: 0.899 - ETA: 3s - loss: 0.4126 - acc: 0.899 - ETA: 2s - loss: 0.4133 - acc: 0.898 - ETA: 2s - loss: 0.4138 - acc: 0.898 - ETA: 2s - loss: 0.4143 - acc: 0.898 - ETA: 2s - loss: 0.4148 - acc: 0.898 - ETA: 2s - loss: 0.4149 - acc: 0.898 - ETA: 2s - loss: 0.4150 - acc: 0.898 - ETA: 2s - loss: 0.4150 - acc: 0.898 - ETA: 1s - loss: 0.4156 - acc: 0.898 - ETA: 1s - loss: 0.4153 - acc: 0.898 - ETA: 1s - loss: 0.4169 - acc: 0.897 - ETA: 1s - loss: 0.4176 - acc: 0.897 - ETA: 1s - loss: 0.4181 - acc: 0.897 - ETA: 1s - loss: 0.4190 - acc: 0.897 - ETA: 1s - loss: 0.4196 - acc: 0.896 - ETA: 1s - loss: 0.4201 - acc: 0.896 - ETA: 0s - loss: 0.4208 - acc: 0.896 - ETA: 0s - loss: 0.4212 - acc: 0.895 - ETA: 0s - loss: 0.4216 - acc: 0.895 - ETA: 0s - loss: 0.4221 - acc: 0.895 - ETA: 0s - loss: 0.4227 - acc: 0.895 - ETA: 0s - loss: 0.4231 - acc: 0.894 - ETA: 0s - loss: 0.4231 - acc: 0.894 - ETA: 0s - loss: 0.4234 - acc: 0.894 - 10s 569us/step - loss: 0.4238 - acc: 0.8946 - val_loss: 2.5916 - val_acc: 0.6212\n",
      "Epoch 45/200\n",
      "18357/18357 [==============================] - ETA: 8s - loss: 0.4195 - acc: 0.899 - ETA: 8s - loss: 0.3970 - acc: 0.906 - ETA: 8s - loss: 0.3813 - acc: 0.912 - ETA: 8s - loss: 0.3831 - acc: 0.910 - ETA: 8s - loss: 0.3789 - acc: 0.910 - ETA: 8s - loss: 0.3822 - acc: 0.910 - ETA: 8s - loss: 0.3832 - acc: 0.909 - ETA: 8s - loss: 0.3813 - acc: 0.909 - ETA: 7s - loss: 0.3845 - acc: 0.907 - ETA: 7s - loss: 0.3831 - acc: 0.907 - ETA: 7s - loss: 0.3813 - acc: 0.908 - ETA: 7s - loss: 0.3852 - acc: 0.907 - ETA: 7s - loss: 0.3855 - acc: 0.906 - ETA: 7s - loss: 0.3867 - acc: 0.906 - ETA: 7s - loss: 0.3869 - acc: 0.906 - ETA: 7s - loss: 0.3846 - acc: 0.907 - ETA: 6s - loss: 0.3845 - acc: 0.906 - ETA: 6s - loss: 0.3843 - acc: 0.907 - ETA: 6s - loss: 0.3832 - acc: 0.907 - ETA: 6s - loss: 0.3831 - acc: 0.907 - ETA: 6s - loss: 0.3823 - acc: 0.907 - ETA: 6s - loss: 0.3827 - acc: 0.907 - ETA: 6s - loss: 0.3831 - acc: 0.907 - ETA: 5s - loss: 0.3832 - acc: 0.907 - ETA: 5s - loss: 0.3826 - acc: 0.907 - ETA: 5s - loss: 0.3844 - acc: 0.906 - ETA: 5s - loss: 0.3853 - acc: 0.906 - ETA: 5s - loss: 0.3864 - acc: 0.906 - ETA: 5s - loss: 0.3859 - acc: 0.906 - ETA: 5s - loss: 0.3874 - acc: 0.905 - ETA: 5s - loss: 0.3869 - acc: 0.905 - ETA: 5s - loss: 0.3868 - acc: 0.905 - ETA: 4s - loss: 0.3878 - acc: 0.905 - ETA: 4s - loss: 0.3897 - acc: 0.905 - ETA: 4s - loss: 0.3907 - acc: 0.904 - ETA: 4s - loss: 0.3906 - acc: 0.904 - ETA: 4s - loss: 0.3912 - acc: 0.904 - ETA: 4s - loss: 0.3918 - acc: 0.903 - ETA: 4s - loss: 0.3917 - acc: 0.903 - ETA: 4s - loss: 0.3919 - acc: 0.903 - ETA: 3s - loss: 0.3907 - acc: 0.904 - ETA: 3s - loss: 0.3909 - acc: 0.903 - ETA: 3s - loss: 0.3909 - acc: 0.903 - ETA: 3s - loss: 0.3916 - acc: 0.903 - ETA: 3s - loss: 0.3917 - acc: 0.903 - ETA: 3s - loss: 0.3929 - acc: 0.902 - ETA: 3s - loss: 0.3932 - acc: 0.902 - ETA: 3s - loss: 0.3949 - acc: 0.901 - ETA: 2s - loss: 0.3956 - acc: 0.901 - ETA: 2s - loss: 0.3961 - acc: 0.901 - ETA: 2s - loss: 0.3962 - acc: 0.901 - ETA: 2s - loss: 0.3969 - acc: 0.900 - ETA: 2s - loss: 0.3970 - acc: 0.900 - ETA: 2s - loss: 0.3979 - acc: 0.900 - ETA: 2s - loss: 0.3979 - acc: 0.900 - ETA: 1s - loss: 0.3986 - acc: 0.900 - ETA: 1s - loss: 0.3993 - acc: 0.899 - ETA: 1s - loss: 0.4007 - acc: 0.899 - ETA: 1s - loss: 0.4005 - acc: 0.899 - ETA: 1s - loss: 0.4003 - acc: 0.899 - ETA: 1s - loss: 0.4012 - acc: 0.899 - ETA: 1s - loss: 0.4019 - acc: 0.899 - ETA: 1s - loss: 0.4018 - acc: 0.899 - ETA: 0s - loss: 0.4020 - acc: 0.899 - ETA: 0s - loss: 0.4022 - acc: 0.898 - ETA: 0s - loss: 0.4034 - acc: 0.898 - ETA: 0s - loss: 0.4033 - acc: 0.898 - ETA: 0s - loss: 0.4028 - acc: 0.898 - ETA: 0s - loss: 0.4035 - acc: 0.898 - ETA: 0s - loss: 0.4036 - acc: 0.898 - ETA: 0s - loss: 0.4032 - acc: 0.898 - 10s 570us/step - loss: 0.4033 - acc: 0.8980 - val_loss: 2.5936 - val_acc: 0.6227\n",
      "Epoch 46/200\n"
     ]
    },
    {
     "name": "stdout",
     "output_type": "stream",
     "text": [
      "18357/18357 [==============================] - ETA: 8s - loss: 0.3671 - acc: 0.906 - ETA: 8s - loss: 0.3789 - acc: 0.902 - ETA: 8s - loss: 0.3654 - acc: 0.906 - ETA: 8s - loss: 0.3592 - acc: 0.911 - ETA: 8s - loss: 0.3592 - acc: 0.912 - ETA: 8s - loss: 0.3606 - acc: 0.914 - ETA: 8s - loss: 0.3582 - acc: 0.915 - ETA: 8s - loss: 0.3611 - acc: 0.913 - ETA: 8s - loss: 0.3641 - acc: 0.912 - ETA: 7s - loss: 0.3642 - acc: 0.912 - ETA: 7s - loss: 0.3629 - acc: 0.912 - ETA: 7s - loss: 0.3647 - acc: 0.911 - ETA: 7s - loss: 0.3610 - acc: 0.912 - ETA: 7s - loss: 0.3588 - acc: 0.913 - ETA: 7s - loss: 0.3615 - acc: 0.913 - ETA: 7s - loss: 0.3645 - acc: 0.912 - ETA: 6s - loss: 0.3639 - acc: 0.912 - ETA: 6s - loss: 0.3631 - acc: 0.912 - ETA: 6s - loss: 0.3624 - acc: 0.912 - ETA: 6s - loss: 0.3630 - acc: 0.911 - ETA: 6s - loss: 0.3633 - acc: 0.911 - ETA: 6s - loss: 0.3654 - acc: 0.910 - ETA: 6s - loss: 0.3630 - acc: 0.910 - ETA: 6s - loss: 0.3622 - acc: 0.911 - ETA: 5s - loss: 0.3642 - acc: 0.910 - ETA: 5s - loss: 0.3659 - acc: 0.910 - ETA: 5s - loss: 0.3668 - acc: 0.909 - ETA: 5s - loss: 0.3654 - acc: 0.910 - ETA: 5s - loss: 0.3643 - acc: 0.910 - ETA: 5s - loss: 0.3650 - acc: 0.910 - ETA: 5s - loss: 0.3652 - acc: 0.910 - ETA: 5s - loss: 0.3667 - acc: 0.909 - ETA: 4s - loss: 0.3672 - acc: 0.909 - ETA: 4s - loss: 0.3664 - acc: 0.909 - ETA: 4s - loss: 0.3690 - acc: 0.908 - ETA: 4s - loss: 0.3705 - acc: 0.908 - ETA: 4s - loss: 0.3710 - acc: 0.907 - ETA: 4s - loss: 0.3709 - acc: 0.907 - ETA: 4s - loss: 0.3714 - acc: 0.907 - ETA: 4s - loss: 0.3727 - acc: 0.907 - ETA: 3s - loss: 0.3728 - acc: 0.907 - ETA: 3s - loss: 0.3747 - acc: 0.906 - ETA: 3s - loss: 0.3748 - acc: 0.906 - ETA: 3s - loss: 0.3765 - acc: 0.905 - ETA: 3s - loss: 0.3760 - acc: 0.905 - ETA: 3s - loss: 0.3766 - acc: 0.905 - ETA: 3s - loss: 0.3768 - acc: 0.905 - ETA: 3s - loss: 0.3765 - acc: 0.905 - ETA: 2s - loss: 0.3768 - acc: 0.905 - ETA: 2s - loss: 0.3776 - acc: 0.905 - ETA: 2s - loss: 0.3785 - acc: 0.904 - ETA: 2s - loss: 0.3791 - acc: 0.904 - ETA: 2s - loss: 0.3796 - acc: 0.904 - ETA: 2s - loss: 0.3797 - acc: 0.904 - ETA: 2s - loss: 0.3797 - acc: 0.904 - ETA: 1s - loss: 0.3800 - acc: 0.904 - ETA: 1s - loss: 0.3803 - acc: 0.903 - ETA: 1s - loss: 0.3814 - acc: 0.903 - ETA: 1s - loss: 0.3817 - acc: 0.903 - ETA: 1s - loss: 0.3820 - acc: 0.903 - ETA: 1s - loss: 0.3824 - acc: 0.902 - ETA: 1s - loss: 0.3826 - acc: 0.902 - ETA: 1s - loss: 0.3827 - acc: 0.902 - ETA: 0s - loss: 0.3836 - acc: 0.902 - ETA: 0s - loss: 0.3843 - acc: 0.901 - ETA: 0s - loss: 0.3845 - acc: 0.901 - ETA: 0s - loss: 0.3849 - acc: 0.901 - ETA: 0s - loss: 0.3847 - acc: 0.901 - ETA: 0s - loss: 0.3847 - acc: 0.901 - ETA: 0s - loss: 0.3848 - acc: 0.901 - ETA: 0s - loss: 0.3853 - acc: 0.900 - 10s 567us/step - loss: 0.3849 - acc: 0.9009 - val_loss: 2.5941 - val_acc: 0.6242\n",
      "Epoch 47/200\n",
      "18357/18357 [==============================] - ETA: 8s - loss: 0.3570 - acc: 0.912 - ETA: 8s - loss: 0.3545 - acc: 0.909 - ETA: 8s - loss: 0.3390 - acc: 0.919 - ETA: 8s - loss: 0.3388 - acc: 0.917 - ETA: 8s - loss: 0.3388 - acc: 0.918 - ETA: 8s - loss: 0.3355 - acc: 0.919 - ETA: 8s - loss: 0.3348 - acc: 0.918 - ETA: 8s - loss: 0.3370 - acc: 0.918 - ETA: 7s - loss: 0.3372 - acc: 0.917 - ETA: 7s - loss: 0.3402 - acc: 0.916 - ETA: 7s - loss: 0.3432 - acc: 0.915 - ETA: 7s - loss: 0.3430 - acc: 0.915 - ETA: 7s - loss: 0.3406 - acc: 0.916 - ETA: 7s - loss: 0.3388 - acc: 0.917 - ETA: 7s - loss: 0.3429 - acc: 0.915 - ETA: 7s - loss: 0.3426 - acc: 0.916 - ETA: 6s - loss: 0.3421 - acc: 0.916 - ETA: 6s - loss: 0.3432 - acc: 0.916 - ETA: 6s - loss: 0.3460 - acc: 0.915 - ETA: 6s - loss: 0.3486 - acc: 0.914 - ETA: 6s - loss: 0.3497 - acc: 0.914 - ETA: 6s - loss: 0.3510 - acc: 0.913 - ETA: 6s - loss: 0.3514 - acc: 0.913 - ETA: 6s - loss: 0.3513 - acc: 0.913 - ETA: 5s - loss: 0.3514 - acc: 0.912 - ETA: 5s - loss: 0.3512 - acc: 0.912 - ETA: 5s - loss: 0.3507 - acc: 0.912 - ETA: 5s - loss: 0.3502 - acc: 0.912 - ETA: 5s - loss: 0.3506 - acc: 0.912 - ETA: 5s - loss: 0.3520 - acc: 0.911 - ETA: 5s - loss: 0.3517 - acc: 0.911 - ETA: 5s - loss: 0.3513 - acc: 0.911 - ETA: 4s - loss: 0.3529 - acc: 0.910 - ETA: 4s - loss: 0.3540 - acc: 0.910 - ETA: 4s - loss: 0.3536 - acc: 0.910 - ETA: 4s - loss: 0.3549 - acc: 0.909 - ETA: 4s - loss: 0.3551 - acc: 0.909 - ETA: 4s - loss: 0.3555 - acc: 0.909 - ETA: 4s - loss: 0.3558 - acc: 0.909 - ETA: 3s - loss: 0.3563 - acc: 0.909 - ETA: 3s - loss: 0.3568 - acc: 0.908 - ETA: 3s - loss: 0.3577 - acc: 0.908 - ETA: 3s - loss: 0.3571 - acc: 0.908 - ETA: 3s - loss: 0.3571 - acc: 0.908 - ETA: 3s - loss: 0.3574 - acc: 0.907 - ETA: 3s - loss: 0.3581 - acc: 0.907 - ETA: 3s - loss: 0.3595 - acc: 0.907 - ETA: 2s - loss: 0.3597 - acc: 0.907 - ETA: 2s - loss: 0.3597 - acc: 0.907 - ETA: 2s - loss: 0.3599 - acc: 0.907 - ETA: 2s - loss: 0.3606 - acc: 0.906 - ETA: 2s - loss: 0.3613 - acc: 0.906 - ETA: 2s - loss: 0.3618 - acc: 0.906 - ETA: 2s - loss: 0.3629 - acc: 0.905 - ETA: 2s - loss: 0.3623 - acc: 0.905 - ETA: 1s - loss: 0.3623 - acc: 0.905 - ETA: 1s - loss: 0.3629 - acc: 0.905 - ETA: 1s - loss: 0.3629 - acc: 0.905 - ETA: 1s - loss: 0.3639 - acc: 0.905 - ETA: 1s - loss: 0.3640 - acc: 0.905 - ETA: 1s - loss: 0.3645 - acc: 0.904 - ETA: 1s - loss: 0.3646 - acc: 0.904 - ETA: 1s - loss: 0.3647 - acc: 0.904 - ETA: 0s - loss: 0.3655 - acc: 0.904 - ETA: 0s - loss: 0.3651 - acc: 0.904 - ETA: 0s - loss: 0.3659 - acc: 0.904 - ETA: 0s - loss: 0.3666 - acc: 0.904 - ETA: 0s - loss: 0.3670 - acc: 0.903 - ETA: 0s - loss: 0.3672 - acc: 0.903 - ETA: 0s - loss: 0.3670 - acc: 0.903 - ETA: 0s - loss: 0.3675 - acc: 0.903 - 10s 562us/step - loss: 0.3677 - acc: 0.9036 - val_loss: 2.6092 - val_acc: 0.6230\n",
      "Epoch 48/200\n"
     ]
    },
    {
     "name": "stdout",
     "output_type": "stream",
     "text": [
      "18357/18357 [==============================] - ETA: 9s - loss: 0.3326 - acc: 0.908 - ETA: 8s - loss: 0.3403 - acc: 0.914 - ETA: 8s - loss: 0.3352 - acc: 0.914 - ETA: 8s - loss: 0.3316 - acc: 0.916 - ETA: 8s - loss: 0.3335 - acc: 0.915 - ETA: 8s - loss: 0.3345 - acc: 0.915 - ETA: 8s - loss: 0.3409 - acc: 0.913 - ETA: 8s - loss: 0.3387 - acc: 0.914 - ETA: 7s - loss: 0.3369 - acc: 0.915 - ETA: 7s - loss: 0.3393 - acc: 0.915 - ETA: 7s - loss: 0.3360 - acc: 0.915 - ETA: 7s - loss: 0.3337 - acc: 0.916 - ETA: 7s - loss: 0.3317 - acc: 0.916 - ETA: 7s - loss: 0.3337 - acc: 0.915 - ETA: 7s - loss: 0.3334 - acc: 0.916 - ETA: 6s - loss: 0.3316 - acc: 0.917 - ETA: 6s - loss: 0.3294 - acc: 0.917 - ETA: 6s - loss: 0.3305 - acc: 0.916 - ETA: 6s - loss: 0.3334 - acc: 0.915 - ETA: 6s - loss: 0.3328 - acc: 0.915 - ETA: 6s - loss: 0.3310 - acc: 0.916 - ETA: 6s - loss: 0.3321 - acc: 0.915 - ETA: 6s - loss: 0.3324 - acc: 0.915 - ETA: 6s - loss: 0.3313 - acc: 0.916 - ETA: 5s - loss: 0.3309 - acc: 0.916 - ETA: 5s - loss: 0.3316 - acc: 0.916 - ETA: 5s - loss: 0.3315 - acc: 0.915 - ETA: 5s - loss: 0.3334 - acc: 0.915 - ETA: 5s - loss: 0.3334 - acc: 0.915 - ETA: 5s - loss: 0.3338 - acc: 0.915 - ETA: 5s - loss: 0.3355 - acc: 0.914 - ETA: 5s - loss: 0.3357 - acc: 0.913 - ETA: 4s - loss: 0.3353 - acc: 0.914 - ETA: 4s - loss: 0.3356 - acc: 0.913 - ETA: 4s - loss: 0.3355 - acc: 0.913 - ETA: 4s - loss: 0.3359 - acc: 0.913 - ETA: 4s - loss: 0.3368 - acc: 0.913 - ETA: 4s - loss: 0.3368 - acc: 0.912 - ETA: 4s - loss: 0.3377 - acc: 0.912 - ETA: 4s - loss: 0.3375 - acc: 0.912 - ETA: 3s - loss: 0.3380 - acc: 0.912 - ETA: 3s - loss: 0.3389 - acc: 0.912 - ETA: 3s - loss: 0.3392 - acc: 0.911 - ETA: 3s - loss: 0.3399 - acc: 0.911 - ETA: 3s - loss: 0.3401 - acc: 0.911 - ETA: 3s - loss: 0.3399 - acc: 0.911 - ETA: 3s - loss: 0.3397 - acc: 0.911 - ETA: 2s - loss: 0.3415 - acc: 0.911 - ETA: 2s - loss: 0.3409 - acc: 0.911 - ETA: 2s - loss: 0.3414 - acc: 0.911 - ETA: 2s - loss: 0.3428 - acc: 0.910 - ETA: 2s - loss: 0.3438 - acc: 0.910 - ETA: 2s - loss: 0.3448 - acc: 0.909 - ETA: 2s - loss: 0.3454 - acc: 0.909 - ETA: 2s - loss: 0.3466 - acc: 0.908 - ETA: 1s - loss: 0.3463 - acc: 0.908 - ETA: 1s - loss: 0.3472 - acc: 0.908 - ETA: 1s - loss: 0.3469 - acc: 0.908 - ETA: 1s - loss: 0.3471 - acc: 0.908 - ETA: 1s - loss: 0.3472 - acc: 0.908 - ETA: 1s - loss: 0.3477 - acc: 0.908 - ETA: 1s - loss: 0.3480 - acc: 0.908 - ETA: 1s - loss: 0.3482 - acc: 0.908 - ETA: 0s - loss: 0.3489 - acc: 0.907 - ETA: 0s - loss: 0.3495 - acc: 0.907 - ETA: 0s - loss: 0.3496 - acc: 0.907 - ETA: 0s - loss: 0.3497 - acc: 0.907 - ETA: 0s - loss: 0.3502 - acc: 0.907 - ETA: 0s - loss: 0.3504 - acc: 0.907 - ETA: 0s - loss: 0.3507 - acc: 0.906 - ETA: 0s - loss: 0.3509 - acc: 0.906 - 10s 563us/step - loss: 0.3513 - acc: 0.9066 - val_loss: 2.6187 - val_acc: 0.6228\n",
      "Epoch 49/200\n",
      "18357/18357 [==============================] - ETA: 8s - loss: 0.3105 - acc: 0.925 - ETA: 8s - loss: 0.3196 - acc: 0.920 - ETA: 8s - loss: 0.3164 - acc: 0.923 - ETA: 8s - loss: 0.3104 - acc: 0.924 - ETA: 8s - loss: 0.3060 - acc: 0.925 - ETA: 8s - loss: 0.3121 - acc: 0.922 - ETA: 8s - loss: 0.3127 - acc: 0.921 - ETA: 8s - loss: 0.3142 - acc: 0.918 - ETA: 7s - loss: 0.3124 - acc: 0.919 - ETA: 7s - loss: 0.3160 - acc: 0.918 - ETA: 7s - loss: 0.3169 - acc: 0.917 - ETA: 7s - loss: 0.3163 - acc: 0.917 - ETA: 7s - loss: 0.3172 - acc: 0.916 - ETA: 7s - loss: 0.3166 - acc: 0.916 - ETA: 7s - loss: 0.3183 - acc: 0.916 - ETA: 6s - loss: 0.3187 - acc: 0.916 - ETA: 6s - loss: 0.3181 - acc: 0.916 - ETA: 6s - loss: 0.3197 - acc: 0.916 - ETA: 6s - loss: 0.3200 - acc: 0.916 - ETA: 6s - loss: 0.3223 - acc: 0.915 - ETA: 6s - loss: 0.3215 - acc: 0.915 - ETA: 6s - loss: 0.3222 - acc: 0.914 - ETA: 6s - loss: 0.3232 - acc: 0.914 - ETA: 5s - loss: 0.3234 - acc: 0.914 - ETA: 5s - loss: 0.3233 - acc: 0.914 - ETA: 5s - loss: 0.3235 - acc: 0.914 - ETA: 5s - loss: 0.3228 - acc: 0.914 - ETA: 5s - loss: 0.3240 - acc: 0.914 - ETA: 5s - loss: 0.3233 - acc: 0.915 - ETA: 5s - loss: 0.3247 - acc: 0.914 - ETA: 5s - loss: 0.3254 - acc: 0.914 - ETA: 4s - loss: 0.3249 - acc: 0.914 - ETA: 4s - loss: 0.3252 - acc: 0.914 - ETA: 4s - loss: 0.3255 - acc: 0.913 - ETA: 4s - loss: 0.3267 - acc: 0.913 - ETA: 4s - loss: 0.3270 - acc: 0.912 - ETA: 4s - loss: 0.3264 - acc: 0.913 - ETA: 4s - loss: 0.3257 - acc: 0.913 - ETA: 4s - loss: 0.3263 - acc: 0.912 - ETA: 3s - loss: 0.3267 - acc: 0.912 - ETA: 3s - loss: 0.3265 - acc: 0.912 - ETA: 3s - loss: 0.3267 - acc: 0.912 - ETA: 3s - loss: 0.3268 - acc: 0.912 - ETA: 3s - loss: 0.3268 - acc: 0.912 - ETA: 3s - loss: 0.3269 - acc: 0.912 - ETA: 3s - loss: 0.3275 - acc: 0.912 - ETA: 3s - loss: 0.3275 - acc: 0.912 - ETA: 2s - loss: 0.3283 - acc: 0.911 - ETA: 2s - loss: 0.3279 - acc: 0.911 - ETA: 2s - loss: 0.3287 - acc: 0.911 - ETA: 2s - loss: 0.3295 - acc: 0.911 - ETA: 2s - loss: 0.3296 - acc: 0.911 - ETA: 2s - loss: 0.3299 - acc: 0.910 - ETA: 2s - loss: 0.3300 - acc: 0.910 - ETA: 2s - loss: 0.3303 - acc: 0.910 - ETA: 1s - loss: 0.3311 - acc: 0.910 - ETA: 1s - loss: 0.3322 - acc: 0.909 - ETA: 1s - loss: 0.3317 - acc: 0.910 - ETA: 1s - loss: 0.3332 - acc: 0.909 - ETA: 1s - loss: 0.3340 - acc: 0.909 - ETA: 1s - loss: 0.3338 - acc: 0.909 - ETA: 1s - loss: 0.3340 - acc: 0.909 - ETA: 1s - loss: 0.3341 - acc: 0.909 - ETA: 0s - loss: 0.3347 - acc: 0.908 - ETA: 0s - loss: 0.3349 - acc: 0.908 - ETA: 0s - loss: 0.3353 - acc: 0.908 - ETA: 0s - loss: 0.3357 - acc: 0.908 - ETA: 0s - loss: 0.3363 - acc: 0.907 - ETA: 0s - loss: 0.3370 - acc: 0.907 - ETA: 0s - loss: 0.3371 - acc: 0.907 - ETA: 0s - loss: 0.3381 - acc: 0.907 - 10s 566us/step - loss: 0.3381 - acc: 0.9070 - val_loss: 2.6148 - val_acc: 0.6221\n"
     ]
    }
   ],
   "source": [
    "# Computing inputs for `create_model`\n",
    "input_n = len(eng_word_to_ix)\n",
    "output_n = len(spa_word_to_ix)\n",
    "X_seq_len = len(X[0])\n",
    "Y_seq_len = Y_onehot.shape[1]\n",
    "\n",
    "# Create the model\n",
    "# YOUR CODE HERE\n",
    "model = create_model(input_n, X_seq_len, output_n, Y_seq_len, 256, 512)\n",
    "\n",
    "# Train the model (note that you should feed both the input sentence and a zero array with the correct shape to\n",
    "# the `fit` method).\n",
    "# YOUR CODE HERE\n",
    "from keras.callbacks import ModelCheckpoint, EarlyStopping\n",
    "mc = ModelCheckpoint('./models/best_model.h5', monitor='val_loss', save_best_only=True)\n",
    "estop = EarlyStopping(monitor='val_acc', patience=3)\n",
    "model.fit(x=[X, np.zeros(X.shape[0])], y=Y_onehot, epochs=200, batch_size=256, validation_split=0.2, callbacks=[mc, estop])\n",
    "model.save_weights('seq2seq_model_correct.hdf5')\n",
    "\n",
    "# If you need, you can use the following line for loading a saved model weights\n",
    "#model.load_weights('seq2seq_model.hdf5')"
   ]
  },
  {
   "cell_type": "markdown",
   "metadata": {
    "deletable": false,
    "editable": false,
    "nbgrader": {
     "checksum": "60f558a2b0a63756c5ac087989c5350e",
     "grade": false,
     "grade_id": "cell-4411359602a0cb69",
     "locked": true,
     "schema_version": 1,
     "solution": false
    }
   },
   "source": [
    "#### 2.2.3 Evaluation <a class=\"anchor\" id=\"2.2.3\"></a>\n",
    "You are free to evaluate and compare results of your model(s) in any way you have learned from the deep learning course.  \n",
    "\n",
    "Now motivate your choice of architecture and hyperparameters by answering the questions below."
   ]
  },
  {
   "cell_type": "markdown",
   "metadata": {
    "deletable": false,
    "editable": false,
    "nbgrader": {
     "checksum": "2c0c7acfbf28dcfb876fb8259a44e89b",
     "grade": false,
     "grade_id": "cell-5440fa7a5a785784",
     "locked": true,
     "schema_version": 1,
     "solution": false
    }
   },
   "source": [
    "**Question:** What loss function, metrics and optimizer did you use and why?"
   ]
  },
  {
   "cell_type": "markdown",
   "metadata": {
    "deletable": false,
    "nbgrader": {
     "checksum": "423b493471e8b0d54142e1bab890c791",
     "grade": true,
     "grade_id": "cell-369f4073de21366f",
     "locked": false,
     "points": 0,
     "schema_version": 1,
     "solution": true
    }
   },
   "source": [
    "**Your answer:** The problem of machine translation is similar to the problem of multi-class classification, where the number of words in the vocabulary is the number of categories that we have. So at each timestep, we want to predict the same class as the ground truth. For this reason, we want to use categorical cross entropy as the loss function that we want to optimize. We set the hidden_dim to 5, because each input sentence contains maximum 5 words. According to the LSTM equations, the number of timesteps is equal to the number of inputs, which is why it is reasonable to set it to 5. As for the embedding dimension, we looked online and found a rule of thumb from [Quora](https://www.quora.com/How-do-I-determine-the-number-of-dimensions-for-word-embedding) that the typical word embedding size is around 128. So we just use that number for training. Adam is the most stable and fast optimizer that we have learned so far."
   ]
  },
  {
   "cell_type": "markdown",
   "metadata": {
    "deletable": false,
    "editable": false,
    "nbgrader": {
     "checksum": "bff435770aa8062226c9b3895a1f6a96",
     "grade": false,
     "grade_id": "cell-b3a5072f283d1dbd",
     "locked": true,
     "schema_version": 1,
     "solution": false
    }
   },
   "source": [
    "**Question:** Did you use any Keras callbacks? If so, how did they help you?"
   ]
  },
  {
   "cell_type": "markdown",
   "metadata": {
    "deletable": false,
    "nbgrader": {
     "checksum": "de7542f0702ad21a0adf46d99618ca84",
     "grade": true,
     "grade_id": "cell-707212a45931de41",
     "locked": false,
     "points": 0,
     "schema_version": 1,
     "solution": true
    }
   },
   "source": [
    "**Your answer:** We used Early Stopping and Model Checkpoint. Early stopping is to stop the training when the validation accuracy drops, thus preventing overfitting. And the model checkpoint is to store the best one if we need to stop the training due to time restriction."
   ]
  },
  {
   "cell_type": "markdown",
   "metadata": {
    "deletable": false,
    "editable": false,
    "nbgrader": {
     "checksum": "210021597f4c858f6a2509a7397351f4",
     "grade": false,
     "grade_id": "cell-a563bc3066bdc5ad",
     "locked": true,
     "schema_version": 1,
     "solution": false
    }
   },
   "source": [
    "**Question:** How did you evaluate that the model was good enough?"
   ]
  },
  {
   "cell_type": "markdown",
   "metadata": {
    "deletable": false,
    "nbgrader": {
     "checksum": "c7db7d78e789f3703545dc6ab75f9728",
     "grade": true,
     "grade_id": "cell-2de00c740a7a8a5f",
     "locked": false,
     "points": 0,
     "schema_version": 1,
     "solution": true
    }
   },
   "source": [
    "**Your answer:** Well, we use 20% of the entire dataset for validation."
   ]
  },
  {
   "cell_type": "markdown",
   "metadata": {
    "deletable": false,
    "editable": false,
    "nbgrader": {
     "checksum": "6d1c1c8df33ecb29a306280ddc562384",
     "grade": false,
     "grade_id": "cell-c70fa415812abf8b",
     "locked": true,
     "schema_version": 1,
     "solution": false
    }
   },
   "source": [
    "#### 2.2.4 Testing <a class=\"anchor\" id=\"2.2.4\"></a>\n",
    "Test your neural machine translator on a few sentences by running the test case below. The similarity metric is calculated comparing word embeddings.  \n",
    "\n",
    "You can also use the function `translate` to try your own sentences, just remember that every word needs to be in the vocabulary!"
   ]
  },
  {
   "cell_type": "code",
   "execution_count": 14,
   "metadata": {
    "deletable": false,
    "nbgrader": {
     "checksum": "552a75386c2d6110b5331dada6f9c689",
     "grade": true,
     "grade_id": "cell-e96abd2e0fbbae6d",
     "locked": false,
     "points": 0,
     "schema_version": 1,
     "solution": true
    }
   },
   "outputs": [],
   "source": [
    "def translate(sentence):\n",
    "    \"\"\" Translate a sentence using `model`. `model` is assumed to be a global variable.\n",
    "    \n",
    "    Arguments:\n",
    "    sentence - a string to translate\n",
    "    \n",
    "    Returns:\n",
    "    the translated sentence as a string\n",
    "    \"\"\"\n",
    "    \n",
    "    # Check that each of the words in the input sentence exist in the input dictionary\n",
    "    try:\n",
    "        x = [eng_word_to_ix[word] for word in sentence.split(' ')]\n",
    "    except KeyError as e: \n",
    "        print('{0} doesn\\'t exist in the vocabulary!'.format(e))\n",
    "        \n",
    "    # Pad the input sentence\n",
    "    x = pad_sequences([x], maxlen=SEQ_MAX_LEN, dtype='int32')\n",
    "    \n",
    "    # YOUR CODE HERE\n",
    "    from keras.models import load_model\n",
    "    model = load_model('./models/best_model.h5')\n",
    "    ans = model.predict([x, np.zeros(x.shape[0])])\n",
    "    ans = ans.reshape(ans.shape[1], ans.shape[2])\n",
    "    ans = np.argmax(ans, axis=1)\n",
    "    y_pred_words = ' '.join(spa_ix_to_word[ind] for ind in ans if ind != 0)\n",
    "    \n",
    "    return y_pred_words\n"
   ]
  },
  {
   "cell_type": "code",
   "execution_count": null,
   "metadata": {
    "deletable": false,
    "editable": false,
    "nbgrader": {
     "checksum": "96ed353059f01b613aae6682d7b936c8",
     "grade": false,
     "grade_id": "cell-6301fda0cbde1746",
     "locked": true,
     "schema_version": 1,
     "solution": false
    }
   },
   "outputs": [],
   "source": [
    "# test case. be sure the variable model has a reference to your trained model\n",
    "test_predictions(translate, eng_word_to_ix, spa_ix_to_word, SEQ_MAX_LEN, model)"
   ]
  },
  {
   "cell_type": "code",
   "execution_count": null,
   "metadata": {},
   "outputs": [],
   "source": [
    "# test for yourself\n",
    "print(translate('this is a dog .'))"
   ]
  },
  {
   "cell_type": "code",
   "execution_count": null,
   "metadata": {},
   "outputs": [],
   "source": [
    "print(translate('she love apples .'))"
   ]
  },
  {
   "cell_type": "code",
   "execution_count": null,
   "metadata": {},
   "outputs": [],
   "source": [
    "print(translate('he opened the window .'))"
   ]
  },
  {
   "cell_type": "code",
   "execution_count": null,
   "metadata": {},
   "outputs": [],
   "source": [
    "print(translate('this is working well .'))"
   ]
  },
  {
   "cell_type": "code",
   "execution_count": null,
   "metadata": {},
   "outputs": [],
   "source": [
    "print(translate('i am a great student .'))"
   ]
  },
  {
   "cell_type": "markdown",
   "metadata": {
    "deletable": false,
    "editable": false,
    "nbgrader": {
     "checksum": "a6ca7937953dd9f99a480ffe2a74e426",
     "grade": false,
     "grade_id": "cell-874b0d3a8d72aaa6",
     "locked": true,
     "schema_version": 1,
     "solution": false
    }
   },
   "source": [
    "## Congratulations!\n",
    "You have successfully implemented a recurrent neural network from scratch using only NumPy and also implemented a neural machine translator using Keras!\n",
    "\n",
    "When choosing the architecture for your neural machine translator you are partly restricted from the capabilities of Keras and partly restricted from your available computing power.  \n",
    "\n",
    "**Question:** Give 3 suggestions for different techniques that can be used to improve your neural machine translator."
   ]
  },
  {
   "cell_type": "markdown",
   "metadata": {
    "deletable": false,
    "nbgrader": {
     "checksum": "0945de0b3c8d25a9bca06c96f6717ce9",
     "grade": true,
     "grade_id": "cell-1b51b4c3f80a3c02",
     "locked": false,
     "points": 0,
     "schema_version": 1,
     "solution": true
    }
   },
   "source": [
    "**Your answer:** Our 3 suggestions are: Stacking LSTMs (with more layers), Adding regularization (to reduce the variance, and thus overfitting), and Using transfer learning.\n",
    "\n",
    "Stacking LSTMs means that we add more LSTMs layers on top of each other. This gives us the ability to capture non-linearity of machine translation.\n",
    "\n",
    "The reason why regularization might help is because our results seem a bit overfit. We could use something like L2 regularizations, to make sure that the values of the parameters are small"
   ]
  }
 ],
 "metadata": {
  "kernelspec": {
   "display_name": "Python 3",
   "language": "python",
   "name": "python3"
  },
  "language_info": {
   "codemirror_mode": {
    "name": "ipython",
    "version": 3
   },
   "file_extension": ".py",
   "mimetype": "text/x-python",
   "name": "python",
   "nbconvert_exporter": "python",
   "pygments_lexer": "ipython3",
   "version": "3.6.3"
  }
 },
 "nbformat": 4,
 "nbformat_minor": 2
}
